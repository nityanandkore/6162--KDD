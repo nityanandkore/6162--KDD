{
 "cells": [
  {
   "cell_type": "code",
   "execution_count": 1,
   "metadata": {},
   "outputs": [
    {
     "name": "stderr",
     "output_type": "stream",
     "text": [
      "Downloading 20news dataset. This may take a few minutes.\n",
      "Downloading dataset from https://ndownloader.figshare.com/files/5975967 (14 MB)\n"
     ]
    }
   ],
   "source": [
    "#We are accessing a built in dataset called 20NG dataset, which contains 18,000 news posts on 20 categories. We will only use 4-category subset in this demo.\n",
    "from sklearn.datasets import fetch_20newsgroups\n",
    "import numpy as np\n",
    "\n",
    "categories = [\n",
    "    'alt.atheism',\n",
    "    'talk.religion.misc',\n",
    "    'comp.graphics',\n",
    "    'sci.space',\n",
    "]\n",
    "\n",
    "dataset = fetch_20newsgroups(subset='all', categories=categories, shuffle=True, random_state=42)\n",
    "\n",
    "labels = dataset.target\n",
    "true_k = np.unique(labels).shape[0]\n",
    "data = dataset.data  "
   ]
  },
  {
   "cell_type": "code",
   "execution_count": 3,
   "metadata": {},
   "outputs": [
    {
     "data": {
      "text/plain": [
       "(3387,)"
      ]
     },
     "execution_count": 3,
     "metadata": {},
     "output_type": "execute_result"
    }
   ],
   "source": [
    "labels.shape"
   ]
  },
  {
   "cell_type": "code",
   "execution_count": 5,
   "metadata": {},
   "outputs": [
    {
     "data": {
      "text/plain": [
       "list"
      ]
     },
     "execution_count": 5,
     "metadata": {},
     "output_type": "execute_result"
    }
   ],
   "source": [
    "type(data)"
   ]
  },
  {
   "cell_type": "code",
   "execution_count": 6,
   "metadata": {},
   "outputs": [],
   "source": [
    "# This is to vectorize the text corpus. After these codes, the X object will be the input vector for machine learning models.\n",
    "# When transform into vectors, we do NOT use the raw count of a word in a document. Instead, we use the word's tf-idf score in a document.\n",
    "# max_df=0.5 means ingoring words that appear in more than 50% of the documents; min_df=2 means ignoring words that appear in less than 2 documents.\n",
    "from sklearn.feature_extraction.text import TfidfVectorizer\n",
    "\n",
    "vectorizer = TfidfVectorizer(max_df=0.5, min_df=2, stop_words='english', use_idf=True)\n",
    "\n",
    "X = vectorizer.fit_transform(data)"
   ]
  },
  {
   "cell_type": "code",
   "execution_count": 7,
   "metadata": {},
   "outputs": [],
   "source": [
    "#X in the previuos step is hidimentional data, we need to use some dimentionality reduction technique. In this case, we will use SVD (Singular Value Decomposition), which is a common matrix decomposition technique.\n",
    "#We want to reduce the dimentionality to 5.\n",
    "#We have to re-normalize after we run our SVD on the dataset.\n",
    "from sklearn.pipeline import make_pipeline\n",
    "from sklearn.decomposition import TruncatedSVD\n",
    "from sklearn.preprocessing import Normalizer\n",
    "\n",
    "n_components = 5\n",
    "svd = TruncatedSVD(n_components)\n",
    "normalizer = Normalizer(copy=False)\n",
    "lsa = make_pipeline(svd, normalizer)\n",
    "\n",
    "X = lsa.fit_transform(X)"
   ]
  },
  {
   "cell_type": "code",
   "execution_count": 8,
   "metadata": {},
   "outputs": [
    {
     "data": {
      "text/plain": [
       "(3387, 5)"
      ]
     },
     "execution_count": 8,
     "metadata": {},
     "output_type": "execute_result"
    }
   ],
   "source": [
    "X.shape"
   ]
  },
  {
   "cell_type": "code",
   "execution_count": 9,
   "metadata": {},
   "outputs": [],
   "source": [
    "#Randomly select 80% (3387*80% = 2710) rows from X as the training set\n",
    "import numpy as np\n",
    "training_idx = np.random.choice(X.shape[0], size=2710, replace=False)\n",
    "X_training = X[training_idx, :]"
   ]
  },
  {
   "cell_type": "code",
   "execution_count": 10,
   "metadata": {},
   "outputs": [],
   "source": [
    "#The remaining is the test set\n",
    "test_idx = list(set(range(X.shape[0])) - set(training_idx))\n",
    "X_test = X[test_idx, :]"
   ]
  },
  {
   "cell_type": "code",
   "execution_count": 11,
   "metadata": {},
   "outputs": [],
   "source": [
    "#The same split for the labels list\n",
    "labels_training = [labels[i] for i in training_idx]\n",
    "labels_test = [labels[j] for j in test_idx]"
   ]
  },
  {
   "cell_type": "code",
   "execution_count": 12,
   "metadata": {},
   "outputs": [
    {
     "data": {
      "text/plain": [
       "GaussianNB(priors=None, var_smoothing=1e-09)"
      ]
     },
     "execution_count": 12,
     "metadata": {},
     "output_type": "execute_result"
    }
   ],
   "source": [
    "#This is to use Naive Bayes Classifier to predict the label of each news article.\n",
    "from sklearn.naive_bayes import GaussianNB\n",
    "gnb = GaussianNB()\n",
    "gnb.fit(X_training, labels_training)"
   ]
  },
  {
   "cell_type": "code",
   "execution_count": 11,
   "metadata": {
    "scrolled": true
   },
   "outputs": [
    {
     "data": {
      "text/plain": [
       "array([1, 3, 1, 1, 3, 2, 2, 1, 2, 1, 0, 1, 0, 2, 3, 2, 2, 2, 3, 0, 2, 2,\n",
       "       2, 0, 3, 1, 0, 2, 1, 3, 3, 3, 0, 1, 0, 0, 0, 1, 2, 2, 2, 2, 2, 2,\n",
       "       0, 2, 1, 3, 2, 1, 1, 1, 0, 0, 1, 1, 3, 2, 3, 3, 0, 0, 1, 3, 1, 3,\n",
       "       2, 3, 2, 2, 0, 3, 1, 2, 1, 0, 0, 3, 3, 1, 3, 1, 3, 0, 3, 2, 0, 0,\n",
       "       0, 1, 3, 2, 1, 3, 0, 2, 1, 0, 0, 2, 2, 3, 3, 0, 2, 2, 1, 0, 1, 1,\n",
       "       0, 2, 0, 3, 1, 0, 3, 3, 1, 3, 1, 0, 2, 1, 2, 2, 3, 0, 0, 0, 0, 0,\n",
       "       0, 2, 3, 1, 3, 2, 2, 2, 0, 3, 0, 0, 2, 2, 1, 1, 2, 2, 3, 1, 3, 0,\n",
       "       0, 1, 1, 0, 3, 1, 0, 3, 1, 3, 0, 1, 2, 1, 1, 2, 3, 3, 3, 1, 1, 1,\n",
       "       1, 1, 1, 0, 2, 2, 1, 1, 2, 0, 0, 0, 1, 1, 2, 3, 2, 1, 1, 0, 1, 0,\n",
       "       2, 1, 2, 0, 1, 1, 1, 2, 3, 2, 1, 2, 2, 0, 3, 2, 0, 1, 0, 2, 2, 0,\n",
       "       3, 0, 0, 1, 0, 0, 1, 2, 3, 3, 0, 1, 2, 0, 1, 2, 1, 0, 0, 3, 2, 0,\n",
       "       0, 1, 0, 2, 0, 2, 0, 0, 2, 0, 3, 2, 1, 1, 2, 1, 1, 0, 2, 1, 2, 1,\n",
       "       2, 0, 3, 1, 0, 0, 3, 1, 0, 2, 2, 0, 2, 1, 3, 0, 0, 3, 3, 1, 1, 1,\n",
       "       0, 1, 0, 2, 0, 0, 2, 0, 3, 2, 3, 2, 0, 2, 2, 1, 3, 2, 0, 2, 2, 1,\n",
       "       2, 1, 3, 0, 0, 2, 0, 0, 3, 3, 0, 1, 0, 1, 0, 2, 0, 0, 0, 2, 2, 3,\n",
       "       1, 1, 3, 0, 1, 0, 2, 1, 1, 2, 0, 1, 2, 1, 1, 2, 1, 0, 3, 1, 0, 1,\n",
       "       1, 2, 2, 2, 3, 1, 0, 0, 2, 2, 0, 2, 2, 0, 0, 0, 2, 0, 2, 2, 1, 3,\n",
       "       1, 0, 2, 0, 2, 1, 3, 0, 1, 0, 3, 1, 2, 3, 2, 0, 2, 1, 1, 1, 3, 0,\n",
       "       1, 0, 0, 1, 1, 2, 3, 0, 3, 2, 1, 2, 1, 2, 2, 2, 1, 3, 0, 1, 1, 2,\n",
       "       2, 2, 0, 2, 1, 2, 1, 1, 0, 2, 2, 2, 3, 1, 1, 1, 2, 3, 0, 0, 1, 3,\n",
       "       2, 3, 0, 0, 1, 3, 2, 3, 3, 1, 2, 0, 0, 1, 2, 3, 0, 3, 3, 3, 1, 0,\n",
       "       3, 3, 3, 1, 3, 0, 1, 3, 3, 1, 0, 0, 3, 1, 3, 0, 2, 0, 1, 1, 0, 1,\n",
       "       2, 3, 1, 1, 0, 2, 2, 2, 2, 3, 0, 3, 1, 1, 0, 1, 2, 0, 0, 2, 3, 3,\n",
       "       1, 0, 1, 2, 3, 3, 2, 0, 1, 2, 0, 3, 0, 1, 1, 2, 0, 2, 0, 0, 1, 0,\n",
       "       1, 0, 3, 3, 1, 2, 3, 1, 1, 1, 0, 0, 3, 0, 2, 1, 2, 1, 2, 2, 0, 1,\n",
       "       0, 3, 2, 2, 2, 1, 3, 3, 2, 3, 1, 2, 2, 2, 1, 3, 3, 2, 1, 1, 1, 1,\n",
       "       0, 2, 2, 2, 2, 1, 1, 1, 2, 0, 3, 3, 3, 2, 2, 1, 3, 1, 2, 1, 0, 2,\n",
       "       3, 2, 2, 1, 2, 1, 3, 2, 2, 2, 1, 2, 0, 1, 3, 2, 0, 3, 2, 2, 2, 3,\n",
       "       1, 2, 0, 0, 1, 1, 1, 3, 3, 2, 3, 1, 0, 3, 1, 0, 0, 3, 3, 1, 2, 1,\n",
       "       2, 0, 3, 1, 1, 0, 0, 2, 0, 2, 2, 0, 2, 0, 2, 1, 1, 0, 2, 1, 3, 3,\n",
       "       1, 2, 3, 1, 1, 1, 1, 2, 1, 2, 1, 2, 2, 3, 2, 0, 1])"
      ]
     },
     "execution_count": 11,
     "metadata": {},
     "output_type": "execute_result"
    }
   ],
   "source": [
    "#This is the prediction result.\n",
    "gnb.predict(X_test)"
   ]
  },
  {
   "cell_type": "code",
   "execution_count": 12,
   "metadata": {},
   "outputs": [
    {
     "data": {
      "text/plain": [
       "array([[106,   4,   2,  58],\n",
       "       [  2, 179,   7,   2],\n",
       "       [  2,   5, 178,   3],\n",
       "       [ 52,   4,   3,  70]])"
      ]
     },
     "execution_count": 12,
     "metadata": {},
     "output_type": "execute_result"
    }
   ],
   "source": [
    "#This is the confusion matrix.\n",
    "import sklearn.metrics\n",
    "sklearn.metrics.confusion_matrix(gnb.predict(X_test),labels_test)"
   ]
  },
  {
   "cell_type": "code",
   "execution_count": 13,
   "metadata": {},
   "outputs": [
    {
     "data": {
      "text/plain": [
       "0.7872968980797637"
      ]
     },
     "execution_count": 13,
     "metadata": {},
     "output_type": "execute_result"
    }
   ],
   "source": [
    "#This is the accuracy score.\n",
    "sklearn.metrics.accuracy_score(gnb.predict(X_test),labels_test)"
   ]
  },
  {
   "cell_type": "code",
   "execution_count": null,
   "metadata": {},
   "outputs": [],
   "source": []
  }
 ],
 "metadata": {
  "kernelspec": {
   "display_name": "Python 3",
   "language": "python",
   "name": "python3"
  },
  "language_info": {
   "codemirror_mode": {
    "name": "ipython",
    "version": 3
   },
   "file_extension": ".py",
   "mimetype": "text/x-python",
   "name": "python",
   "nbconvert_exporter": "python",
   "pygments_lexer": "ipython3",
   "version": "3.7.4"
  }
 },
 "nbformat": 4,
 "nbformat_minor": 4
}
