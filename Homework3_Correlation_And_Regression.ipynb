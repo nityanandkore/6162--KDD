{
 "cells": [
  {
   "cell_type": "code",
   "execution_count": 74,
   "metadata": {},
   "outputs": [
    {
     "data": {
      "text/plain": [
       "Age          object\n",
       "Gender       object\n",
       "studentN    float64\n",
       "studentE    float64\n",
       "studentO    float64\n",
       "studentA    float64\n",
       "studentC    float64\n",
       "lectureN    float64\n",
       "lecturE     float64\n",
       "lecturO     float64\n",
       "lecturA     float64\n",
       "lecturC     float64\n",
       "dtype: object"
      ]
     },
     "execution_count": 74,
     "metadata": {},
     "output_type": "execute_result"
    }
   ],
   "source": [
    "#Prepare the data:\n",
    "\n",
    "import numpy as np\n",
    "import pandas as pd\n",
    "import matplotlib.pyplot as plt\n",
    "\n",
    "\n",
    "personality  = pd.read_csv('C:/Users/P2190101/Desktop/NK Personal/NK Study/UNCC/6162 - KDD/Week 3 - Jan 31/Chamorro-Premuzic.txt'\n",
    "                           , sep = '\\t'\n",
    "                         )\n",
    "\n",
    "personality.dtypes\n",
    "\n",
    "personality['studentN'] = pd.to_numeric(personality['studentN'], errors='coerce')\n",
    "personality['studentE'] = pd.to_numeric(personality['studentE'], errors='coerce')\n",
    "personality['studentO'] = pd.to_numeric(personality['studentO'], errors='coerce')\n",
    "personality['studentA'] = pd.to_numeric(personality['studentA'], errors='coerce')\n",
    "personality['studentC'] = pd.to_numeric(personality['studentC'], errors='coerce')\n",
    "personality['lectureN'] = pd.to_numeric(personality['lectureN'], errors='coerce')\n",
    "personality['lecturA'] = pd.to_numeric(personality['lecturA'], errors='coerce')\n",
    "personality['lecturE'] = pd.to_numeric(personality['lecturE'], errors='coerce')\n",
    "personality['lecturO'] = pd.to_numeric(personality['lecturO'], errors='coerce')\n",
    "personality['lecturC'] = pd.to_numeric(personality['lecturC'], errors='coerce')\n",
    "\n",
    "personality.dtypes\n",
    "\n"
   ]
  },
  {
   "cell_type": "code",
   "execution_count": 77,
   "metadata": {},
   "outputs": [
    {
     "name": "stderr",
     "output_type": "stream",
     "text": [
      "C:\\Users\\P2190101\\AppData\\Local\\Continuum\\anaconda3\\lib\\site-packages\\ipykernel_launcher.py:5: SettingWithCopyWarning: \n",
      "A value is trying to be set on a copy of a slice from a DataFrame\n",
      "\n",
      "See the caveats in the documentation: http://pandas.pydata.org/pandas-docs/stable/user_guide/indexing.html#returning-a-view-versus-a-copy\n",
      "  \"\"\"\n"
     ]
    },
    {
     "data": {
      "text/html": [
       "<div>\n",
       "<style scoped>\n",
       "    .dataframe tbody tr th:only-of-type {\n",
       "        vertical-align: middle;\n",
       "    }\n",
       "\n",
       "    .dataframe tbody tr th {\n",
       "        vertical-align: top;\n",
       "    }\n",
       "\n",
       "    .dataframe thead th {\n",
       "        text-align: right;\n",
       "    }\n",
       "</style>\n",
       "<table border=\"1\" class=\"dataframe\">\n",
       "  <thead>\n",
       "    <tr style=\"text-align: right;\">\n",
       "      <th></th>\n",
       "      <th>studentN</th>\n",
       "      <th>studentE</th>\n",
       "      <th>studentO</th>\n",
       "      <th>studentA</th>\n",
       "      <th>studentC</th>\n",
       "      <th>lectureN</th>\n",
       "      <th>lecturE</th>\n",
       "      <th>lecturO</th>\n",
       "      <th>lecturA</th>\n",
       "      <th>lecturC</th>\n",
       "    </tr>\n",
       "  </thead>\n",
       "  <tbody>\n",
       "    <tr>\n",
       "      <td>140</td>\n",
       "      <td>28.0</td>\n",
       "      <td>19.0</td>\n",
       "      <td>21.0</td>\n",
       "      <td>48.0</td>\n",
       "      <td>35.0</td>\n",
       "      <td>-29.0</td>\n",
       "      <td>16.0</td>\n",
       "      <td>-7.0</td>\n",
       "      <td>10.0</td>\n",
       "      <td>23.0</td>\n",
       "    </tr>\n",
       "    <tr>\n",
       "      <td>141</td>\n",
       "      <td>20.0</td>\n",
       "      <td>28.0</td>\n",
       "      <td>32.0</td>\n",
       "      <td>46.0</td>\n",
       "      <td>28.0</td>\n",
       "      <td>-10.0</td>\n",
       "      <td>21.0</td>\n",
       "      <td>17.0</td>\n",
       "      <td>26.0</td>\n",
       "      <td>25.0</td>\n",
       "    </tr>\n",
       "    <tr>\n",
       "      <td>142</td>\n",
       "      <td>34.0</td>\n",
       "      <td>22.0</td>\n",
       "      <td>28.0</td>\n",
       "      <td>25.0</td>\n",
       "      <td>7.0</td>\n",
       "      <td>-6.0</td>\n",
       "      <td>3.0</td>\n",
       "      <td>-1.0</td>\n",
       "      <td>1.0</td>\n",
       "      <td>10.0</td>\n",
       "    </tr>\n",
       "    <tr>\n",
       "      <td>143</td>\n",
       "      <td>20.0</td>\n",
       "      <td>32.0</td>\n",
       "      <td>32.0</td>\n",
       "      <td>44.0</td>\n",
       "      <td>27.0</td>\n",
       "      <td>-18.0</td>\n",
       "      <td>8.0</td>\n",
       "      <td>6.0</td>\n",
       "      <td>5.0</td>\n",
       "      <td>18.0</td>\n",
       "    </tr>\n",
       "    <tr>\n",
       "      <td>144</td>\n",
       "      <td>29.0</td>\n",
       "      <td>17.0</td>\n",
       "      <td>31.0</td>\n",
       "      <td>52.0</td>\n",
       "      <td>27.0</td>\n",
       "      <td>-25.0</td>\n",
       "      <td>20.0</td>\n",
       "      <td>8.0</td>\n",
       "      <td>-2.0</td>\n",
       "      <td>20.0</td>\n",
       "    </tr>\n",
       "    <tr>\n",
       "      <td>...</td>\n",
       "      <td>...</td>\n",
       "      <td>...</td>\n",
       "      <td>...</td>\n",
       "      <td>...</td>\n",
       "      <td>...</td>\n",
       "      <td>...</td>\n",
       "      <td>...</td>\n",
       "      <td>...</td>\n",
       "      <td>...</td>\n",
       "      <td>...</td>\n",
       "    </tr>\n",
       "    <tr>\n",
       "      <td>425</td>\n",
       "      <td>23.0</td>\n",
       "      <td>31.0</td>\n",
       "      <td>21.0</td>\n",
       "      <td>51.0</td>\n",
       "      <td>29.0</td>\n",
       "      <td>-25.0</td>\n",
       "      <td>19.0</td>\n",
       "      <td>17.0</td>\n",
       "      <td>18.0</td>\n",
       "      <td>24.0</td>\n",
       "    </tr>\n",
       "    <tr>\n",
       "      <td>426</td>\n",
       "      <td>24.0</td>\n",
       "      <td>26.0</td>\n",
       "      <td>23.0</td>\n",
       "      <td>59.0</td>\n",
       "      <td>24.0</td>\n",
       "      <td>0.0</td>\n",
       "      <td>13.0</td>\n",
       "      <td>8.0</td>\n",
       "      <td>12.0</td>\n",
       "      <td>22.0</td>\n",
       "    </tr>\n",
       "    <tr>\n",
       "      <td>427</td>\n",
       "      <td>18.0</td>\n",
       "      <td>21.0</td>\n",
       "      <td>36.0</td>\n",
       "      <td>44.0</td>\n",
       "      <td>26.0</td>\n",
       "      <td>-12.0</td>\n",
       "      <td>11.0</td>\n",
       "      <td>1.0</td>\n",
       "      <td>7.0</td>\n",
       "      <td>8.0</td>\n",
       "    </tr>\n",
       "    <tr>\n",
       "      <td>428</td>\n",
       "      <td>40.0</td>\n",
       "      <td>32.0</td>\n",
       "      <td>29.0</td>\n",
       "      <td>73.0</td>\n",
       "      <td>24.0</td>\n",
       "      <td>-18.0</td>\n",
       "      <td>26.0</td>\n",
       "      <td>16.0</td>\n",
       "      <td>19.0</td>\n",
       "      <td>27.0</td>\n",
       "    </tr>\n",
       "    <tr>\n",
       "      <td>429</td>\n",
       "      <td>10.0</td>\n",
       "      <td>37.0</td>\n",
       "      <td>43.0</td>\n",
       "      <td>62.0</td>\n",
       "      <td>39.0</td>\n",
       "      <td>-23.0</td>\n",
       "      <td>16.0</td>\n",
       "      <td>20.0</td>\n",
       "      <td>-4.0</td>\n",
       "      <td>22.0</td>\n",
       "    </tr>\n",
       "  </tbody>\n",
       "</table>\n",
       "<p>266 rows × 10 columns</p>\n",
       "</div>"
      ],
      "text/plain": [
       "     studentN  studentE  studentO  studentA  studentC  lectureN  lecturE  \\\n",
       "140      28.0      19.0      21.0      48.0      35.0     -29.0     16.0   \n",
       "141      20.0      28.0      32.0      46.0      28.0     -10.0     21.0   \n",
       "142      34.0      22.0      28.0      25.0       7.0      -6.0      3.0   \n",
       "143      20.0      32.0      32.0      44.0      27.0     -18.0      8.0   \n",
       "144      29.0      17.0      31.0      52.0      27.0     -25.0     20.0   \n",
       "..        ...       ...       ...       ...       ...       ...      ...   \n",
       "425      23.0      31.0      21.0      51.0      29.0     -25.0     19.0   \n",
       "426      24.0      26.0      23.0      59.0      24.0       0.0     13.0   \n",
       "427      18.0      21.0      36.0      44.0      26.0     -12.0     11.0   \n",
       "428      40.0      32.0      29.0      73.0      24.0     -18.0     26.0   \n",
       "429      10.0      37.0      43.0      62.0      39.0     -23.0     16.0   \n",
       "\n",
       "     lecturO  lecturA  lecturC  \n",
       "140     -7.0     10.0     23.0  \n",
       "141     17.0     26.0     25.0  \n",
       "142     -1.0      1.0     10.0  \n",
       "143      6.0      5.0     18.0  \n",
       "144      8.0     -2.0     20.0  \n",
       "..       ...      ...      ...  \n",
       "425     17.0     18.0     24.0  \n",
       "426      8.0     12.0     22.0  \n",
       "427      1.0      7.0      8.0  \n",
       "428     16.0     19.0     27.0  \n",
       "429     20.0     -4.0     22.0  \n",
       "\n",
       "[266 rows x 10 columns]"
      ]
     },
     "execution_count": 77,
     "metadata": {},
     "output_type": "execute_result"
    }
   ],
   "source": [
    "stu_teacher = personality[['studentN','studentE','studentO','studentA','studentC','lectureN','lecturE','lecturO','lecturA','lecturC']]\n",
    "\n",
    "stu_teacher.dropna(axis=0, how='any', thresh=None, subset=None, inplace=False)\n",
    "\n",
    "stu_teacher.dropna(inplace=True)\n",
    "\n",
    "stu_teacher\n",
    "\n",
    "\n"
   ]
  },
  {
   "cell_type": "code",
   "execution_count": 103,
   "metadata": {},
   "outputs": [
    {
     "name": "stdout",
     "output_type": "stream",
     "text": [
      "          studentN  studentE  studentO  studentA  studentC  lectureN  \\\n",
      "studentN  1.000000 -0.392135 -0.057640  0.042368 -0.228762  0.012050   \n",
      "studentE -0.392135  1.000000  0.116687  0.045381  0.151631 -0.095081   \n",
      "studentO -0.057640  0.116687  1.000000 -0.077963 -0.103776 -0.057855   \n",
      "studentA  0.042368  0.045381 -0.077963  1.000000  0.515062  0.017318   \n",
      "studentC -0.228762  0.151631 -0.103776  0.515062  1.000000 -0.140357   \n",
      "lectureN  0.012050 -0.095081 -0.057855  0.017318 -0.140357  1.000000   \n",
      "lecturE  -0.087174  0.152543  0.065521  0.083111  0.108543  0.012936   \n",
      "lecturO  -0.040753  0.052594  0.170996  0.077748 -0.024837  0.140251   \n",
      "lecturA   0.142139 -0.047480 -0.190686  0.143820  0.098896  0.105990   \n",
      "lecturC   0.052093 -0.009239 -0.082393  0.224723  0.209581 -0.208682   \n",
      "\n",
      "           lecturE   lecturO   lecturA   lecturC  \n",
      "studentN -0.087174 -0.040753  0.142139  0.052093  \n",
      "studentE  0.152543  0.052594 -0.047480 -0.009239  \n",
      "studentO  0.065521  0.170996 -0.190686 -0.082393  \n",
      "studentA  0.083111  0.077748  0.143820  0.224723  \n",
      "studentC  0.108543 -0.024837  0.098896  0.209581  \n",
      "lectureN  0.012936  0.140251  0.105990 -0.208682  \n",
      "lecturE   1.000000  0.483988  0.130900  0.119507  \n",
      "lecturO   0.483988  1.000000  0.174287  0.008384  \n",
      "lecturA   0.130900  0.174287  1.000000  0.247750  \n",
      "lecturC   0.119507  0.008384  0.247750  1.000000  \n"
     ]
    }
   ],
   "source": [
    "#Calculate the correlation\n",
    "\n",
    "print(stu_teacher.corr(method='pearson', min_periods=1))\n",
    "\n",
    "\n"
   ]
  },
  {
   "cell_type": "code",
   "execution_count": 105,
   "metadata": {},
   "outputs": [
    {
     "data": {
      "text/plain": [
       "(0.012050443955439687, 0.8449089216479228)"
      ]
     },
     "execution_count": 105,
     "metadata": {},
     "output_type": "execute_result"
    }
   ],
   "source": [
    "#Calculate the correlation with p-value\n",
    "\n",
    "import scipy.stats  as stats\n",
    "\n",
    "stats.pearsonr(stu_teacher['studentN'],stu_teacher['lectureN'])\n"
   ]
  },
  {
   "cell_type": "code",
   "execution_count": 106,
   "metadata": {},
   "outputs": [
    {
     "data": {
      "text/plain": [
       "(-0.0871742569415344, 0.1562568310122861)"
      ]
     },
     "execution_count": 106,
     "metadata": {},
     "output_type": "execute_result"
    }
   ],
   "source": [
    "stats.pearsonr(stu_teacher['studentN'],stu_teacher['lecturE'])"
   ]
  },
  {
   "cell_type": "code",
   "execution_count": 107,
   "metadata": {},
   "outputs": [
    {
     "data": {
      "text/plain": [
       "(-0.040753451686510345, 0.508090770115541)"
      ]
     },
     "execution_count": 107,
     "metadata": {},
     "output_type": "execute_result"
    }
   ],
   "source": [
    "stats.pearsonr(stu_teacher['studentN'],stu_teacher['lecturO'])"
   ]
  },
  {
   "cell_type": "code",
   "execution_count": 108,
   "metadata": {},
   "outputs": [
    {
     "data": {
      "text/plain": [
       "(0.14213889422685494, 0.02039045014490966)"
      ]
     },
     "execution_count": 108,
     "metadata": {},
     "output_type": "execute_result"
    }
   ],
   "source": [
    "stats.pearsonr(stu_teacher['studentN'],stu_teacher['lecturA'])"
   ]
  },
  {
   "cell_type": "code",
   "execution_count": 109,
   "metadata": {},
   "outputs": [
    {
     "data": {
      "text/plain": [
       "(0.05209290417590279, 0.39745062627098815)"
      ]
     },
     "execution_count": 109,
     "metadata": {},
     "output_type": "execute_result"
    }
   ],
   "source": [
    "stats.pearsonr(stu_teacher['studentN'],stu_teacher['lecturC'])"
   ]
  },
  {
   "cell_type": "code",
   "execution_count": 89,
   "metadata": {},
   "outputs": [
    {
     "data": {
      "text/plain": [
       "(0.15254271764858945, 0.012746529849644556)"
      ]
     },
     "execution_count": 89,
     "metadata": {},
     "output_type": "execute_result"
    }
   ],
   "source": [
    "stats.pearsonr(stu_teacher['studentE'],stu_teacher['lecturE'])"
   ]
  },
  {
   "cell_type": "code",
   "execution_count": 111,
   "metadata": {},
   "outputs": [
    {
     "data": {
      "text/plain": [
       "(-0.09508149423672835, 0.12187873002063904)"
      ]
     },
     "execution_count": 111,
     "metadata": {},
     "output_type": "execute_result"
    }
   ],
   "source": [
    "stats.pearsonr(stu_teacher['studentE'],stu_teacher['lectureN'])"
   ]
  },
  {
   "cell_type": "code",
   "execution_count": 112,
   "metadata": {},
   "outputs": [
    {
     "data": {
      "text/plain": [
       "(0.05259377596578775, 0.39292199097411856)"
      ]
     },
     "execution_count": 112,
     "metadata": {},
     "output_type": "execute_result"
    }
   ],
   "source": [
    "stats.pearsonr(stu_teacher['studentE'],stu_teacher['lecturO'])"
   ]
  },
  {
   "cell_type": "code",
   "execution_count": 113,
   "metadata": {},
   "outputs": [
    {
     "data": {
      "text/plain": [
       "(-0.047480374317055256, 0.4406064019626812)"
      ]
     },
     "execution_count": 113,
     "metadata": {},
     "output_type": "execute_result"
    }
   ],
   "source": [
    "stats.pearsonr(stu_teacher['studentE'],stu_teacher['lecturA'])"
   ]
  },
  {
   "cell_type": "code",
   "execution_count": 114,
   "metadata": {},
   "outputs": [
    {
     "data": {
      "text/plain": [
       "(-0.009238537813268437, 0.880788605547799)"
      ]
     },
     "execution_count": 114,
     "metadata": {},
     "output_type": "execute_result"
    }
   ],
   "source": [
    "stats.pearsonr(stu_teacher['studentE'],stu_teacher['lecturC'])"
   ]
  },
  {
   "cell_type": "code",
   "execution_count": 90,
   "metadata": {},
   "outputs": [
    {
     "data": {
      "text/plain": [
       "(0.17099606296627773, 0.005168305836640207)"
      ]
     },
     "execution_count": 90,
     "metadata": {},
     "output_type": "execute_result"
    }
   ],
   "source": [
    "stats.pearsonr(stu_teacher['studentO'],stu_teacher['lecturO'])"
   ]
  },
  {
   "cell_type": "code",
   "execution_count": 115,
   "metadata": {},
   "outputs": [
    {
     "data": {
      "text/plain": [
       "(-0.05785520144138991, 0.34725164407097975)"
      ]
     },
     "execution_count": 115,
     "metadata": {},
     "output_type": "execute_result"
    }
   ],
   "source": [
    "stats.pearsonr(stu_teacher['studentO'],stu_teacher['lectureN'])"
   ]
  },
  {
   "cell_type": "code",
   "execution_count": 116,
   "metadata": {},
   "outputs": [
    {
     "data": {
      "text/plain": [
       "(0.06552114339744394, 0.28699838566198255)"
      ]
     },
     "execution_count": 116,
     "metadata": {},
     "output_type": "execute_result"
    }
   ],
   "source": [
    "stats.pearsonr(stu_teacher['studentO'],stu_teacher['lecturE'])"
   ]
  },
  {
   "cell_type": "code",
   "execution_count": 117,
   "metadata": {},
   "outputs": [
    {
     "data": {
      "text/plain": [
       "(-0.1906857569329285, 0.0017837467435082648)"
      ]
     },
     "execution_count": 117,
     "metadata": {},
     "output_type": "execute_result"
    }
   ],
   "source": [
    "stats.pearsonr(stu_teacher['studentO'],stu_teacher['lecturA'])"
   ]
  },
  {
   "cell_type": "code",
   "execution_count": 118,
   "metadata": {},
   "outputs": [
    {
     "data": {
      "text/plain": [
       "(-0.08239301364469158, 0.18032993261737165)"
      ]
     },
     "execution_count": 118,
     "metadata": {},
     "output_type": "execute_result"
    }
   ],
   "source": [
    "stats.pearsonr(stu_teacher['studentO'],stu_teacher['lecturC'])"
   ]
  },
  {
   "cell_type": "code",
   "execution_count": 91,
   "metadata": {},
   "outputs": [
    {
     "data": {
      "text/plain": [
       "(0.14381955154239495, 0.018935797190526214)"
      ]
     },
     "execution_count": 91,
     "metadata": {},
     "output_type": "execute_result"
    }
   ],
   "source": [
    "stats.pearsonr(stu_teacher['studentA'],stu_teacher['lecturA'])"
   ]
  },
  {
   "cell_type": "code",
   "execution_count": 119,
   "metadata": {},
   "outputs": [
    {
     "data": {
      "text/plain": [
       "(0.017318322374279334, 0.7785998158880083)"
      ]
     },
     "execution_count": 119,
     "metadata": {},
     "output_type": "execute_result"
    }
   ],
   "source": [
    "stats.pearsonr(stu_teacher['studentA'],stu_teacher['lectureN'])"
   ]
  },
  {
   "cell_type": "code",
   "execution_count": 120,
   "metadata": {},
   "outputs": [
    {
     "data": {
      "text/plain": [
       "(0.08311075110421673, 0.176551035578461)"
      ]
     },
     "execution_count": 120,
     "metadata": {},
     "output_type": "execute_result"
    }
   ],
   "source": [
    "stats.pearsonr(stu_teacher['studentA'],stu_teacher['lecturE'])"
   ]
  },
  {
   "cell_type": "code",
   "execution_count": 121,
   "metadata": {},
   "outputs": [
    {
     "data": {
      "text/plain": [
       "(0.0777480336356523, 0.2062392104982468)"
      ]
     },
     "execution_count": 121,
     "metadata": {},
     "output_type": "execute_result"
    }
   ],
   "source": [
    "stats.pearsonr(stu_teacher['studentA'],stu_teacher['lecturO'])"
   ]
  },
  {
   "cell_type": "code",
   "execution_count": 122,
   "metadata": {},
   "outputs": [
    {
     "data": {
      "text/plain": [
       "(0.2247229295709126, 0.0002196848852093358)"
      ]
     },
     "execution_count": 122,
     "metadata": {},
     "output_type": "execute_result"
    }
   ],
   "source": [
    "stats.pearsonr(stu_teacher['studentA'],stu_teacher['lecturC'])"
   ]
  },
  {
   "cell_type": "code",
   "execution_count": 92,
   "metadata": {},
   "outputs": [
    {
     "data": {
      "text/plain": [
       "(0.20958143553868874, 0.0005809434858182386)"
      ]
     },
     "execution_count": 92,
     "metadata": {},
     "output_type": "execute_result"
    }
   ],
   "source": [
    "stats.pearsonr(stu_teacher['studentC'],stu_teacher['lecturC'])"
   ]
  },
  {
   "cell_type": "code",
   "execution_count": 123,
   "metadata": {},
   "outputs": [
    {
     "data": {
      "text/plain": [
       "(-0.14035674503131973, 0.022037870201379022)"
      ]
     },
     "execution_count": 123,
     "metadata": {},
     "output_type": "execute_result"
    }
   ],
   "source": [
    "stats.pearsonr(stu_teacher['studentC'],stu_teacher['lectureN'])"
   ]
  },
  {
   "cell_type": "code",
   "execution_count": 124,
   "metadata": {},
   "outputs": [
    {
     "data": {
      "text/plain": [
       "(0.10854284714507836, 0.07720011902520234)"
      ]
     },
     "execution_count": 124,
     "metadata": {},
     "output_type": "execute_result"
    }
   ],
   "source": [
    "stats.pearsonr(stu_teacher['studentC'],stu_teacher['lecturE'])"
   ]
  },
  {
   "cell_type": "code",
   "execution_count": 125,
   "metadata": {},
   "outputs": [
    {
     "data": {
      "text/plain": [
       "(-0.02483744031168847, 0.686771028423207)"
      ]
     },
     "execution_count": 125,
     "metadata": {},
     "output_type": "execute_result"
    }
   ],
   "source": [
    "stats.pearsonr(stu_teacher['studentC'],stu_teacher['lecturO'])"
   ]
  },
  {
   "cell_type": "code",
   "execution_count": 126,
   "metadata": {},
   "outputs": [
    {
     "data": {
      "text/plain": [
       "(0.09889599838057404, 0.10755157345751641)"
      ]
     },
     "execution_count": 126,
     "metadata": {},
     "output_type": "execute_result"
    }
   ],
   "source": [
    "stats.pearsonr(stu_teacher['studentC'],stu_teacher['lecturA'])"
   ]
  },
  {
   "cell_type": "code",
   "execution_count": 93,
   "metadata": {},
   "outputs": [
    {
     "data": {
      "image/png": "[encoded data removed]",
      "text/plain": [
       "<Figure size 432x288 with 2 Axes>"
      ]
     },
     "metadata": {
      "needs_background": "light"
     },
     "output_type": "display_data"
    }
   ],
   "source": [
    "#Plot the correlation\n",
    "\n",
    "corr = stu_teacher.corr()\n",
    "fig = plt.figure()\n",
    "ax = fig.add_subplot(111)\n",
    "cax = ax.matshow(corr,cmap='coolwarm', vmin=-1, vmax=1)\n",
    "fig.colorbar(cax)\n",
    "ticks = np.arange(0,len(stu_teacher.columns),1)\n",
    "ax.set_xticks(ticks)\n",
    "plt.xticks(rotation=90)\n",
    "ax.set_yticks(ticks)\n",
    "ax.set_xticklabels(stu_teacher.columns)\n",
    "ax.set_yticklabels(stu_teacher.columns)\n",
    "plt.show()\n"
   ]
  },
  {
   "cell_type": "code",
   "execution_count": 99,
   "metadata": {},
   "outputs": [
    {
     "data": {
      "text/html": [
       "<table class=\"simpletable\">\n",
       "<caption>OLS Regression Results</caption>\n",
       "<tr>\n",
       "  <th>Dep. Variable:</th>        <td>lectureN</td>     <th>  R-squared:         </th> <td>   0.177</td>\n",
       "</tr>\n",
       "<tr>\n",
       "  <th>Model:</th>                   <td>OLS</td>       <th>  Adj. R-squared:    </th> <td>   0.122</td>\n",
       "</tr>\n",
       "<tr>\n",
       "  <th>Method:</th>             <td>Least Squares</td>  <th>  F-statistic:       </th> <td>   3.221</td>\n",
       "</tr>\n",
       "<tr>\n",
       "  <th>Date:</th>             <td>Fri, 31 Jan 2020</td> <th>  Prob (F-statistic):</th> <td>4.02e-07</td>\n",
       "</tr>\n",
       "<tr>\n",
       "  <th>Time:</th>                 <td>21:55:10</td>     <th>  Log-Likelihood:    </th> <td> -1473.5</td>\n",
       "</tr>\n",
       "<tr>\n",
       "  <th>No. Observations:</th>      <td>   417</td>      <th>  AIC:               </th> <td>   3001.</td>\n",
       "</tr>\n",
       "<tr>\n",
       "  <th>Df Residuals:</th>          <td>   390</td>      <th>  BIC:               </th> <td>   3110.</td>\n",
       "</tr>\n",
       "<tr>\n",
       "  <th>Df Model:</th>              <td>    26</td>      <th>                     </th>     <td> </td>   \n",
       "</tr>\n",
       "<tr>\n",
       "  <th>Covariance Type:</th>      <td>nonrobust</td>    <th>                     </th>     <td> </td>   \n",
       "</tr>\n",
       "</table>\n",
       "<table class=\"simpletable\">\n",
       "<tr>\n",
       "          <td></td>            <th>coef</th>     <th>std err</th>      <th>t</th>      <th>P>|t|</th>  <th>[0.025</th>    <th>0.975]</th>  \n",
       "</tr>\n",
       "<tr>\n",
       "  <th>Intercept</th>        <td> -4.92e-15</td> <td>    8.569</td> <td>-5.74e-16</td> <td> 1.000</td> <td>  -16.846</td> <td>   16.846</td>\n",
       "</tr>\n",
       "<tr>\n",
       "  <th>Age[T.0]</th>         <td>   22.2171</td> <td>    8.785</td> <td>    2.529</td> <td> 0.012</td> <td>    4.945</td> <td>   39.489</td>\n",
       "</tr>\n",
       "<tr>\n",
       "  <th>Age[T.16]</th>        <td>   26.9934</td> <td>    8.806</td> <td>    3.065</td> <td> 0.002</td> <td>    9.680</td> <td>   44.306</td>\n",
       "</tr>\n",
       "<tr>\n",
       "  <th>Age[T.17]</th>        <td>   -2.4897</td> <td>    2.986</td> <td>   -0.834</td> <td> 0.405</td> <td>   -8.360</td> <td>    3.381</td>\n",
       "</tr>\n",
       "<tr>\n",
       "  <th>Age[T.18]</th>        <td>   -1.0114</td> <td>    2.040</td> <td>   -0.496</td> <td> 0.620</td> <td>   -5.023</td> <td>    3.000</td>\n",
       "</tr>\n",
       "<tr>\n",
       "  <th>Age[T.19]</th>        <td>   -0.5166</td> <td>    2.100</td> <td>   -0.246</td> <td> 0.806</td> <td>   -4.645</td> <td>    3.611</td>\n",
       "</tr>\n",
       "<tr>\n",
       "  <th>Age[T.2]</th>         <td>   -4.7829</td> <td>    8.785</td> <td>   -0.544</td> <td> 0.586</td> <td>  -22.055</td> <td>   12.489</td>\n",
       "</tr>\n",
       "<tr>\n",
       "  <th>Age[T.20]</th>        <td>   -1.6742</td> <td>    2.223</td> <td>   -0.753</td> <td> 0.452</td> <td>   -6.044</td> <td>    2.696</td>\n",
       "</tr>\n",
       "<tr>\n",
       "  <th>Age[T.21]</th>        <td>   -0.4500</td> <td>    2.528</td> <td>   -0.178</td> <td> 0.859</td> <td>   -5.420</td> <td>    4.520</td>\n",
       "</tr>\n",
       "<tr>\n",
       "  <th>Age[T.22]</th>        <td>    1.4759</td> <td>    3.439</td> <td>    0.429</td> <td> 0.668</td> <td>   -5.286</td> <td>    8.238</td>\n",
       "</tr>\n",
       "<tr>\n",
       "  <th>Age[T.23]</th>        <td>    3.5132</td> <td>    3.991</td> <td>    0.880</td> <td> 0.379</td> <td>   -4.332</td> <td>   11.359</td>\n",
       "</tr>\n",
       "<tr>\n",
       "  <th>Age[T.24]</th>        <td>   -3.1645</td> <td>    3.765</td> <td>   -0.841</td> <td> 0.401</td> <td>  -10.567</td> <td>    4.238</td>\n",
       "</tr>\n",
       "<tr>\n",
       "  <th>Age[T.25]</th>        <td>   14.5276</td> <td>    4.285</td> <td>    3.390</td> <td> 0.001</td> <td>    6.102</td> <td>   22.953</td>\n",
       "</tr>\n",
       "<tr>\n",
       "  <th>Age[T.26]</th>        <td>   -1.2829</td> <td>    6.361</td> <td>   -0.202</td> <td> 0.840</td> <td>  -13.789</td> <td>   11.224</td>\n",
       "</tr>\n",
       "<tr>\n",
       "  <th>Age[T.27]</th>        <td>   -2.8575</td> <td>    5.305</td> <td>   -0.539</td> <td> 0.590</td> <td>  -13.288</td> <td>    7.573</td>\n",
       "</tr>\n",
       "<tr>\n",
       "  <th>Age[T.28]</th>        <td>    7.6053</td> <td>    6.358</td> <td>    1.196</td> <td> 0.232</td> <td>   -4.894</td> <td>   20.105</td>\n",
       "</tr>\n",
       "<tr>\n",
       "  <th>Age[T.29]</th>        <td>   -0.7829</td> <td>    8.785</td> <td>   -0.089</td> <td> 0.929</td> <td>  -18.055</td> <td>   16.489</td>\n",
       "</tr>\n",
       "<tr>\n",
       "  <th>Age[T.30]</th>        <td>   -6.7829</td> <td>    8.785</td> <td>   -0.772</td> <td> 0.441</td> <td>  -24.055</td> <td>   10.489</td>\n",
       "</tr>\n",
       "<tr>\n",
       "  <th>Age[T.31]</th>        <td>   12.2171</td> <td>    8.785</td> <td>    1.391</td> <td> 0.165</td> <td>   -5.055</td> <td>   29.489</td>\n",
       "</tr>\n",
       "<tr>\n",
       "  <th>Age[T.32]</th>        <td>   16.2171</td> <td>    8.785</td> <td>    1.846</td> <td> 0.066</td> <td>   -1.055</td> <td>   33.489</td>\n",
       "</tr>\n",
       "<tr>\n",
       "  <th>Age[T.33]</th>        <td>   -8.0066</td> <td>    8.806</td> <td>   -0.909</td> <td> 0.364</td> <td>  -25.320</td> <td>    9.306</td>\n",
       "</tr>\n",
       "<tr>\n",
       "  <th>Age[T.34]</th>        <td>   -7.0066</td> <td>    8.806</td> <td>   -0.796</td> <td> 0.427</td> <td>  -24.320</td> <td>   10.306</td>\n",
       "</tr>\n",
       "<tr>\n",
       "  <th>Age[T.39]</th>        <td>   24.7171</td> <td>    6.361</td> <td>    3.886</td> <td> 0.000</td> <td>   12.211</td> <td>   37.224</td>\n",
       "</tr>\n",
       "<tr>\n",
       "  <th>Age[T.40]</th>        <td>   -7.7829</td> <td>    8.785</td> <td>   -0.886</td> <td> 0.376</td> <td>  -25.055</td> <td>    9.489</td>\n",
       "</tr>\n",
       "<tr>\n",
       "  <th>Age[T.43]</th>        <td>   -5.7829</td> <td>    8.785</td> <td>   -0.658</td> <td> 0.511</td> <td>  -23.055</td> <td>   11.489</td>\n",
       "</tr>\n",
       "<tr>\n",
       "  <th>Gender[T.Female]</th> <td>  -22.2171</td> <td>    8.785</td> <td>   -2.529</td> <td> 0.012</td> <td>  -39.489</td> <td>   -4.945</td>\n",
       "</tr>\n",
       "<tr>\n",
       "  <th>Gender[T.Male]</th>   <td>  -18.9934</td> <td>    8.806</td> <td>   -2.157</td> <td> 0.032</td> <td>  -36.306</td> <td>   -1.680</td>\n",
       "</tr>\n",
       "</table>\n",
       "<table class=\"simpletable\">\n",
       "<tr>\n",
       "  <th>Omnibus:</th>       <td>130.266</td> <th>  Durbin-Watson:     </th> <td>   1.940</td>\n",
       "</tr>\n",
       "<tr>\n",
       "  <th>Prob(Omnibus):</th> <td> 0.000</td>  <th>  Jarque-Bera (JB):  </th> <td> 374.994</td>\n",
       "</tr>\n",
       "<tr>\n",
       "  <th>Skew:</th>          <td> 1.476</td>  <th>  Prob(JB):          </th> <td>3.73e-82</td>\n",
       "</tr>\n",
       "<tr>\n",
       "  <th>Kurtosis:</th>      <td> 6.587</td>  <th>  Cond. No.          </th> <td>    49.2</td>\n",
       "</tr>\n",
       "</table><br/><br/>Warnings:<br/>[1] Standard Errors assume that the covariance matrix of the errors is correctly specified."
      ],
      "text/plain": [
       "<class 'statsmodels.iolib.summary.Summary'>\n",
       "\"\"\"\n",
       "                            OLS Regression Results                            \n",
       "==============================================================================\n",
       "Dep. Variable:               lectureN   R-squared:                       0.177\n",
       "Model:                            OLS   Adj. R-squared:                  0.122\n",
       "Method:                 Least Squares   F-statistic:                     3.221\n",
       "Date:                Fri, 31 Jan 2020   Prob (F-statistic):           4.02e-07\n",
       "Time:                        21:55:10   Log-Likelihood:                -1473.5\n",
       "No. Observations:                 417   AIC:                             3001.\n",
       "Df Residuals:                     390   BIC:                             3110.\n",
       "Df Model:                          26                                         \n",
       "Covariance Type:            nonrobust                                         \n",
       "====================================================================================\n",
       "                       coef    std err          t      P>|t|      [0.025      0.975]\n",
       "------------------------------------------------------------------------------------\n",
       "Intercept         -4.92e-15      8.569  -5.74e-16      1.000     -16.846      16.846\n",
       "Age[T.0]            22.2171      8.785      2.529      0.012       4.945      39.489\n",
       "Age[T.16]           26.9934      8.806      3.065      0.002       9.680      44.306\n",
       "Age[T.17]           -2.4897      2.986     -0.834      0.405      -8.360       3.381\n",
       "Age[T.18]           -1.0114      2.040     -0.496      0.620      -5.023       3.000\n",
       "Age[T.19]           -0.5166      2.100     -0.246      0.806      -4.645       3.611\n",
       "Age[T.2]            -4.7829      8.785     -0.544      0.586     -22.055      12.489\n",
       "Age[T.20]           -1.6742      2.223     -0.753      0.452      -6.044       2.696\n",
       "Age[T.21]           -0.4500      2.528     -0.178      0.859      -5.420       4.520\n",
       "Age[T.22]            1.4759      3.439      0.429      0.668      -5.286       8.238\n",
       "Age[T.23]            3.5132      3.991      0.880      0.379      -4.332      11.359\n",
       "Age[T.24]           -3.1645      3.765     -0.841      0.401     -10.567       4.238\n",
       "Age[T.25]           14.5276      4.285      3.390      0.001       6.102      22.953\n",
       "Age[T.26]           -1.2829      6.361     -0.202      0.840     -13.789      11.224\n",
       "Age[T.27]           -2.8575      5.305     -0.539      0.590     -13.288       7.573\n",
       "Age[T.28]            7.6053      6.358      1.196      0.232      -4.894      20.105\n",
       "Age[T.29]           -0.7829      8.785     -0.089      0.929     -18.055      16.489\n",
       "Age[T.30]           -6.7829      8.785     -0.772      0.441     -24.055      10.489\n",
       "Age[T.31]           12.2171      8.785      1.391      0.165      -5.055      29.489\n",
       "Age[T.32]           16.2171      8.785      1.846      0.066      -1.055      33.489\n",
       "Age[T.33]           -8.0066      8.806     -0.909      0.364     -25.320       9.306\n",
       "Age[T.34]           -7.0066      8.806     -0.796      0.427     -24.320      10.306\n",
       "Age[T.39]           24.7171      6.361      3.886      0.000      12.211      37.224\n",
       "Age[T.40]           -7.7829      8.785     -0.886      0.376     -25.055       9.489\n",
       "Age[T.43]           -5.7829      8.785     -0.658      0.511     -23.055      11.489\n",
       "Gender[T.Female]   -22.2171      8.785     -2.529      0.012     -39.489      -4.945\n",
       "Gender[T.Male]     -18.9934      8.806     -2.157      0.032     -36.306      -1.680\n",
       "==============================================================================\n",
       "Omnibus:                      130.266   Durbin-Watson:                   1.940\n",
       "Prob(Omnibus):                  0.000   Jarque-Bera (JB):              374.994\n",
       "Skew:                           1.476   Prob(JB):                     3.73e-82\n",
       "Kurtosis:                       6.587   Cond. No.                         49.2\n",
       "==============================================================================\n",
       "\n",
       "Warnings:\n",
       "[1] Standard Errors assume that the covariance matrix of the errors is correctly specified.\n",
       "\"\"\""
      ]
     },
     "execution_count": 99,
     "metadata": {},
     "output_type": "execute_result"
    }
   ],
   "source": [
    "# Run a regression analysis\n",
    "\n",
    "import statsmodels.formula.api as smf\n",
    "\n",
    "lm1 = smf.ols('lectureN ~ Age+Gender', data=personality).fit()\n",
    "lm1.summary() "
   ]
  },
  {
   "cell_type": "code",
   "execution_count": 100,
   "metadata": {},
   "outputs": [
    {
     "data": {
      "text/html": [
       "<table class=\"simpletable\">\n",
       "<caption>OLS Regression Results</caption>\n",
       "<tr>\n",
       "  <th>Dep. Variable:</th>        <td>lectureN</td>     <th>  R-squared:         </th> <td>   0.192</td>\n",
       "</tr>\n",
       "<tr>\n",
       "  <th>Model:</th>                   <td>OLS</td>       <th>  Adj. R-squared:    </th> <td>   0.128</td>\n",
       "</tr>\n",
       "<tr>\n",
       "  <th>Method:</th>             <td>Least Squares</td>  <th>  F-statistic:       </th> <td>   3.008</td>\n",
       "</tr>\n",
       "<tr>\n",
       "  <th>Date:</th>             <td>Fri, 31 Jan 2020</td> <th>  Prob (F-statistic):</th> <td>8.13e-07</td>\n",
       "</tr>\n",
       "<tr>\n",
       "  <th>Time:</th>                 <td>21:55:17</td>     <th>  Log-Likelihood:    </th> <td> -1382.4</td>\n",
       "</tr>\n",
       "<tr>\n",
       "  <th>No. Observations:</th>      <td>   396</td>      <th>  AIC:               </th> <td>   2825.</td>\n",
       "</tr>\n",
       "<tr>\n",
       "  <th>Df Residuals:</th>          <td>   366</td>      <th>  BIC:               </th> <td>   2944.</td>\n",
       "</tr>\n",
       "<tr>\n",
       "  <th>Df Model:</th>              <td>    29</td>      <th>                     </th>     <td> </td>   \n",
       "</tr>\n",
       "<tr>\n",
       "  <th>Covariance Type:</th>      <td>nonrobust</td>    <th>                     </th>     <td> </td>   \n",
       "</tr>\n",
       "</table>\n",
       "<table class=\"simpletable\">\n",
       "<tr>\n",
       "          <td></td>            <th>coef</th>     <th>std err</th>      <th>t</th>      <th>P>|t|</th>  <th>[0.025</th>    <th>0.975]</th>  \n",
       "</tr>\n",
       "<tr>\n",
       "  <th>Intercept</th>        <td>    8.7597</td> <td>    9.096</td> <td>    0.963</td> <td> 0.336</td> <td>   -9.127</td> <td>   26.646</td>\n",
       "</tr>\n",
       "<tr>\n",
       "  <th>Age[T.0]</th>         <td>   19.9692</td> <td>    8.507</td> <td>    2.347</td> <td> 0.019</td> <td>    3.241</td> <td>   36.697</td>\n",
       "</tr>\n",
       "<tr>\n",
       "  <th>Age[T.16]</th>        <td> 8.831e-14</td> <td> 3.07e-14</td> <td>    2.877</td> <td> 0.004</td> <td> 2.79e-14</td> <td> 1.49e-13</td>\n",
       "</tr>\n",
       "<tr>\n",
       "  <th>Age[T.17]</th>        <td>   -3.1315</td> <td>    2.908</td> <td>   -1.077</td> <td> 0.282</td> <td>   -8.849</td> <td>    2.586</td>\n",
       "</tr>\n",
       "<tr>\n",
       "  <th>Age[T.18]</th>        <td>   -2.1057</td> <td>    2.010</td> <td>   -1.048</td> <td> 0.295</td> <td>   -6.057</td> <td>    1.846</td>\n",
       "</tr>\n",
       "<tr>\n",
       "  <th>Age[T.19]</th>        <td>   -1.2676</td> <td>    2.061</td> <td>   -0.615</td> <td> 0.539</td> <td>   -5.321</td> <td>    2.785</td>\n",
       "</tr>\n",
       "<tr>\n",
       "  <th>Age[T.2]</th>         <td>   -5.5642</td> <td>    8.484</td> <td>   -0.656</td> <td> 0.512</td> <td>  -22.248</td> <td>   11.119</td>\n",
       "</tr>\n",
       "<tr>\n",
       "  <th>Age[T.20]</th>        <td>   -2.0295</td> <td>    2.174</td> <td>   -0.933</td> <td> 0.351</td> <td>   -6.305</td> <td>    2.246</td>\n",
       "</tr>\n",
       "<tr>\n",
       "  <th>Age[T.21]</th>        <td>   -0.4814</td> <td>    2.483</td> <td>   -0.194</td> <td> 0.846</td> <td>   -5.364</td> <td>    4.401</td>\n",
       "</tr>\n",
       "<tr>\n",
       "  <th>Age[T.22]</th>        <td>   -0.6781</td> <td>    3.499</td> <td>   -0.194</td> <td> 0.846</td> <td>   -7.559</td> <td>    6.202</td>\n",
       "</tr>\n",
       "<tr>\n",
       "  <th>Age[T.23]</th>        <td>    2.0380</td> <td>    3.942</td> <td>    0.517</td> <td> 0.605</td> <td>   -5.714</td> <td>    9.790</td>\n",
       "</tr>\n",
       "<tr>\n",
       "  <th>Age[T.24]</th>        <td>   -3.2767</td> <td>    3.648</td> <td>   -0.898</td> <td> 0.370</td> <td>  -10.450</td> <td>    3.896</td>\n",
       "</tr>\n",
       "<tr>\n",
       "  <th>Age[T.25]</th>        <td>   14.9148</td> <td>    4.134</td> <td>    3.608</td> <td> 0.000</td> <td>    6.786</td> <td>   23.043</td>\n",
       "</tr>\n",
       "<tr>\n",
       "  <th>Age[T.26]</th>        <td>   -0.7602</td> <td>    6.146</td> <td>   -0.124</td> <td> 0.902</td> <td>  -12.847</td> <td>   11.326</td>\n",
       "</tr>\n",
       "<tr>\n",
       "  <th>Age[T.27]</th>        <td>   -2.3045</td> <td>    5.137</td> <td>   -0.449</td> <td> 0.654</td> <td>  -12.405</td> <td>    7.796</td>\n",
       "</tr>\n",
       "<tr>\n",
       "  <th>Age[T.28]</th>        <td>    6.6816</td> <td>    6.159</td> <td>    1.085</td> <td> 0.279</td> <td>   -5.429</td> <td>   18.792</td>\n",
       "</tr>\n",
       "<tr>\n",
       "  <th>Age[T.29]</th>        <td>   -0.3804</td> <td>    8.488</td> <td>   -0.045</td> <td> 0.964</td> <td>  -17.073</td> <td>   16.312</td>\n",
       "</tr>\n",
       "<tr>\n",
       "  <th>Age[T.30]</th>        <td>   -9.2943</td> <td>    8.516</td> <td>   -1.091</td> <td> 0.276</td> <td>  -26.041</td> <td>    7.453</td>\n",
       "</tr>\n",
       "<tr>\n",
       "  <th>Age[T.31]</th>        <td>   14.0456</td> <td>    8.547</td> <td>    1.643</td> <td> 0.101</td> <td>   -2.761</td> <td>   30.853</td>\n",
       "</tr>\n",
       "<tr>\n",
       "  <th>Age[T.32]</th>        <td>   14.6705</td> <td>    8.528</td> <td>    1.720</td> <td> 0.086</td> <td>   -2.100</td> <td>   31.441</td>\n",
       "</tr>\n",
       "<tr>\n",
       "  <th>Age[T.33]</th>        <td>   -7.6812</td> <td>    8.510</td> <td>   -0.903</td> <td> 0.367</td> <td>  -24.415</td> <td>    9.053</td>\n",
       "</tr>\n",
       "<tr>\n",
       "  <th>Age[T.34]</th>        <td>   -5.1454</td> <td>    8.533</td> <td>   -0.603</td> <td> 0.547</td> <td>  -21.925</td> <td>   11.634</td>\n",
       "</tr>\n",
       "<tr>\n",
       "  <th>Age[T.39]</th>        <td>   23.1714</td> <td>    6.192</td> <td>    3.742</td> <td> 0.000</td> <td>   10.994</td> <td>   35.349</td>\n",
       "</tr>\n",
       "<tr>\n",
       "  <th>Age[T.40]</th>        <td>   -7.5569</td> <td>    8.541</td> <td>   -0.885</td> <td> 0.377</td> <td>  -24.352</td> <td>    9.238</td>\n",
       "</tr>\n",
       "<tr>\n",
       "  <th>Age[T.43]</th>        <td>   -6.5610</td> <td>    8.473</td> <td>   -0.774</td> <td> 0.439</td> <td>  -23.223</td> <td>   10.101</td>\n",
       "</tr>\n",
       "<tr>\n",
       "  <th>Gender[T.Female]</th> <td>  -23.2083</td> <td>    8.494</td> <td>   -2.732</td> <td> 0.007</td> <td>  -39.912</td> <td>   -6.505</td>\n",
       "</tr>\n",
       "<tr>\n",
       "  <th>Gender[T.Male]</th>   <td>  -20.8422</td> <td>    8.521</td> <td>   -2.446</td> <td> 0.015</td> <td>  -37.598</td> <td>   -4.086</td>\n",
       "</tr>\n",
       "<tr>\n",
       "  <th>studentN</th>         <td>   -0.0392</td> <td>    0.053</td> <td>   -0.738</td> <td> 0.461</td> <td>   -0.144</td> <td>    0.065</td>\n",
       "</tr>\n",
       "<tr>\n",
       "  <th>studentC</th>         <td>   -0.2169</td> <td>    0.078</td> <td>   -2.770</td> <td> 0.006</td> <td>   -0.371</td> <td>   -0.063</td>\n",
       "</tr>\n",
       "<tr>\n",
       "  <th>studentO</th>         <td>   -0.1439</td> <td>    0.069</td> <td>   -2.088</td> <td> 0.037</td> <td>   -0.279</td> <td>   -0.008</td>\n",
       "</tr>\n",
       "<tr>\n",
       "  <th>studentA</th>         <td>    0.0999</td> <td>    0.070</td> <td>    1.435</td> <td> 0.152</td> <td>   -0.037</td> <td>    0.237</td>\n",
       "</tr>\n",
       "</table>\n",
       "<table class=\"simpletable\">\n",
       "<tr>\n",
       "  <th>Omnibus:</th>       <td>130.045</td> <th>  Durbin-Watson:     </th> <td>   2.009</td>\n",
       "</tr>\n",
       "<tr>\n",
       "  <th>Prob(Omnibus):</th> <td> 0.000</td>  <th>  Jarque-Bera (JB):  </th> <td> 413.020</td>\n",
       "</tr>\n",
       "<tr>\n",
       "  <th>Skew:</th>          <td> 1.501</td>  <th>  Prob(JB):          </th> <td>2.06e-90</td>\n",
       "</tr>\n",
       "<tr>\n",
       "  <th>Kurtosis:</th>      <td> 7.002</td>  <th>  Cond. No.          </th> <td>1.72e+18</td>\n",
       "</tr>\n",
       "</table><br/><br/>Warnings:<br/>[1] Standard Errors assume that the covariance matrix of the errors is correctly specified.<br/>[2] The smallest eigenvalue is 6.09e-31. This might indicate that there are<br/>strong multicollinearity problems or that the design matrix is singular."
      ],
      "text/plain": [
       "<class 'statsmodels.iolib.summary.Summary'>\n",
       "\"\"\"\n",
       "                            OLS Regression Results                            \n",
       "==============================================================================\n",
       "Dep. Variable:               lectureN   R-squared:                       0.192\n",
       "Model:                            OLS   Adj. R-squared:                  0.128\n",
       "Method:                 Least Squares   F-statistic:                     3.008\n",
       "Date:                Fri, 31 Jan 2020   Prob (F-statistic):           8.13e-07\n",
       "Time:                        21:55:17   Log-Likelihood:                -1382.4\n",
       "No. Observations:                 396   AIC:                             2825.\n",
       "Df Residuals:                     366   BIC:                             2944.\n",
       "Df Model:                          29                                         \n",
       "Covariance Type:            nonrobust                                         \n",
       "====================================================================================\n",
       "                       coef    std err          t      P>|t|      [0.025      0.975]\n",
       "------------------------------------------------------------------------------------\n",
       "Intercept            8.7597      9.096      0.963      0.336      -9.127      26.646\n",
       "Age[T.0]            19.9692      8.507      2.347      0.019       3.241      36.697\n",
       "Age[T.16]         8.831e-14   3.07e-14      2.877      0.004    2.79e-14    1.49e-13\n",
       "Age[T.17]           -3.1315      2.908     -1.077      0.282      -8.849       2.586\n",
       "Age[T.18]           -2.1057      2.010     -1.048      0.295      -6.057       1.846\n",
       "Age[T.19]           -1.2676      2.061     -0.615      0.539      -5.321       2.785\n",
       "Age[T.2]            -5.5642      8.484     -0.656      0.512     -22.248      11.119\n",
       "Age[T.20]           -2.0295      2.174     -0.933      0.351      -6.305       2.246\n",
       "Age[T.21]           -0.4814      2.483     -0.194      0.846      -5.364       4.401\n",
       "Age[T.22]           -0.6781      3.499     -0.194      0.846      -7.559       6.202\n",
       "Age[T.23]            2.0380      3.942      0.517      0.605      -5.714       9.790\n",
       "Age[T.24]           -3.2767      3.648     -0.898      0.370     -10.450       3.896\n",
       "Age[T.25]           14.9148      4.134      3.608      0.000       6.786      23.043\n",
       "Age[T.26]           -0.7602      6.146     -0.124      0.902     -12.847      11.326\n",
       "Age[T.27]           -2.3045      5.137     -0.449      0.654     -12.405       7.796\n",
       "Age[T.28]            6.6816      6.159      1.085      0.279      -5.429      18.792\n",
       "Age[T.29]           -0.3804      8.488     -0.045      0.964     -17.073      16.312\n",
       "Age[T.30]           -9.2943      8.516     -1.091      0.276     -26.041       7.453\n",
       "Age[T.31]           14.0456      8.547      1.643      0.101      -2.761      30.853\n",
       "Age[T.32]           14.6705      8.528      1.720      0.086      -2.100      31.441\n",
       "Age[T.33]           -7.6812      8.510     -0.903      0.367     -24.415       9.053\n",
       "Age[T.34]           -5.1454      8.533     -0.603      0.547     -21.925      11.634\n",
       "Age[T.39]           23.1714      6.192      3.742      0.000      10.994      35.349\n",
       "Age[T.40]           -7.5569      8.541     -0.885      0.377     -24.352       9.238\n",
       "Age[T.43]           -6.5610      8.473     -0.774      0.439     -23.223      10.101\n",
       "Gender[T.Female]   -23.2083      8.494     -2.732      0.007     -39.912      -6.505\n",
       "Gender[T.Male]     -20.8422      8.521     -2.446      0.015     -37.598      -4.086\n",
       "studentN            -0.0392      0.053     -0.738      0.461      -0.144       0.065\n",
       "studentC            -0.2169      0.078     -2.770      0.006      -0.371      -0.063\n",
       "studentO            -0.1439      0.069     -2.088      0.037      -0.279      -0.008\n",
       "studentA             0.0999      0.070      1.435      0.152      -0.037       0.237\n",
       "==============================================================================\n",
       "Omnibus:                      130.045   Durbin-Watson:                   2.009\n",
       "Prob(Omnibus):                  0.000   Jarque-Bera (JB):              413.020\n",
       "Skew:                           1.501   Prob(JB):                     2.06e-90\n",
       "Kurtosis:                       7.002   Cond. No.                     1.72e+18\n",
       "==============================================================================\n",
       "\n",
       "Warnings:\n",
       "[1] Standard Errors assume that the covariance matrix of the errors is correctly specified.\n",
       "[2] The smallest eigenvalue is 6.09e-31. This might indicate that there are\n",
       "strong multicollinearity problems or that the design matrix is singular.\n",
       "\"\"\""
      ]
     },
     "execution_count": 100,
     "metadata": {},
     "output_type": "execute_result"
    }
   ],
   "source": [
    "import statsmodels.formula.api as smf\n",
    "\n",
    "lm2 = smf.ols('lectureN ~ Age+Gender +studentN+studentC+studentO+studentA+studentC', data=personality).fit()\n",
    "lm2.summary() "
   ]
  },
  {
   "cell_type": "code",
   "execution_count": 101,
   "metadata": {},
   "outputs": [
    {
     "name": "stderr",
     "output_type": "stream",
     "text": [
      "C:\\Users\\P2190101\\AppData\\Local\\Continuum\\anaconda3\\lib\\site-packages\\scipy\\stats\\_distn_infrastructure.py:901: RuntimeWarning: invalid value encountered in greater\n",
      "  return (a < x) & (x < b)\n",
      "C:\\Users\\P2190101\\AppData\\Local\\Continuum\\anaconda3\\lib\\site-packages\\scipy\\stats\\_distn_infrastructure.py:901: RuntimeWarning: invalid value encountered in less\n",
      "  return (a < x) & (x < b)\n",
      "C:\\Users\\P2190101\\AppData\\Local\\Continuum\\anaconda3\\lib\\site-packages\\scipy\\stats\\_distn_infrastructure.py:1892: RuntimeWarning: invalid value encountered in less_equal\n",
      "  cond2 = cond0 & (x <= _a)\n"
     ]
    },
    {
     "data": {
      "text/html": [
       "<div>\n",
       "<style scoped>\n",
       "    .dataframe tbody tr th:only-of-type {\n",
       "        vertical-align: middle;\n",
       "    }\n",
       "\n",
       "    .dataframe tbody tr th {\n",
       "        vertical-align: top;\n",
       "    }\n",
       "\n",
       "    .dataframe thead th {\n",
       "        text-align: right;\n",
       "    }\n",
       "</style>\n",
       "<table border=\"1\" class=\"dataframe\">\n",
       "  <thead>\n",
       "    <tr style=\"text-align: right;\">\n",
       "      <th></th>\n",
       "      <th>df_resid</th>\n",
       "      <th>ssr</th>\n",
       "      <th>df_diff</th>\n",
       "      <th>ss_diff</th>\n",
       "      <th>F</th>\n",
       "      <th>Pr(&gt;F)</th>\n",
       "    </tr>\n",
       "  </thead>\n",
       "  <tbody>\n",
       "    <tr>\n",
       "      <td>0</td>\n",
       "      <td>390.0</td>\n",
       "      <td>28633.934825</td>\n",
       "      <td>0.0</td>\n",
       "      <td>NaN</td>\n",
       "      <td>NaN</td>\n",
       "      <td>NaN</td>\n",
       "    </tr>\n",
       "    <tr>\n",
       "      <td>1</td>\n",
       "      <td>366.0</td>\n",
       "      <td>24965.125257</td>\n",
       "      <td>24.0</td>\n",
       "      <td>3668.809568</td>\n",
       "      <td>2.2411</td>\n",
       "      <td>0.000865</td>\n",
       "    </tr>\n",
       "  </tbody>\n",
       "</table>\n",
       "</div>"
      ],
      "text/plain": [
       "   df_resid           ssr  df_diff      ss_diff       F    Pr(>F)\n",
       "0     390.0  28633.934825      0.0          NaN     NaN       NaN\n",
       "1     366.0  24965.125257     24.0  3668.809568  2.2411  0.000865"
      ]
     },
     "execution_count": 101,
     "metadata": {},
     "output_type": "execute_result"
    }
   ],
   "source": [
    "import statsmodels.api as sm\n",
    "table = sm.stats.anova_lm(lm1,lm2)\n",
    "\n",
    "table"
   ]
  },
  {
   "cell_type": "code",
   "execution_count": null,
   "metadata": {},
   "outputs": [],
   "source": []
  }
 ],
 "metadata": {
  "kernelspec": {
   "display_name": "Python 3",
   "language": "python",
   "name": "python3"
  },
  "language_info": {
   "codemirror_mode": {
    "name": "ipython",
    "version": 3
   },
   "file_extension": ".py",
   "mimetype": "text/x-python",
   "name": "python",
   "nbconvert_exporter": "python",
   "pygments_lexer": "ipython3",
   "version": "3.7.4"
  }
 },
 "nbformat": 4,
 "nbformat_minor": 2
}
