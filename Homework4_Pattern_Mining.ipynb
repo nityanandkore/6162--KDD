{
 "cells": [
  {
   "cell_type": "code",
   "execution_count": 66,
   "metadata": {},
   "outputs": [],
   "source": [
    "!pip install Orange3-Associate\n",
    "import pandas \n",
    "import Orange\n",
    "from Orange.data import Domain, DiscreteVariable, ContinuousVariable, Table\n",
    "!pip install orange3\n",
    "!pip install Orange3-Associate\n",
    "from orangecontrib.associate.fpgrowth import *"
   ]
  },
  {
   "cell_type": "code",
   "execution_count": 79,
   "metadata": {},
   "outputs": [
    {
     "data": {
      "text/plain": [
       "[[3rd, Male, Child | No],\n",
       " [3rd, Male, Child | No],\n",
       " [3rd, Male, Child | No],\n",
       " [3rd, Male, Child | No],\n",
       " [3rd, Male, Child | No],\n",
       " ...\n",
       "]"
      ]
     },
     "execution_count": 79,
     "metadata": {},
     "output_type": "execute_result"
    }
   ],
   "source": [
    "Titanic  = Orange.data.Table('C:/Users/P2190101/Desktop/NK Personal/NK Study/UNCC/6162 - KDD/Week 4 - Feb 7/Titanic.csv')\n",
    "\n",
    "Titanic"
   ]
  },
  {
   "cell_type": "code",
   "execution_count": 75,
   "metadata": {},
   "outputs": [
    {
     "data": {
      "text/plain": [
       "[Class, Sex, Age | Survived]"
      ]
     },
     "execution_count": 75,
     "metadata": {},
     "output_type": "execute_result"
    }
   ],
   "source": [
    "#display all the variables in Titanic\n",
    "\n",
    "Titanic.domain"
   ]
  },
  {
   "cell_type": "code",
   "execution_count": 76,
   "metadata": {},
   "outputs": [
    {
     "data": {
      "text/plain": [
       "(DiscreteVariable(name='Class', values=['1st', '2nd', '3rd', 'Crew']),\n",
       " DiscreteVariable(name='Sex', values=['Female', 'Male']),\n",
       " DiscreteVariable(name='Age', values=['Adult', 'Child']))"
      ]
     },
     "execution_count": 76,
     "metadata": {},
     "output_type": "execute_result"
    }
   ],
   "source": [
    "#display all the predictor variables and their possible values\n",
    "Titanic.domain.attributes"
   ]
  },
  {
   "cell_type": "code",
   "execution_count": 97,
   "metadata": {},
   "outputs": [
    {
     "name": "stdout",
     "output_type": "stream",
     "text": [
      "Attributes: Class, Sex, Age\n",
      "Class: Survived\n",
      "Data instances 2201\n"
     ]
    }
   ],
   "source": [
    "#display the target variable and its possible values\n",
    "#print(Titanic.domain.class_var)\n",
    "\n",
    "\n",
    "Titanic.domain.class_var.name\n",
    "print(\"Attributes:\", \", \".join(x.name for x in Titanic.domain.attributes))\n",
    "print(\"Class:\", Titanic.domain.class_var.name)\n",
    "print(\"Data instances\", len(Titanic))"
   ]
  },
  {
   "cell_type": "code",
   "execution_count": 81,
   "metadata": {},
   "outputs": [
    {
     "data": {
      "text/plain": [
       "2201"
      ]
     },
     "execution_count": 81,
     "metadata": {},
     "output_type": "execute_result"
    }
   ],
   "source": [
    "#display number of rows (or cases, tuples) in zoo\n",
    "len(Titanic)\n"
   ]
  },
  {
   "cell_type": "code",
   "execution_count": 82,
   "metadata": {},
   "outputs": [
    {
     "data": {
      "text/plain": [
       "(2201, 10)"
      ]
     },
     "execution_count": 82,
     "metadata": {},
     "output_type": "execute_result"
    }
   ],
   "source": [
    "#transform Titanic into a table X that has “one-hot” vector for each of the variables\n",
    "from orangecontrib.associate.fpgrowth import *\n",
    "X, mapping = OneHot.encode(Titanic, include_class=True)\n",
    "\n",
    "X.shape\n"
   ]
  },
  {
   "cell_type": "code",
   "execution_count": 83,
   "metadata": {},
   "outputs": [
    {
     "data": {
      "text/plain": [
       "dict_items([(0, (0, 0)), (1, (0, 1)), (2, (0, 2)), (3, (0, 3)), (4, (1, 0)), (5, (1, 1)), (6, (2, 0)), (7, (2, 1)), (8, (3, 0)), (9, (3, 1))])"
      ]
     },
     "execution_count": 83,
     "metadata": {},
     "output_type": "execute_result"
    }
   ],
   "source": [
    "mapping.items()"
   ]
  },
  {
   "cell_type": "code",
   "execution_count": 85,
   "metadata": {},
   "outputs": [
    {
     "data": {
      "text/plain": [
       "35"
      ]
     },
     "execution_count": 85,
     "metadata": {},
     "output_type": "execute_result"
    }
   ],
   "source": [
    "#mine the frequent patterns with support threshold as 0.1\n",
    "itemsets = dict(frequent_itemsets(X, .1))\n",
    "len(itemsets)\n"
   ]
  },
  {
   "cell_type": "code",
   "execution_count": 86,
   "metadata": {},
   "outputs": [
    {
     "data": {
      "text/plain": [
       "[frozenset({0}),\n",
       " frozenset({1}),\n",
       " frozenset({2}),\n",
       " frozenset({3}),\n",
       " frozenset({4}),\n",
       " frozenset({5}),\n",
       " frozenset({2, 5}),\n",
       " frozenset({3, 5}),\n",
       " frozenset({6}),\n",
       " frozenset({0, 6}),\n",
       " frozenset({1, 6}),\n",
       " frozenset({2, 6}),\n",
       " frozenset({3, 6}),\n",
       " frozenset({4, 6}),\n",
       " frozenset({5, 6}),\n",
       " frozenset({2, 5, 6}),\n",
       " frozenset({3, 5, 6}),\n",
       " frozenset({8}),\n",
       " frozenset({2, 8}),\n",
       " frozenset({3, 8}),\n",
       " frozenset({5, 8}),\n",
       " frozenset({2, 5, 8}),\n",
       " frozenset({3, 5, 8}),\n",
       " frozenset({6, 8}),\n",
       " frozenset({2, 6, 8}),\n",
       " frozenset({3, 6, 8}),\n",
       " frozenset({5, 6, 8}),\n",
       " frozenset({2, 5, 6, 8}),\n",
       " frozenset({3, 5, 6, 8}),\n",
       " frozenset({9}),\n",
       " frozenset({4, 9}),\n",
       " frozenset({5, 9}),\n",
       " frozenset({6, 9}),\n",
       " frozenset({4, 6, 9}),\n",
       " frozenset({5, 6, 9})]"
      ]
     },
     "execution_count": 86,
     "metadata": {},
     "output_type": "execute_result"
    }
   ],
   "source": [
    "list(itemsets)"
   ]
  },
  {
   "cell_type": "code",
   "execution_count": 87,
   "metadata": {},
   "outputs": [
    {
     "data": {
      "text/plain": [
       "{0: 'Class=1st',\n",
       " 1: 'Class=2nd',\n",
       " 2: 'Class=3rd',\n",
       " 3: 'Class=Crew',\n",
       " 4: 'Sex=Female',\n",
       " 5: 'Sex=Male',\n",
       " 6: 'Age=Adult',\n",
       " 7: 'Age=Child',\n",
       " 8: 'Survived=No',\n",
       " 9: 'Survived=Yes'}"
      ]
     },
     "execution_count": 87,
     "metadata": {},
     "output_type": "execute_result"
    }
   ],
   "source": [
    "#get the item names from the indices \n",
    "names = {item: '{}={}'.format(var.name, val)\n",
    "          for item, var, val in OneHot.decode(mapping, Titanic, mapping)}\n",
    "\n",
    "names\n"
   ]
  },
  {
   "cell_type": "code",
   "execution_count": 90,
   "metadata": {},
   "outputs": [
    {
     "data": {
      "text/plain": [
       "{8, 9}"
      ]
     },
     "execution_count": 90,
     "metadata": {},
     "output_type": "execute_result"
    }
   ],
   "source": [
    "#look at the transformed target variable indices\n",
    "class_items = {item\n",
    "                for item, var, _ in OneHot.decode(mapping, Titanic, mapping)\n",
    "                if var is Titanic.domain.class_var}\n",
    "\n",
    "class_items"
   ]
  },
  {
   "cell_type": "code",
   "execution_count": 91,
   "metadata": {},
   "outputs": [
    {
     "data": {
      "text/plain": [
       "[(frozenset({2, 5, 6}), frozenset({8}), 387, 0.8376623376623377),\n",
       " (frozenset({3, 5, 6}), frozenset({8}), 670, 0.777262180974478),\n",
       " (frozenset({2, 5}), frozenset({8}), 422, 0.8274509803921568),\n",
       " (frozenset({3, 5}), frozenset({8}), 670, 0.777262180974478),\n",
       " (frozenset({2, 6}), frozenset({8}), 476, 0.759170653907496),\n",
       " (frozenset({3, 6}), frozenset({8}), 673, 0.7604519774011299),\n",
       " (frozenset({5, 6}), frozenset({8}), 1329, 0.7972405518896221),\n",
       " (frozenset({4, 6}), frozenset({9}), 316, 0.7435294117647059),\n",
       " (frozenset({2}), frozenset({8}), 528, 0.7478753541076487),\n",
       " (frozenset({3}), frozenset({8}), 673, 0.7604519774011299),\n",
       " (frozenset({5}), frozenset({8}), 1364, 0.7879838243789717),\n",
       " (frozenset({4}), frozenset({9}), 344, 0.7319148936170212)]"
      ]
     },
     "execution_count": 91,
     "metadata": {},
     "output_type": "execute_result"
    }
   ],
   "source": [
    "#generate rules on top of itemsets with confidence threshold 0.7\n",
    "rules = [(P, Q, supp, conf)\n",
    "          for P, Q, supp, conf in association_rules(itemsets, .7)\n",
    "          if len(Q) == 1 and Q & class_items]\n",
    "\n",
    "rules\n"
   ]
  },
  {
   "cell_type": "code",
   "execution_count": 92,
   "metadata": {},
   "outputs": [
    {
     "name": "stdout",
     "output_type": "stream",
     "text": [
      "Class=3rd, Sex=Male, Age=Adult --> Survived=No (supp: 387, conf: 0.8376623376623377)\n",
      "Class=Crew, Sex=Male, Age=Adult --> Survived=No (supp: 670, conf: 0.777262180974478)\n",
      "Class=3rd, Sex=Male --> Survived=No (supp: 422, conf: 0.8274509803921568)\n",
      "Class=Crew, Sex=Male --> Survived=No (supp: 670, conf: 0.777262180974478)\n",
      "Class=3rd, Age=Adult --> Survived=No (supp: 476, conf: 0.759170653907496)\n"
     ]
    }
   ],
   "source": [
    "#convert the indices in the rules to item names\n",
    "for ante, cons, supp, conf in rules[:5]:\n",
    "     print(', '.join(names[i] for i in ante), '-->',\n",
    "           names[next(iter(cons))],\n",
    "           '(supp: {}, conf: {})'.format(supp, conf))\n"
   ]
  },
  {
   "cell_type": "code",
   "execution_count": 93,
   "metadata": {},
   "outputs": [
    {
     "name": "stdout",
     "output_type": "stream",
     "text": [
      "Requirement already satisfied: pyfpgrowth in c:\\users\\p2190101\\appdata\\local\\continuum\\anaconda3\\lib\\site-packages (1.0)\n"
     ]
    }
   ],
   "source": [
    "!pip install pyfpgrowth\n",
    "import pyfpgrowth\n",
    "\n",
    "patterns = pyfpgrowth.find_frequent_patterns(Titanic, 0.1)\n",
    "\n",
    "rules = pyfpgrowth.generate_association_rules(patterns, 0.7)"
   ]
  },
  {
   "cell_type": "code",
   "execution_count": 94,
   "metadata": {},
   "outputs": [
    {
     "data": {
      "text/plain": [
       "{(1.0, 1.0, 1.0, 2.0): 13,\n",
       " (0.0, 1.0, 1.0, 2.0): 124,\n",
       " (0.0, 1.0, 2.0): 1208,\n",
       " (0.0, 0.0, 1.0, 2.0): 480,\n",
       " (0.0, 2.0): 1351,\n",
       " (0.0, 0.0, 2.0): 747,\n",
       " (1.0, 1.0, 3.0): 192,\n",
       " (0.0, 1.0, 1.0, 3.0): 192,\n",
       " (0.0, 1.0, 3.0): 1764,\n",
       " (0.0, 0.0, 1.0, 3.0): 690,\n",
       " (0.0, 3.0): 1581,\n",
       " (0.0, 0.0, 3.0): 699,\n",
       " (1.0, 1.0, 1.0, 1.0): 11,\n",
       " (0.0, 1.0, 1.0, 1.0): 32,\n",
       " (0.0, 1.0, 1.0): 996,\n",
       " (0.0, 0.0, 1.0, 1.0): 292,\n",
       " (0.0, 1.0): 5049,\n",
       " (0.0, 0.0, 1.0): 2567,\n",
       " (0.0,): 4377,\n",
       " (0.0, 0.0): 2575}"
      ]
     },
     "execution_count": 94,
     "metadata": {},
     "output_type": "execute_result"
    }
   ],
   "source": [
    "patterns"
   ]
  },
  {
   "cell_type": "code",
   "execution_count": 95,
   "metadata": {},
   "outputs": [
    {
     "data": {
      "text/plain": [
       "{(0.0, 2.0): ((1.0,), 0.8941524796447077),\n",
       " (1.0, 1.0, 3.0): ((0.0,), 1.0),\n",
       " (0.0, 3.0): ((1.0,), 1.1157495256166983),\n",
       " (0.0, 0.0, 3.0): ((1.0,), 0.9871244635193133),\n",
       " (0.0,): ((1.0,), 1.153529814941741),\n",
       " (0.0, 0.0): ((1.0,), 0.9968932038834951)}"
      ]
     },
     "execution_count": 95,
     "metadata": {},
     "output_type": "execute_result"
    }
   ],
   "source": [
    "rules"
   ]
  },
  {
   "cell_type": "code",
   "execution_count": null,
   "metadata": {},
   "outputs": [],
   "source": []
  }
 ],
 "metadata": {
  "kernelspec": {
   "display_name": "Python 3",
   "language": "python",
   "name": "python3"
  },
  "language_info": {
   "codemirror_mode": {
    "name": "ipython",
    "version": 3
   },
   "file_extension": ".py",
   "mimetype": "text/x-python",
   "name": "python",
   "nbconvert_exporter": "python",
   "pygments_lexer": "ipython3",
   "version": "3.7.4"
  }
 },
 "nbformat": 4,
 "nbformat_minor": 4
}
