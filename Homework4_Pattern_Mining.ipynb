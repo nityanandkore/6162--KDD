{
  "nbformat": 4,
  "nbformat_minor": 0,
  "metadata": {
    "kernelspec": {
      "display_name": "Python 3",
      "language": "python",
      "name": "python3"
    },
    "language_info": {
      "codemirror_mode": {
        "name": "ipython",
        "version": 3
      },
      "file_extension": ".py",
      "mimetype": "text/x-python",
      "name": "python",
      "nbconvert_exporter": "python",
      "pygments_lexer": "ipython3",
      "version": "3.7.4"
    },
    "colab": {
      "name": "Homework4_Pattern_Mining.ipynb",
      "provenance": [],
      "include_colab_link": true
    }
  },
  "cells": [
    {
      "cell_type": "markdown",
      "metadata": {
        "id": "view-in-github",
        "colab_type": "text"
      },
      "source": [
        "<a href=\"https://colab.research.google.com/github/nityanandkore/6162-KDD/blob/master/Homework4_Pattern_Mining.ipynb\" target=\"_parent\"><img src=\"https://colab.research.google.com/assets/colab-badge.svg\" alt=\"Open In Colab\"/></a>"
      ]
    },
    {
      "cell_type": "code",
      "metadata": {
        "id": "TDhrds8V2nXq",
        "colab_type": "code",
        "colab": {
          "base_uri": "https://localhost:8080/",
          "height": 152
        },
        "outputId": "ac6c0ad0-8b3f-471c-a6bd-2ab104d71888"
      },
      "source": [
        "!rm -rf 6162-KDD\n",
        "!git clone https://github.com/nityanandkore/6162-KDD.git"
      ],
      "execution_count": 1,
      "outputs": [
        {
          "output_type": "stream",
          "text": [
            "Cloning into '6162-KDD'...\n",
            "remote: Enumerating objects: 84, done.\u001b[K\n",
            "remote: Counting objects: 100% (84/84), done.\u001b[K\n",
            "remote: Compressing objects: 100% (82/82), done.\u001b[K\n",
            "remote: Total 84 (delta 34), reused 0 (delta 0), pack-reused 0\u001b[K\n",
            "Unpacking objects: 100% (84/84), done.\n"
          ],
          "name": "stdout"
        }
      ]
    },
    {
      "cell_type": "code",
      "metadata": {
        "id": "bsiBbGjd2kUt",
        "colab_type": "code",
        "colab": {
          "base_uri": "https://localhost:8080/",
          "height": 378
        },
        "outputId": "ef9a9807-1bf0-4f90-f3f0-16612e29acba"
      },
      "source": [
        "!pip install Orange3-Associate\n",
        "import pandas \n",
        "import Orange\n",
        "from Orange.data import Domain, DiscreteVariable, ContinuousVariable, Table\n",
        "!pip install orange3\n",
        "!pip install Orange3-Associate\n",
        "from orangecontrib.associate.fpgrowth import *"
      ],
      "execution_count": 5,
      "outputs": [
        {
          "output_type": "error",
          "ename": "ModuleNotFoundError",
          "evalue": "ignored",
          "traceback": [
            "\u001b[0;31m---------------------------------------------------------------------------\u001b[0m",
            "\u001b[0;31mModuleNotFoundError\u001b[0m                       Traceback (most recent call last)",
            "\u001b[0;32m<ipython-input-5-811eccd9972b>\u001b[0m in \u001b[0;36m<module>\u001b[0;34m()\u001b[0m\n\u001b[1;32m      1\u001b[0m \u001b[0;34m\u001b[0m\u001b[0m\n\u001b[1;32m      2\u001b[0m \u001b[0;32mimport\u001b[0m \u001b[0mpandas\u001b[0m\u001b[0;34m\u001b[0m\u001b[0;34m\u001b[0m\u001b[0m\n\u001b[0;32m----> 3\u001b[0;31m \u001b[0;32mimport\u001b[0m \u001b[0mOrange3\u001b[0m\u001b[0;34m\u001b[0m\u001b[0;34m\u001b[0m\u001b[0m\n\u001b[0m\u001b[1;32m      4\u001b[0m \u001b[0;32mfrom\u001b[0m \u001b[0mOrange\u001b[0m\u001b[0;34m.\u001b[0m\u001b[0mdata\u001b[0m \u001b[0;32mimport\u001b[0m \u001b[0mDomain\u001b[0m\u001b[0;34m,\u001b[0m \u001b[0mDiscreteVariable\u001b[0m\u001b[0;34m,\u001b[0m \u001b[0mContinuousVariable\u001b[0m\u001b[0;34m,\u001b[0m \u001b[0mTable\u001b[0m\u001b[0;34m\u001b[0m\u001b[0;34m\u001b[0m\u001b[0m\n\u001b[1;32m      5\u001b[0m \u001b[0;34m\u001b[0m\u001b[0m\n",
            "\u001b[0;31mModuleNotFoundError\u001b[0m: No module named 'Orange3'",
            "",
            "\u001b[0;31m---------------------------------------------------------------------------\u001b[0;32m\nNOTE: If your import is failing due to a missing package, you can\nmanually install dependencies using either !pip or !apt.\n\nTo view examples of installing some common dependencies, click the\n\"Open Examples\" button below.\n\u001b[0;31m---------------------------------------------------------------------------\u001b[0m\n"
          ]
        }
      ]
    },
    {
      "cell_type": "code",
      "metadata": {
        "id": "Bk6wqRV62kVL",
        "colab_type": "code",
        "colab": {
          "base_uri": "https://localhost:8080/",
          "height": 202
        },
        "outputId": "13681f76-b3d7-47fb-a7ee-e82ccebb2d70"
      },
      "source": [
        "Titanic  = Orange.data.Table('6162-KDD/DataSet/Titanic.csv')\n",
        "\n",
        "Titanic"
      ],
      "execution_count": 3,
      "outputs": [
        {
          "output_type": "error",
          "ename": "NameError",
          "evalue": "ignored",
          "traceback": [
            "\u001b[0;31m---------------------------------------------------------------------------\u001b[0m",
            "\u001b[0;31mNameError\u001b[0m                                 Traceback (most recent call last)",
            "\u001b[0;32m<ipython-input-3-443213454d2a>\u001b[0m in \u001b[0;36m<module>\u001b[0;34m()\u001b[0m\n\u001b[0;32m----> 1\u001b[0;31m \u001b[0mTitanic\u001b[0m  \u001b[0;34m=\u001b[0m \u001b[0mOrange\u001b[0m\u001b[0;34m.\u001b[0m\u001b[0mdata\u001b[0m\u001b[0;34m.\u001b[0m\u001b[0mTable\u001b[0m\u001b[0;34m(\u001b[0m\u001b[0;34m'6162-KDD/DataSet/Titanic.csv'\u001b[0m\u001b[0;34m)\u001b[0m\u001b[0;34m\u001b[0m\u001b[0;34m\u001b[0m\u001b[0m\n\u001b[0m\u001b[1;32m      2\u001b[0m \u001b[0;34m\u001b[0m\u001b[0m\n\u001b[1;32m      3\u001b[0m \u001b[0mTitanic\u001b[0m\u001b[0;34m\u001b[0m\u001b[0;34m\u001b[0m\u001b[0m\n",
            "\u001b[0;31mNameError\u001b[0m: name 'Orange' is not defined"
          ]
        }
      ]
    },
    {
      "cell_type": "code",
      "metadata": {
        "id": "FzxNJUgo2kVs",
        "colab_type": "code",
        "colab": {},
        "outputId": "8108e116-8329-4324-e8f7-765424bb8e9b"
      },
      "source": [
        "#display all the variables in Titanic\n",
        "\n",
        "Titanic.domain"
      ],
      "execution_count": 0,
      "outputs": [
        {
          "output_type": "execute_result",
          "data": {
            "text/plain": [
              "[Class, Sex, Age | Survived]"
            ]
          },
          "metadata": {
            "tags": []
          },
          "execution_count": 75
        }
      ]
    },
    {
      "cell_type": "code",
      "metadata": {
        "id": "n42Rh_9b2kWJ",
        "colab_type": "code",
        "colab": {},
        "outputId": "cec623cc-9da2-4c00-cc69-38703d7c76a9"
      },
      "source": [
        "#display all the predictor variables and their possible values\n",
        "Titanic.domain.attributes"
      ],
      "execution_count": 0,
      "outputs": [
        {
          "output_type": "execute_result",
          "data": {
            "text/plain": [
              "(DiscreteVariable(name='Class', values=['1st', '2nd', '3rd', 'Crew']),\n",
              " DiscreteVariable(name='Sex', values=['Female', 'Male']),\n",
              " DiscreteVariable(name='Age', values=['Adult', 'Child']))"
            ]
          },
          "metadata": {
            "tags": []
          },
          "execution_count": 76
        }
      ]
    },
    {
      "cell_type": "code",
      "metadata": {
        "id": "7DihhDsC2kWk",
        "colab_type": "code",
        "colab": {},
        "outputId": "7ef2c196-38a1-4f52-8318-af5096087ad4"
      },
      "source": [
        "#display the target variable and its possible values\n",
        "#print(Titanic.domain.class_var)\n",
        "\n",
        "\n",
        "Titanic.domain.class_var.name\n",
        "print(\"Attributes:\", \", \".join(x.name for x in Titanic.domain.attributes))\n",
        "print(\"Class:\", Titanic.domain.class_var.name)\n",
        "print(\"Data instances\", len(Titanic))"
      ],
      "execution_count": 0,
      "outputs": [
        {
          "output_type": "stream",
          "text": [
            "Attributes: Class, Sex, Age\n",
            "Class: Survived\n",
            "Data instances 2201\n"
          ],
          "name": "stdout"
        }
      ]
    },
    {
      "cell_type": "code",
      "metadata": {
        "id": "2QirBcLT2kW9",
        "colab_type": "code",
        "colab": {},
        "outputId": "8e850886-a854-4085-e12a-0722a161d9e5"
      },
      "source": [
        "#display number of rows (or cases, tuples) in zoo\n",
        "len(Titanic)\n"
      ],
      "execution_count": 0,
      "outputs": [
        {
          "output_type": "execute_result",
          "data": {
            "text/plain": [
              "2201"
            ]
          },
          "metadata": {
            "tags": []
          },
          "execution_count": 81
        }
      ]
    },
    {
      "cell_type": "code",
      "metadata": {
        "id": "NIhOrBc22kXR",
        "colab_type": "code",
        "colab": {},
        "outputId": "7eb80e87-de79-496f-a241-109a3239f1b4"
      },
      "source": [
        "#transform Titanic into a table X that has “one-hot” vector for each of the variables\n",
        "from orangecontrib.associate.fpgrowth import *\n",
        "X, mapping = OneHot.encode(Titanic, include_class=True)\n",
        "\n",
        "X.shape\n"
      ],
      "execution_count": 0,
      "outputs": [
        {
          "output_type": "execute_result",
          "data": {
            "text/plain": [
              "(2201, 10)"
            ]
          },
          "metadata": {
            "tags": []
          },
          "execution_count": 82
        }
      ]
    },
    {
      "cell_type": "code",
      "metadata": {
        "id": "M5h-T0DB2kX2",
        "colab_type": "code",
        "colab": {},
        "outputId": "d2d56d4f-a256-46b5-8f88-53f1bc2ce604"
      },
      "source": [
        "mapping.items()"
      ],
      "execution_count": 0,
      "outputs": [
        {
          "output_type": "execute_result",
          "data": {
            "text/plain": [
              "dict_items([(0, (0, 0)), (1, (0, 1)), (2, (0, 2)), (3, (0, 3)), (4, (1, 0)), (5, (1, 1)), (6, (2, 0)), (7, (2, 1)), (8, (3, 0)), (9, (3, 1))])"
            ]
          },
          "metadata": {
            "tags": []
          },
          "execution_count": 83
        }
      ]
    },
    {
      "cell_type": "code",
      "metadata": {
        "id": "eY0DNXe92kYS",
        "colab_type": "code",
        "colab": {},
        "outputId": "ca79c813-d082-48d0-bd44-1e5b20afa3ed"
      },
      "source": [
        "#mine the frequent patterns with support threshold as 0.1\n",
        "itemsets = dict(frequent_itemsets(X, .1))\n",
        "len(itemsets)\n"
      ],
      "execution_count": 0,
      "outputs": [
        {
          "output_type": "execute_result",
          "data": {
            "text/plain": [
              "35"
            ]
          },
          "metadata": {
            "tags": []
          },
          "execution_count": 85
        }
      ]
    },
    {
      "cell_type": "code",
      "metadata": {
        "id": "g6CLn8362kYs",
        "colab_type": "code",
        "colab": {},
        "outputId": "644263ae-59b4-4670-a24d-4628956f582f"
      },
      "source": [
        "list(itemsets)"
      ],
      "execution_count": 0,
      "outputs": [
        {
          "output_type": "execute_result",
          "data": {
            "text/plain": [
              "[frozenset({0}),\n",
              " frozenset({1}),\n",
              " frozenset({2}),\n",
              " frozenset({3}),\n",
              " frozenset({4}),\n",
              " frozenset({5}),\n",
              " frozenset({2, 5}),\n",
              " frozenset({3, 5}),\n",
              " frozenset({6}),\n",
              " frozenset({0, 6}),\n",
              " frozenset({1, 6}),\n",
              " frozenset({2, 6}),\n",
              " frozenset({3, 6}),\n",
              " frozenset({4, 6}),\n",
              " frozenset({5, 6}),\n",
              " frozenset({2, 5, 6}),\n",
              " frozenset({3, 5, 6}),\n",
              " frozenset({8}),\n",
              " frozenset({2, 8}),\n",
              " frozenset({3, 8}),\n",
              " frozenset({5, 8}),\n",
              " frozenset({2, 5, 8}),\n",
              " frozenset({3, 5, 8}),\n",
              " frozenset({6, 8}),\n",
              " frozenset({2, 6, 8}),\n",
              " frozenset({3, 6, 8}),\n",
              " frozenset({5, 6, 8}),\n",
              " frozenset({2, 5, 6, 8}),\n",
              " frozenset({3, 5, 6, 8}),\n",
              " frozenset({9}),\n",
              " frozenset({4, 9}),\n",
              " frozenset({5, 9}),\n",
              " frozenset({6, 9}),\n",
              " frozenset({4, 6, 9}),\n",
              " frozenset({5, 6, 9})]"
            ]
          },
          "metadata": {
            "tags": []
          },
          "execution_count": 86
        }
      ]
    },
    {
      "cell_type": "code",
      "metadata": {
        "id": "3aTD_IYh2kZB",
        "colab_type": "code",
        "colab": {},
        "outputId": "b60203eb-de40-4fbd-a640-84d10c9f8f22"
      },
      "source": [
        "#get the item names from the indices \n",
        "names = {item: '{}={}'.format(var.name, val)\n",
        "          for item, var, val in OneHot.decode(mapping, Titanic, mapping)}\n",
        "\n",
        "names\n"
      ],
      "execution_count": 0,
      "outputs": [
        {
          "output_type": "execute_result",
          "data": {
            "text/plain": [
              "{0: 'Class=1st',\n",
              " 1: 'Class=2nd',\n",
              " 2: 'Class=3rd',\n",
              " 3: 'Class=Crew',\n",
              " 4: 'Sex=Female',\n",
              " 5: 'Sex=Male',\n",
              " 6: 'Age=Adult',\n",
              " 7: 'Age=Child',\n",
              " 8: 'Survived=No',\n",
              " 9: 'Survived=Yes'}"
            ]
          },
          "metadata": {
            "tags": []
          },
          "execution_count": 87
        }
      ]
    },
    {
      "cell_type": "code",
      "metadata": {
        "id": "t3hLas1m2kZT",
        "colab_type": "code",
        "colab": {},
        "outputId": "25efb84f-504f-4ac4-ac26-6b92efe1ba02"
      },
      "source": [
        "#look at the transformed target variable indices\n",
        "class_items = {item\n",
        "                for item, var, _ in OneHot.decode(mapping, Titanic, mapping)\n",
        "                if var is Titanic.domain.class_var}\n",
        "\n",
        "class_items"
      ],
      "execution_count": 0,
      "outputs": [
        {
          "output_type": "execute_result",
          "data": {
            "text/plain": [
              "{8, 9}"
            ]
          },
          "metadata": {
            "tags": []
          },
          "execution_count": 90
        }
      ]
    },
    {
      "cell_type": "code",
      "metadata": {
        "id": "oMajWNt52kZm",
        "colab_type": "code",
        "colab": {},
        "outputId": "29a7308c-2c50-4099-aea3-ad73c6bab47a"
      },
      "source": [
        "#generate rules on top of itemsets with confidence threshold 0.7\n",
        "rules = [(P, Q, supp, conf)\n",
        "          for P, Q, supp, conf in association_rules(itemsets, .7)\n",
        "          if len(Q) == 1 and Q & class_items]\n",
        "\n",
        "rules\n"
      ],
      "execution_count": 0,
      "outputs": [
        {
          "output_type": "execute_result",
          "data": {
            "text/plain": [
              "[(frozenset({2, 5, 6}), frozenset({8}), 387, 0.8376623376623377),\n",
              " (frozenset({3, 5, 6}), frozenset({8}), 670, 0.777262180974478),\n",
              " (frozenset({2, 5}), frozenset({8}), 422, 0.8274509803921568),\n",
              " (frozenset({3, 5}), frozenset({8}), 670, 0.777262180974478),\n",
              " (frozenset({2, 6}), frozenset({8}), 476, 0.759170653907496),\n",
              " (frozenset({3, 6}), frozenset({8}), 673, 0.7604519774011299),\n",
              " (frozenset({5, 6}), frozenset({8}), 1329, 0.7972405518896221),\n",
              " (frozenset({4, 6}), frozenset({9}), 316, 0.7435294117647059),\n",
              " (frozenset({2}), frozenset({8}), 528, 0.7478753541076487),\n",
              " (frozenset({3}), frozenset({8}), 673, 0.7604519774011299),\n",
              " (frozenset({5}), frozenset({8}), 1364, 0.7879838243789717),\n",
              " (frozenset({4}), frozenset({9}), 344, 0.7319148936170212)]"
            ]
          },
          "metadata": {
            "tags": []
          },
          "execution_count": 91
        }
      ]
    },
    {
      "cell_type": "code",
      "metadata": {
        "id": "UUEDNcJu2kZ8",
        "colab_type": "code",
        "colab": {},
        "outputId": "25af2896-c352-4e0d-8524-9dbfda721039"
      },
      "source": [
        "#convert the indices in the rules to item names\n",
        "for ante, cons, supp, conf in rules[:5]:\n",
        "     print(', '.join(names[i] for i in ante), '-->',\n",
        "           names[next(iter(cons))],\n",
        "           '(supp: {}, conf: {})'.format(supp, conf))\n"
      ],
      "execution_count": 0,
      "outputs": [
        {
          "output_type": "stream",
          "text": [
            "Class=3rd, Sex=Male, Age=Adult --> Survived=No (supp: 387, conf: 0.8376623376623377)\n",
            "Class=Crew, Sex=Male, Age=Adult --> Survived=No (supp: 670, conf: 0.777262180974478)\n",
            "Class=3rd, Sex=Male --> Survived=No (supp: 422, conf: 0.8274509803921568)\n",
            "Class=Crew, Sex=Male --> Survived=No (supp: 670, conf: 0.777262180974478)\n",
            "Class=3rd, Age=Adult --> Survived=No (supp: 476, conf: 0.759170653907496)\n"
          ],
          "name": "stdout"
        }
      ]
    },
    {
      "cell_type": "code",
      "metadata": {
        "id": "AK73u6wa2kdi",
        "colab_type": "code",
        "colab": {},
        "outputId": "4ea2b702-ccbe-4460-eaae-15c88fb5ab8d"
      },
      "source": [
        "!pip install pyfpgrowth\n",
        "import pyfpgrowth\n",
        "\n",
        "patterns = pyfpgrowth.find_frequent_patterns(Titanic, 0.1)\n",
        "\n",
        "rules = pyfpgrowth.generate_association_rules(patterns, 0.7)"
      ],
      "execution_count": 0,
      "outputs": [
        {
          "output_type": "stream",
          "text": [
            "Requirement already satisfied: pyfpgrowth in c:\\users\\p2190101\\appdata\\local\\continuum\\anaconda3\\lib\\site-packages (1.0)\n"
          ],
          "name": "stdout"
        }
      ]
    },
    {
      "cell_type": "code",
      "metadata": {
        "id": "hJmnj9TF2kd2",
        "colab_type": "code",
        "colab": {},
        "outputId": "68ce71db-9aaf-4b15-ef60-f826bb3dbab3"
      },
      "source": [
        "patterns"
      ],
      "execution_count": 0,
      "outputs": [
        {
          "output_type": "execute_result",
          "data": {
            "text/plain": [
              "{(1.0, 1.0, 1.0, 2.0): 13,\n",
              " (0.0, 1.0, 1.0, 2.0): 124,\n",
              " (0.0, 1.0, 2.0): 1208,\n",
              " (0.0, 0.0, 1.0, 2.0): 480,\n",
              " (0.0, 2.0): 1351,\n",
              " (0.0, 0.0, 2.0): 747,\n",
              " (1.0, 1.0, 3.0): 192,\n",
              " (0.0, 1.0, 1.0, 3.0): 192,\n",
              " (0.0, 1.0, 3.0): 1764,\n",
              " (0.0, 0.0, 1.0, 3.0): 690,\n",
              " (0.0, 3.0): 1581,\n",
              " (0.0, 0.0, 3.0): 699,\n",
              " (1.0, 1.0, 1.0, 1.0): 11,\n",
              " (0.0, 1.0, 1.0, 1.0): 32,\n",
              " (0.0, 1.0, 1.0): 996,\n",
              " (0.0, 0.0, 1.0, 1.0): 292,\n",
              " (0.0, 1.0): 5049,\n",
              " (0.0, 0.0, 1.0): 2567,\n",
              " (0.0,): 4377,\n",
              " (0.0, 0.0): 2575}"
            ]
          },
          "metadata": {
            "tags": []
          },
          "execution_count": 94
        }
      ]
    },
    {
      "cell_type": "code",
      "metadata": {
        "id": "49DsYp0z2keN",
        "colab_type": "code",
        "colab": {},
        "outputId": "db7cecf6-91a2-4a57-cd40-4d792ae44c3d"
      },
      "source": [
        "rules"
      ],
      "execution_count": 0,
      "outputs": [
        {
          "output_type": "execute_result",
          "data": {
            "text/plain": [
              "{(0.0, 2.0): ((1.0,), 0.8941524796447077),\n",
              " (1.0, 1.0, 3.0): ((0.0,), 1.0),\n",
              " (0.0, 3.0): ((1.0,), 1.1157495256166983),\n",
              " (0.0, 0.0, 3.0): ((1.0,), 0.9871244635193133),\n",
              " (0.0,): ((1.0,), 1.153529814941741),\n",
              " (0.0, 0.0): ((1.0,), 0.9968932038834951)}"
            ]
          },
          "metadata": {
            "tags": []
          },
          "execution_count": 95
        }
      ]
    },
    {
      "cell_type": "code",
      "metadata": {
        "id": "CNi4DFPV2kek",
        "colab_type": "code",
        "colab": {}
      },
      "source": [
        ""
      ],
      "execution_count": 0,
      "outputs": []
    }
  ]
}