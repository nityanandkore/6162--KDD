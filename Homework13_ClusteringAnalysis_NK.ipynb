{
  "nbformat": 4,
  "nbformat_minor": 0,
  "metadata": {
    "kernelspec": {
      "display_name": "Python 3",
      "language": "python",
      "name": "python3"
    },
    "language_info": {
      "codemirror_mode": {
        "name": "ipython",
        "version": 3
      },
      "file_extension": ".py",
      "mimetype": "text/x-python",
      "name": "python",
      "nbconvert_exporter": "python",
      "pygments_lexer": "ipython3",
      "version": "3.7.4"
    },
    "colab": {
      "name": "Homework13_ClusteringAnalysis_NK.ipynb",
      "provenance": [],
      "include_colab_link": true
    }
  },
  "cells": [
    {
      "cell_type": "markdown",
      "metadata": {
        "id": "view-in-github",
        "colab_type": "text"
      },
      "source": [
        "<a href=\"https://colab.research.google.com/github/nityanandkore/6162-KDD/blob/master/Homework13_ClusteringAnalysis_NK.ipynb\" target=\"_parent\"><img src=\"https://colab.research.google.com/assets/colab-badge.svg\" alt=\"Open In Colab\"/></a>"
      ]
    },
    {
      "cell_type": "code",
      "metadata": {
        "id": "8b6cF6uxI-6S",
        "colab_type": "code",
        "colab": {
          "base_uri": "https://localhost:8080/",
          "height": 153
        },
        "outputId": "9035347c-424f-4fde-df3c-0785199a8562"
      },
      "source": [
        "!rm 6162-KDD\n",
        "!git clone https://github.com/nityanandkore/6162-KDD.git"
      ],
      "execution_count": 1,
      "outputs": [
        {
          "output_type": "stream",
          "text": [
            "rm: cannot remove '6162-KDD': No such file or directory\n",
            "Cloning into '6162-KDD'...\n",
            "remote: Enumerating objects: 60, done.\u001b[K\n",
            "remote: Counting objects: 100% (60/60), done.\u001b[K\n",
            "remote: Compressing objects: 100% (60/60), done.\u001b[K\n",
            "remote: Total 189 (delta 30), reused 0 (delta 0), pack-reused 129\u001b[K\n",
            "Receiving objects: 100% (189/189), 26.77 MiB | 9.67 MiB/s, done.\n",
            "Resolving deltas: 100% (96/96), done.\n"
          ],
          "name": "stdout"
        }
      ]
    },
    {
      "cell_type": "code",
      "metadata": {
        "id": "2EQTDx13I-Lp",
        "colab_type": "code",
        "colab": {}
      },
      "source": [
        "import pandas as pd\n",
        "import numpy as np\n",
        "import matplotlib.pylab as plt\n",
        "from sklearn.model_selection import train_test_split\n",
        "from sklearn import preprocessing\n",
        "from sklearn.cluster import KMeans"
      ],
      "execution_count": 0,
      "outputs": []
    },
    {
      "cell_type": "code",
      "metadata": {
        "id": "FT9zxHisI-Lt",
        "colab_type": "code",
        "colab": {}
      },
      "source": [
        "df=pd.read_csv(\"/content/6162-KDD/DataSet/longley.csv\",index_col=0)"
      ],
      "execution_count": 0,
      "outputs": []
    },
    {
      "cell_type": "code",
      "metadata": {
        "id": "sRlmmkNEI-Lw",
        "colab_type": "code",
        "colab": {
          "base_uri": "https://localhost:8080/",
          "height": 545
        },
        "outputId": "83deb3b4-5d2e-442e-d727-4cc91c9cdf94"
      },
      "source": [
        "df"
      ],
      "execution_count": 5,
      "outputs": [
        {
          "output_type": "execute_result",
          "data": {
            "text/html": [
              "<div>\n",
              "<style scoped>\n",
              "    .dataframe tbody tr th:only-of-type {\n",
              "        vertical-align: middle;\n",
              "    }\n",
              "\n",
              "    .dataframe tbody tr th {\n",
              "        vertical-align: top;\n",
              "    }\n",
              "\n",
              "    .dataframe thead th {\n",
              "        text-align: right;\n",
              "    }\n",
              "</style>\n",
              "<table border=\"1\" class=\"dataframe\">\n",
              "  <thead>\n",
              "    <tr style=\"text-align: right;\">\n",
              "      <th></th>\n",
              "      <th>GNP.deflator</th>\n",
              "      <th>GNP</th>\n",
              "      <th>Unemployed</th>\n",
              "      <th>Armed.Forces</th>\n",
              "      <th>Population</th>\n",
              "      <th>Year</th>\n",
              "      <th>Employed</th>\n",
              "    </tr>\n",
              "  </thead>\n",
              "  <tbody>\n",
              "    <tr>\n",
              "      <th>1947</th>\n",
              "      <td>83.0</td>\n",
              "      <td>234.289</td>\n",
              "      <td>235.6</td>\n",
              "      <td>159.0</td>\n",
              "      <td>107.608</td>\n",
              "      <td>1947</td>\n",
              "      <td>60.323</td>\n",
              "    </tr>\n",
              "    <tr>\n",
              "      <th>1948</th>\n",
              "      <td>88.5</td>\n",
              "      <td>259.426</td>\n",
              "      <td>232.5</td>\n",
              "      <td>145.6</td>\n",
              "      <td>108.632</td>\n",
              "      <td>1948</td>\n",
              "      <td>61.122</td>\n",
              "    </tr>\n",
              "    <tr>\n",
              "      <th>1949</th>\n",
              "      <td>88.2</td>\n",
              "      <td>258.054</td>\n",
              "      <td>368.2</td>\n",
              "      <td>161.6</td>\n",
              "      <td>109.773</td>\n",
              "      <td>1949</td>\n",
              "      <td>60.171</td>\n",
              "    </tr>\n",
              "    <tr>\n",
              "      <th>1950</th>\n",
              "      <td>89.5</td>\n",
              "      <td>284.599</td>\n",
              "      <td>335.1</td>\n",
              "      <td>165.0</td>\n",
              "      <td>110.929</td>\n",
              "      <td>1950</td>\n",
              "      <td>61.187</td>\n",
              "    </tr>\n",
              "    <tr>\n",
              "      <th>1951</th>\n",
              "      <td>96.2</td>\n",
              "      <td>328.975</td>\n",
              "      <td>209.9</td>\n",
              "      <td>309.9</td>\n",
              "      <td>112.075</td>\n",
              "      <td>1951</td>\n",
              "      <td>63.221</td>\n",
              "    </tr>\n",
              "    <tr>\n",
              "      <th>1952</th>\n",
              "      <td>98.1</td>\n",
              "      <td>346.999</td>\n",
              "      <td>193.2</td>\n",
              "      <td>359.4</td>\n",
              "      <td>113.270</td>\n",
              "      <td>1952</td>\n",
              "      <td>63.639</td>\n",
              "    </tr>\n",
              "    <tr>\n",
              "      <th>1953</th>\n",
              "      <td>99.0</td>\n",
              "      <td>365.385</td>\n",
              "      <td>187.0</td>\n",
              "      <td>354.7</td>\n",
              "      <td>115.094</td>\n",
              "      <td>1953</td>\n",
              "      <td>64.989</td>\n",
              "    </tr>\n",
              "    <tr>\n",
              "      <th>1954</th>\n",
              "      <td>100.0</td>\n",
              "      <td>363.112</td>\n",
              "      <td>357.8</td>\n",
              "      <td>335.0</td>\n",
              "      <td>116.219</td>\n",
              "      <td>1954</td>\n",
              "      <td>63.761</td>\n",
              "    </tr>\n",
              "    <tr>\n",
              "      <th>1955</th>\n",
              "      <td>101.2</td>\n",
              "      <td>397.469</td>\n",
              "      <td>290.4</td>\n",
              "      <td>304.8</td>\n",
              "      <td>117.388</td>\n",
              "      <td>1955</td>\n",
              "      <td>66.019</td>\n",
              "    </tr>\n",
              "    <tr>\n",
              "      <th>1956</th>\n",
              "      <td>104.6</td>\n",
              "      <td>419.180</td>\n",
              "      <td>282.2</td>\n",
              "      <td>285.7</td>\n",
              "      <td>118.734</td>\n",
              "      <td>1956</td>\n",
              "      <td>67.857</td>\n",
              "    </tr>\n",
              "    <tr>\n",
              "      <th>1957</th>\n",
              "      <td>108.4</td>\n",
              "      <td>442.769</td>\n",
              "      <td>293.6</td>\n",
              "      <td>279.8</td>\n",
              "      <td>120.445</td>\n",
              "      <td>1957</td>\n",
              "      <td>68.169</td>\n",
              "    </tr>\n",
              "    <tr>\n",
              "      <th>1958</th>\n",
              "      <td>110.8</td>\n",
              "      <td>444.546</td>\n",
              "      <td>468.1</td>\n",
              "      <td>263.7</td>\n",
              "      <td>121.950</td>\n",
              "      <td>1958</td>\n",
              "      <td>66.513</td>\n",
              "    </tr>\n",
              "    <tr>\n",
              "      <th>1959</th>\n",
              "      <td>112.6</td>\n",
              "      <td>482.704</td>\n",
              "      <td>381.3</td>\n",
              "      <td>255.2</td>\n",
              "      <td>123.366</td>\n",
              "      <td>1959</td>\n",
              "      <td>68.655</td>\n",
              "    </tr>\n",
              "    <tr>\n",
              "      <th>1960</th>\n",
              "      <td>114.2</td>\n",
              "      <td>502.601</td>\n",
              "      <td>393.1</td>\n",
              "      <td>251.4</td>\n",
              "      <td>125.368</td>\n",
              "      <td>1960</td>\n",
              "      <td>69.564</td>\n",
              "    </tr>\n",
              "    <tr>\n",
              "      <th>1961</th>\n",
              "      <td>115.7</td>\n",
              "      <td>518.173</td>\n",
              "      <td>480.6</td>\n",
              "      <td>257.2</td>\n",
              "      <td>127.852</td>\n",
              "      <td>1961</td>\n",
              "      <td>69.331</td>\n",
              "    </tr>\n",
              "    <tr>\n",
              "      <th>1962</th>\n",
              "      <td>116.9</td>\n",
              "      <td>554.894</td>\n",
              "      <td>400.7</td>\n",
              "      <td>282.7</td>\n",
              "      <td>130.081</td>\n",
              "      <td>1962</td>\n",
              "      <td>70.551</td>\n",
              "    </tr>\n",
              "  </tbody>\n",
              "</table>\n",
              "</div>"
            ],
            "text/plain": [
              "      GNP.deflator      GNP  Unemployed  ...  Population  Year  Employed\n",
              "1947          83.0  234.289       235.6  ...     107.608  1947    60.323\n",
              "1948          88.5  259.426       232.5  ...     108.632  1948    61.122\n",
              "1949          88.2  258.054       368.2  ...     109.773  1949    60.171\n",
              "1950          89.5  284.599       335.1  ...     110.929  1950    61.187\n",
              "1951          96.2  328.975       209.9  ...     112.075  1951    63.221\n",
              "1952          98.1  346.999       193.2  ...     113.270  1952    63.639\n",
              "1953          99.0  365.385       187.0  ...     115.094  1953    64.989\n",
              "1954         100.0  363.112       357.8  ...     116.219  1954    63.761\n",
              "1955         101.2  397.469       290.4  ...     117.388  1955    66.019\n",
              "1956         104.6  419.180       282.2  ...     118.734  1956    67.857\n",
              "1957         108.4  442.769       293.6  ...     120.445  1957    68.169\n",
              "1958         110.8  444.546       468.1  ...     121.950  1958    66.513\n",
              "1959         112.6  482.704       381.3  ...     123.366  1959    68.655\n",
              "1960         114.2  502.601       393.1  ...     125.368  1960    69.564\n",
              "1961         115.7  518.173       480.6  ...     127.852  1961    69.331\n",
              "1962         116.9  554.894       400.7  ...     130.081  1962    70.551\n",
              "\n",
              "[16 rows x 7 columns]"
            ]
          },
          "metadata": {
            "tags": []
          },
          "execution_count": 5
        }
      ]
    },
    {
      "cell_type": "markdown",
      "metadata": {
        "id": "mkaE60FTI-L0",
        "colab_type": "text"
      },
      "source": [
        "## Complete Linkage"
      ]
    },
    {
      "cell_type": "code",
      "metadata": {
        "id": "az97_l2aI-L0",
        "colab_type": "code",
        "colab": {}
      },
      "source": [
        "#Hierarchical Clustering\n",
        "#apply the complete linkage agglomeration to our clusters using\n",
        "#the linkage function from SciPy's cluster.hierarchy submodule\n",
        "from scipy.cluster.hierarchy import linkage\n",
        "row_clusters = linkage(df.values,method='average', metric='euclidean')"
      ],
      "execution_count": 0,
      "outputs": []
    },
    {
      "cell_type": "code",
      "metadata": {
        "id": "qxc4DRVUI-L4",
        "colab_type": "code",
        "colab": {}
      },
      "source": [
        "from scipy.cluster.hierarchy import dendrogram"
      ],
      "execution_count": 0,
      "outputs": []
    },
    {
      "cell_type": "code",
      "metadata": {
        "id": "NodyDbRRI-L6",
        "colab_type": "code",
        "colab": {},
        "outputId": "37245cc5-33e2-4723-e81f-0620a63a1431"
      },
      "source": [
        "row_dendr = dendrogram(row_clusters)"
      ],
      "execution_count": 0,
      "outputs": [
        {
          "output_type": "display_data",
          "data": {
            "image/png": "[encoded data removed]",
            "text/plain": [
              "<Figure size 432x288 with 1 Axes>"
            ]
          },
          "metadata": {
            "tags": [],
            "needs_background": "light"
          }
        }
      ]
    },
    {
      "cell_type": "code",
      "metadata": {
        "id": "gsxah_bwI-L9",
        "colab_type": "code",
        "colab": {}
      },
      "source": [
        "#Applying agglomerative clustering via scikit-learn\n",
        "from sklearn.cluster import AgglomerativeClustering"
      ],
      "execution_count": 0,
      "outputs": []
    },
    {
      "cell_type": "code",
      "metadata": {
        "id": "yZqLmzMVI-L_",
        "colab_type": "code",
        "colab": {}
      },
      "source": [
        "ac = AgglomerativeClustering(n_clusters=3,affinity='euclidean',linkage='average')"
      ],
      "execution_count": 0,
      "outputs": []
    },
    {
      "cell_type": "code",
      "metadata": {
        "id": "L5VdnDNzI-MB",
        "colab_type": "code",
        "colab": {}
      },
      "source": [
        "labels = ac.fit_predict(df.values)"
      ],
      "execution_count": 0,
      "outputs": []
    },
    {
      "cell_type": "code",
      "metadata": {
        "id": "IUZcRt9xI-ME",
        "colab_type": "code",
        "colab": {},
        "outputId": "438ff5a3-0840-4e95-d7b6-89ce5af59bda"
      },
      "source": [
        "labels"
      ],
      "execution_count": 0,
      "outputs": [
        {
          "output_type": "execute_result",
          "data": {
            "text/plain": [
              "array([1, 1, 1, 1, 0, 0, 0, 0, 0, 0, 0, 2, 2, 2, 2, 2], dtype=int64)"
            ]
          },
          "metadata": {
            "tags": []
          },
          "execution_count": 92
        }
      ]
    },
    {
      "cell_type": "markdown",
      "metadata": {
        "id": "YYz698L3I-MG",
        "colab_type": "text"
      },
      "source": [
        "## Ward Linkage"
      ]
    },
    {
      "cell_type": "code",
      "metadata": {
        "id": "w9viAaDOI-MI",
        "colab_type": "code",
        "colab": {}
      },
      "source": [
        "#Hierarchical Clustering\n",
        "#apply the complete linkage agglomeration to our clusters using\n",
        "#the linkage function from SciPy's cluster.hierarchy submodule\n",
        "from scipy.cluster.hierarchy import linkage\n",
        "row_clusters = linkage(df.values,method='ward', metric='euclidean')"
      ],
      "execution_count": 0,
      "outputs": []
    },
    {
      "cell_type": "code",
      "metadata": {
        "id": "Ho4kE_n4I-MK",
        "colab_type": "code",
        "colab": {}
      },
      "source": [
        "from scipy.cluster.hierarchy import dendrogram"
      ],
      "execution_count": 0,
      "outputs": []
    },
    {
      "cell_type": "code",
      "metadata": {
        "id": "8oGvZE8vI-MN",
        "colab_type": "code",
        "colab": {},
        "outputId": "80c69c52-9694-401a-e348-264937baf45b"
      },
      "source": [
        "row_dendr = dendrogram(row_clusters)"
      ],
      "execution_count": 0,
      "outputs": [
        {
          "output_type": "display_data",
          "data": {
            "image/png": "[encoded data removed]",
            "text/plain": [
              "<Figure size 432x288 with 1 Axes>"
            ]
          },
          "metadata": {
            "tags": [],
            "needs_background": "light"
          }
        }
      ]
    },
    {
      "cell_type": "code",
      "metadata": {
        "id": "gUUo7wnXI-MP",
        "colab_type": "code",
        "colab": {}
      },
      "source": [
        "ac = AgglomerativeClustering(n_clusters=3,affinity='euclidean',linkage='ward')"
      ],
      "execution_count": 0,
      "outputs": []
    },
    {
      "cell_type": "code",
      "metadata": {
        "id": "KdD813EjI-MR",
        "colab_type": "code",
        "colab": {}
      },
      "source": [
        "labels = ac.fit_predict(df.values)"
      ],
      "execution_count": 0,
      "outputs": []
    },
    {
      "cell_type": "code",
      "metadata": {
        "id": "Rp3_ePvlI-MT",
        "colab_type": "code",
        "colab": {},
        "outputId": "d81b2fdd-c418-41e2-ccef-43d914cf9c92"
      },
      "source": [
        "labels"
      ],
      "execution_count": 0,
      "outputs": [
        {
          "output_type": "execute_result",
          "data": {
            "text/plain": [
              "array([2, 2, 2, 2, 0, 0, 0, 0, 0, 0, 0, 1, 1, 1, 1, 1], dtype=int64)"
            ]
          },
          "metadata": {
            "tags": []
          },
          "execution_count": 98
        }
      ]
    }
  ]
}