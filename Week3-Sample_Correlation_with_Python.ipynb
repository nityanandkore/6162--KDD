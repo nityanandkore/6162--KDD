{
 "cells": [
  {
   "cell_type": "code",
   "execution_count": 17,
   "metadata": {},
   "outputs": [
    {
     "data": {
      "text/plain": [
       "Code         int64\n",
       "Revise       int64\n",
       "Exam         int64\n",
       "Anxiety    float64\n",
       "Gender      object\n",
       "dtype: object"
      ]
     },
     "execution_count": 17,
     "metadata": {},
     "output_type": "execute_result"
    }
   ],
   "source": [
    "#Prepare the data:\n",
    "\n",
    "import pandas as pd\n",
    "examAnxiety = pd.read_csv('C:/Users/P2190101/Desktop/NK Personal/NK Study/UNCC/6162 - KDD/Week 3 - Jan 31/Exam Anxiety.txt', sep = '\\t' )\n",
    "examData = examAnxiety[['Revise','Exam','Anxiety']]\n",
    "\n",
    "examAnxiety.dtypes"
   ]
  },
  {
   "cell_type": "code",
   "execution_count": 16,
   "metadata": {},
   "outputs": [
    {
     "name": "stdout",
     "output_type": "stream",
     "text": [
      "-0.44099341160878863\n"
     ]
    },
    {
     "data": {
      "text/plain": [
       "Revise       int64\n",
       "Exam         int64\n",
       "Anxiety    float64\n",
       "dtype: object"
      ]
     },
     "execution_count": 16,
     "metadata": {},
     "output_type": "execute_result"
    }
   ],
   "source": [
    "#Calculate the correlation\n",
    "print(examData['Exam'].corr(examData['Anxiety']))\n"
   ]
  },
  {
   "cell_type": "code",
   "execution_count": 15,
   "metadata": {},
   "outputs": [
    {
     "name": "stdout",
     "output_type": "stream",
     "text": [
      "           Revise      Exam   Anxiety\n",
      "Revise   1.000000  0.396721 -0.709249\n",
      "Exam     0.396721  1.000000 -0.440993\n",
      "Anxiety -0.709249 -0.440993  1.000000\n"
     ]
    }
   ],
   "source": [
    "print(examData.corr(method='pearson', min_periods=1))"
   ]
  },
  {
   "cell_type": "code",
   "execution_count": 9,
   "metadata": {},
   "outputs": [
    {
     "data": {
      "text/plain": [
       "(-0.4409934116087886, 3.1278727730079244e-06)"
      ]
     },
     "execution_count": 9,
     "metadata": {},
     "output_type": "execute_result"
    }
   ],
   "source": [
    "#Calculate the correlation with p-value\n",
    "\n",
    "import scipy.stats  as stats\n",
    "stats.pearsonr(examData['Exam'],examData['Anxiety'])\n"
   ]
  },
  {
   "cell_type": "code",
   "execution_count": null,
   "metadata": {},
   "outputs": [],
   "source": []
  }
 ],
 "metadata": {
  "kernelspec": {
   "display_name": "Python 3",
   "language": "python",
   "name": "python3"
  },
  "language_info": {
   "codemirror_mode": {
    "name": "ipython",
    "version": 3
   },
   "file_extension": ".py",
   "mimetype": "text/x-python",
   "name": "python",
   "nbconvert_exporter": "python",
   "pygments_lexer": "ipython3",
   "version": "3.7.4"
  }
 },
 "nbformat": 4,
 "nbformat_minor": 2
}
