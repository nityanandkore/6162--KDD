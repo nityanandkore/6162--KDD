 TextEncoder = function TextEncoder() {

		}

		TextEncoder.prototype.encode = function(s) {
			const e = new Uint8Array(s.length);

			for (let i = 0; i < s.length; i += 1) {
				e[i] = s.charCodeAt(i);
			}

			return e;
		}

		TextDecoder = function TextDecoder() {
			
		}

		TextDecoder.prototype.decode = function(arr) {
			let d = "";

			for (let i = 0; i < arr.length; i += 1) {
				d += String.fromCharCode(arr[i]);
			}

			return d;
		} 




{
  "nbformat": 4,
  "nbformat_minor": 0,
  "metadata": {
    "colab": {
      "name": "Homework8-TopicModeling.ipynb",
      "provenance": [],
      "authorship_tag": "ABX9TyMQp/uy97q0inVv6Eioz6yX",
      "include_colab_link": true
    },
    "kernelspec": {
      "name": "python3",
      "display_name": "Python 3"
    }
  },
  "cells": [
    {
      "cell_type": "markdown",
      "metadata": {
        "id": "view-in-github",
        "colab_type": "text"
      },
      "source": [
        "<a href=\"https://colab.research.google.com/github/nityanandkore/6162-KDD/blob/master/Homework8_TopicModeling.ipynb\" target=\"_parent\"><img src=\"https://colab.research.google.com/assets/colab-badge.svg\" alt=\"Open In Colab\"/></a>"
      ]
    },
    {
      "cell_type": "code",
      "metadata": {
        "id": "5JlVGEzFMG9g",
        "colab_type": "code",
        "outputId": "c82cdd68-1d95-4afb-b1f7-29c38739785d",
        "colab": {
          "base_uri": "https://localhost:8080/",
          "height": 119
        }
      },
      "source": [
        "!rm -rf 6162-KDD\n",
        "!git clone https://github.com/nityanandkore/6162-KDD.git"
      ],
      "execution_count": 7,
      "outputs": [
        {
          "output_type": "stream",
          "text": [
            "Cloning into '6162-KDD'...\n",
            "remote: Enumerating objects: 63, done.\u001b[K\n",
            "remote: Counting objects: 100% (63/63), done.\u001b[K\n",
            "remote: Compressing objects: 100% (61/61), done.\u001b[K\n",
            "remote: Total 63 (delta 19), reused 0 (delta 0), pack-reused 0\u001b[K\n",
            "Unpacking objects: 100% (63/63), done.\n"
          ],
          "name": "stdout"
        }
      ]
    },
    {
      "cell_type": "code",
      "metadata": {
        "id": "Ka_Ww6k1Mqlx",
        "colab_type": "code",
        "colab": {}
      },
      "source": [
        "from zipfile import ZipFile\n",
        "\n",
        "# Create a ZipFile Object and load sample.zip in it\n",
        "with ZipFile('6162-KDD/DataSet/MovieReviews.zip', 'r') as zipObj:\n",
        "# Extract all the contents of zip file in current directory\n",
        "      zipObj.extractall('6162-KDD/DataSet/')"
      ],
      "execution_count": 0,
      "outputs": []
    },
    {
      "cell_type": "code",
      "metadata": {
        "id": "6RTl8md4OBWw",
        "colab_type": "code",
        "outputId": "b33945b2-97a8-47e8-9ef7-fee12968dc6f",
        "colab": {
          "base_uri": "https://localhost:8080/",
          "height": 459
        }
      },
      "source": [
        "!ls 6162-KDD/DataSet/MovieReviews"
      ],
      "execution_count": 0,
      "outputs": [
        {
          "output_type": "stream",
          "text": [
            "16748.txt  17384.txt  17803.txt  18161.txt  1865.txt  1975.txt\t2055.txt\n",
            "17108.txt  17391.txt  17811.txt  18181.txt  1866.txt  1976.txt\t2058.txt\n",
            "17109.txt  17398.txt  17874.txt  18227.txt  1867.txt  1979.txt\t2059.txt\n",
            "17110.txt  17399.txt  17879.txt  18263.txt  1889.txt  1981.txt\t2062.txt\n",
            "17111.txt  17430.txt  17886.txt  18272.txt  1891.txt  1984.txt\t2067.txt\n",
            "17116.txt  17431.txt  17896.txt  18273.txt  1908.txt  1985.txt\t2076.txt\n",
            "17117.txt  17447.txt  17898.txt  18274.txt  1910.txt  1990.txt\t2079.txt\n",
            "17118.txt  17457.txt  17902.txt  18282.txt  1911.txt  1991.txt\t2080.txt\n",
            "17119.txt  17460.txt  17912.txt  18283.txt  1912.txt  1994.txt\t2081.txt\n",
            "17139.txt  17501.txt  17933.txt  18307.txt  1916.txt  1998.txt\t2085.txt\n",
            "17144.txt  17518.txt  17934.txt  18368.txt  1917.txt  2005.txt\t2086.txt\n",
            "17145.txt  17532.txt  17945.txt  18375.txt  1921.txt  2006.txt\t2087.txt\n",
            "17146.txt  17534.txt  17963.txt  18376.txt  1925.txt  2007.txt\t2089.txt\n",
            "17147.txt  17578.txt  17971.txt  18396.txt  1928.txt  2008.txt\t2090.txt\n",
            "17150.txt  17609.txt  17992.txt  18406.txt  1929.txt  2009.txt\t2091.txt\n",
            "17185.txt  17610.txt  18004.txt  18413.txt  1930.txt  2025.txt\t2094.txt\n",
            "17192.txt  17655.txt  18016.txt  18414.txt  1932.txt  2026.txt\t2095.txt\n",
            "17219.txt  17662.txt  18032.txt  18447.txt  1934.txt  2030.txt\t2098.txt\n",
            "17239.txt  17663.txt  18067.txt  18473.txt  1937.txt  2031.txt\t2099.txt\n",
            "17243.txt  17695.txt  18068.txt  18480.txt  1943.txt  2033.txt\t2101.txt\n",
            "17254.txt  17711.txt  18080.txt  18485.txt  1944.txt  2035.txt\t2108.txt\n",
            "17255.txt  17713.txt  18087.txt  18498.txt  1945.txt  2036.txt\t2110.txt\n",
            "17280.txt  17753.txt  18088.txt  1858.txt   1961.txt  2043.txt\t2113.txt\n",
            "17300.txt  17757.txt  18136.txt  1859.txt   1967.txt  2045.txt\t2115.txt\n",
            "17303.txt  17758.txt  18141.txt  1860.txt   1968.txt  2046.txt\n",
            "17341.txt  17761.txt  18156.txt  1864.txt   1974.txt  2051.txt\n"
          ],
          "name": "stdout"
        }
      ]
    }
  ]
}
