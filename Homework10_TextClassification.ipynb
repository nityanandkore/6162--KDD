{
  "nbformat": 4,
  "nbformat_minor": 0,
  "metadata": {
    "colab": {
      "name": "Homework10_TextClassification.ipynb",
      "provenance": [],
      "authorship_tag": "ABX9TyMy6qAPl70HaBQhvKUCO4+Z",
      "include_colab_link": true
    },
    "kernelspec": {
      "name": "python3",
      "display_name": "Python 3"
    }
  },
  "cells": [
    {
      "cell_type": "markdown",
      "metadata": {
        "id": "view-in-github",
        "colab_type": "text"
      },
      "source": [
        "<a href=\"https://colab.research.google.com/github/nityanandkore/6162-KDD/blob/master/Homework10_TextClassification.ipynb\" target=\"_parent\"><img src=\"https://colab.research.google.com/assets/colab-badge.svg\" alt=\"Open In Colab\"/></a>"
      ]
    },
    {
      "cell_type": "code",
      "metadata": {
        "id": "gbbCiKSPaDE9",
        "colab_type": "code",
        "colab": {
          "base_uri": "https://localhost:8080/",
          "height": 136
        },
        "outputId": "dbbaf683-e2d1-4f7d-b0c6-6d377ef56b6b"
      },
      "source": [
        "!rm -rf 6162-KDD\n",
        "!git clone https://github.com/nityanandkore/6162-KDD.git"
      ],
      "execution_count": 1,
      "outputs": [
        {
          "output_type": "stream",
          "text": [
            "Cloning into '6162-KDD'...\n",
            "remote: Enumerating objects: 23, done.\u001b[K\n",
            "remote: Counting objects: 100% (23/23), done.\u001b[K\n",
            "remote: Compressing objects: 100% (23/23), done.\u001b[K\n",
            "remote: Total 152 (delta 12), reused 0 (delta 0), pack-reused 129\u001b[K\n",
            "Receiving objects: 100% (152/152), 26.37 MiB | 36.09 MiB/s, done.\n",
            "Resolving deltas: 100% (78/78), done.\n"
          ],
          "name": "stdout"
        }
      ]
    },
    {
      "cell_type": "code",
      "metadata": {
        "id": "EDY99TZTaNCs",
        "colab_type": "code",
        "colab": {}
      },
      "source": [
        "from zipfile import ZipFile\n",
        "\n",
        "# Create a ZipFile Object and load sample.zip in it\n",
        "with ZipFile('6162-KDD/DataSet/MovieReviews.zip', 'r') as zipObj:\n",
        "# Extract all the contents of zip file in current directory\n",
        "      zipObj.extractall('6162-KDD/DataSet/')"
      ],
      "execution_count": 0,
      "outputs": []
    },
    {
      "cell_type": "code",
      "metadata": {
        "id": "xfLgiksyaO16",
        "colab_type": "code",
        "colab": {
          "base_uri": "https://localhost:8080/",
          "height": 459
        },
        "outputId": "43dcf4fb-93d0-40be-e15b-a9efc7dcd192"
      },
      "source": [
        "!ls 6162-KDD/DataSet/MovieReviews"
      ],
      "execution_count": 3,
      "outputs": [
        {
          "output_type": "stream",
          "text": [
            "16748.txt  17384.txt  17803.txt  18161.txt  1865.txt  1975.txt\t2055.txt\n",
            "17108.txt  17391.txt  17811.txt  18181.txt  1866.txt  1976.txt\t2058.txt\n",
            "17109.txt  17398.txt  17874.txt  18227.txt  1867.txt  1979.txt\t2059.txt\n",
            "17110.txt  17399.txt  17879.txt  18263.txt  1889.txt  1981.txt\t2062.txt\n",
            "17111.txt  17430.txt  17886.txt  18272.txt  1891.txt  1984.txt\t2067.txt\n",
            "17116.txt  17431.txt  17896.txt  18273.txt  1908.txt  1985.txt\t2076.txt\n",
            "17117.txt  17447.txt  17898.txt  18274.txt  1910.txt  1990.txt\t2079.txt\n",
            "17118.txt  17457.txt  17902.txt  18282.txt  1911.txt  1991.txt\t2080.txt\n",
            "17119.txt  17460.txt  17912.txt  18283.txt  1912.txt  1994.txt\t2081.txt\n",
            "17139.txt  17501.txt  17933.txt  18307.txt  1916.txt  1998.txt\t2085.txt\n",
            "17144.txt  17518.txt  17934.txt  18368.txt  1917.txt  2005.txt\t2086.txt\n",
            "17145.txt  17532.txt  17945.txt  18375.txt  1921.txt  2006.txt\t2087.txt\n",
            "17146.txt  17534.txt  17963.txt  18376.txt  1925.txt  2007.txt\t2089.txt\n",
            "17147.txt  17578.txt  17971.txt  18396.txt  1928.txt  2008.txt\t2090.txt\n",
            "17150.txt  17609.txt  17992.txt  18406.txt  1929.txt  2009.txt\t2091.txt\n",
            "17185.txt  17610.txt  18004.txt  18413.txt  1930.txt  2025.txt\t2094.txt\n",
            "17192.txt  17655.txt  18016.txt  18414.txt  1932.txt  2026.txt\t2095.txt\n",
            "17219.txt  17662.txt  18032.txt  18447.txt  1934.txt  2030.txt\t2098.txt\n",
            "17239.txt  17663.txt  18067.txt  18473.txt  1937.txt  2031.txt\t2099.txt\n",
            "17243.txt  17695.txt  18068.txt  18480.txt  1943.txt  2033.txt\t2101.txt\n",
            "17254.txt  17711.txt  18080.txt  18485.txt  1944.txt  2035.txt\t2108.txt\n",
            "17255.txt  17713.txt  18087.txt  18498.txt  1945.txt  2036.txt\t2110.txt\n",
            "17280.txt  17753.txt  18088.txt  1858.txt   1961.txt  2043.txt\t2113.txt\n",
            "17300.txt  17757.txt  18136.txt  1859.txt   1967.txt  2045.txt\t2115.txt\n",
            "17303.txt  17758.txt  18141.txt  1860.txt   1968.txt  2046.txt\n",
            "17341.txt  17761.txt  18156.txt  1864.txt   1974.txt  2051.txt\n"
          ],
          "name": "stdout"
        }
      ]
    },
    {
      "cell_type": "code",
      "metadata": {
        "id": "xqdp3trCaQcr",
        "colab_type": "code",
        "colab": {}
      },
      "source": [
        "from nltk.corpus import PlaintextCorpusReader\n",
        "corpus_root = '6162-KDD/DataSet/MovieReviews' \n",
        "filelists = PlaintextCorpusReader(corpus_root, '.*',encoding='latin-1')\n",
        "filelists.fileids()"
      ],
      "execution_count": 0,
      "outputs": []
    },
    {
      "cell_type": "code",
      "metadata": {
        "id": "p364i2efaTO8",
        "colab_type": "code",
        "colab": {}
      },
      "source": [
        "#create a list of review articles\n",
        "review = []\n",
        "for fileid in filelists.fileids():\n",
        "    review.append(filelists.raw(fileid))"
      ],
      "execution_count": 0,
      "outputs": []
    },
    {
      "cell_type": "code",
      "metadata": {
        "id": "R3SOKS9PaVpK",
        "colab_type": "code",
        "colab": {}
      },
      "source": [
        "#review"
      ],
      "execution_count": 0,
      "outputs": []
    },
    {
      "cell_type": "code",
      "metadata": {
        "id": "x5HoeAQ5aewk",
        "colab_type": "code",
        "colab": {
          "base_uri": "https://localhost:8080/",
          "height": 34
        },
        "outputId": "47fa2a11-0abf-4fb5-dc9c-0a19cffed087"
      },
      "source": [
        "type(review)"
      ],
      "execution_count": 15,
      "outputs": [
        {
          "output_type": "execute_result",
          "data": {
            "text/plain": [
              "list"
            ]
          },
          "metadata": {
            "tags": []
          },
          "execution_count": 15
        }
      ]
    },
    {
      "cell_type": "code",
      "metadata": {
        "id": "CyMdI53pbSZd",
        "colab_type": "code",
        "colab": {
          "base_uri": "https://localhost:8080/",
          "height": 34
        },
        "outputId": "41ddd3ab-4999-4ff4-bdb2-5a5dd9a6e93d"
      },
      "source": [
        "len(review)"
      ],
      "execution_count": 16,
      "outputs": [
        {
          "output_type": "execute_result",
          "data": {
            "text/plain": [
              "180"
            ]
          },
          "metadata": {
            "tags": []
          },
          "execution_count": 16
        }
      ]
    },
    {
      "cell_type": "code",
      "metadata": {
        "id": "UHo7_EeIbzeG",
        "colab_type": "code",
        "colab": {}
      },
      "source": [
        "# This is to vectorize the text corpus. After these codes, the X object will be the input vector for machine learning models.\n",
        "# When transform into vectors, we do NOT use the raw count of a word in a document. Instead, we use the word's tf-idf score in a document.\n",
        "# max_df=0.5 means ingoring words that appear in more than 50% of the documents; min_df=2 means ignoring words that appear in less than 2 documents.\n",
        "from sklearn.feature_extraction.text import TfidfVectorizer\n",
        "\n",
        "vectorizer = TfidfVectorizer(max_df=0.5, min_df=2, stop_words='english', use_idf=True)\n",
        "\n",
        "X = vectorizer.fit_transform(review)"
      ],
      "execution_count": 0,
      "outputs": []
    },
    {
      "cell_type": "code",
      "metadata": {
        "id": "iczw_SYxcQ9Q",
        "colab_type": "code",
        "colab": {
          "base_uri": "https://localhost:8080/",
          "height": 51
        },
        "outputId": "d0a42a02-0757-49cf-c86d-1c6ab8279e68"
      },
      "source": [
        "X"
      ],
      "execution_count": 18,
      "outputs": [
        {
          "output_type": "execute_result",
          "data": {
            "text/plain": [
              "<180x6704 sparse matrix of type '<class 'numpy.float64'>'\n",
              "\twith 45645 stored elements in Compressed Sparse Row format>"
            ]
          },
          "metadata": {
            "tags": []
          },
          "execution_count": 18
        }
      ]
    },
    {
      "cell_type": "code",
      "metadata": {
        "id": "G9p-hFzMcRUL",
        "colab_type": "code",
        "colab": {}
      },
      "source": [
        "#X in the previuos step is hidimentional data, we need to use some dimentionality reduction technique. In this case, we will use SVD (Singular Value Decomposition), which is a common matrix decomposition technique.\n",
        "#We want to reduce the dimentionality to 5.\n",
        "#We have to re-normalize after we run our SVD on the dataset.\n",
        "from sklearn.pipeline import make_pipeline\n",
        "from sklearn.decomposition import TruncatedSVD\n",
        "from sklearn.preprocessing import Normalizer\n",
        "\n",
        "n_components = 3\n",
        "svd = TruncatedSVD(n_components)\n",
        "normalizer = Normalizer(copy=False)\n",
        "lsa = make_pipeline(svd, normalizer)\n",
        "\n",
        "X = lsa.fit_transform(X)"
      ],
      "execution_count": 0,
      "outputs": []
    },
    {
      "cell_type": "code",
      "metadata": {
        "id": "LwUm8m-_cWLs",
        "colab_type": "code",
        "colab": {
          "base_uri": "https://localhost:8080/",
          "height": 34
        },
        "outputId": "6474008d-2bf9-4ed2-92c8-fe8da529a774"
      },
      "source": [
        "X.shape"
      ],
      "execution_count": 21,
      "outputs": [
        {
          "output_type": "execute_result",
          "data": {
            "text/plain": [
              "(180, 3)"
            ]
          },
          "metadata": {
            "tags": []
          },
          "execution_count": 21
        }
      ]
    },
    {
      "cell_type": "code",
      "metadata": {
        "id": "itprz2hVcYx0",
        "colab_type": "code",
        "colab": {
          "base_uri": "https://localhost:8080/",
          "height": 1000
        },
        "outputId": "5d8e89be-08c3-40f5-f9b7-a872c630a9fb"
      },
      "source": [
        "X"
      ],
      "execution_count": 22,
      "outputs": [
        {
          "output_type": "execute_result",
          "data": {
            "text/plain": [
              "array([[ 8.53483639e-01,  3.79408380e-01, -3.57232361e-01],\n",
              "       [ 8.56126889e-01,  4.85801783e-01,  1.76191306e-01],\n",
              "       [ 7.72484960e-01,  5.86363911e-01, -2.43812121e-01],\n",
              "       [ 5.96326020e-01,  1.13309933e-01,  7.94705063e-01],\n",
              "       [ 9.56451951e-01,  2.90494045e-01, -2.85109572e-02],\n",
              "       [ 9.16801868e-01,  2.59992233e-01, -3.03114458e-01],\n",
              "       [ 5.97045262e-01,  7.53875909e-01,  2.74240897e-01],\n",
              "       [ 6.95559658e-01,  6.76717895e-01, -2.41349649e-01],\n",
              "       [ 9.57637473e-01,  2.53242448e-01, -1.37108473e-01],\n",
              "       [ 8.45443051e-01,  5.23772223e-01,  1.04348962e-01],\n",
              "       [ 8.26722989e-01,  4.85399992e-01, -2.84457285e-01],\n",
              "       [ 8.91483157e-01,  4.50527272e-01,  4.77803046e-02],\n",
              "       [ 7.39945214e-01,  2.31109783e-01, -6.31719359e-01],\n",
              "       [ 8.49021745e-01,  5.23528679e-01,  7.12727082e-02],\n",
              "       [ 8.91420218e-01,  4.45610312e-01, -8.24708728e-02],\n",
              "       [ 9.18416872e-01,  1.77704744e-01,  3.53456466e-01],\n",
              "       [ 7.86905857e-01,  5.70602010e-01, -2.34930879e-01],\n",
              "       [ 6.65096553e-01,  1.79242152e-01,  7.24926773e-01],\n",
              "       [ 6.92971991e-01,  6.96536120e-01, -1.86083994e-01],\n",
              "       [ 9.35136810e-01,  1.86045540e-01, -3.01506556e-01],\n",
              "       [ 8.81857610e-01,  4.50392343e-01, -1.39548893e-01],\n",
              "       [ 8.91363596e-01,  1.85854234e-01,  4.13435778e-01],\n",
              "       [ 8.33823230e-01,  2.13231057e-01,  5.09186937e-01],\n",
              "       [ 7.98563138e-01,  3.99155438e-01, -4.50523974e-01],\n",
              "       [ 9.83277253e-01, -3.82082584e-03, -1.82074835e-01],\n",
              "       [ 8.48073622e-01,  4.53759589e-01, -2.73629982e-01],\n",
              "       [ 8.12583478e-01,  5.34277449e-01,  2.32928527e-01],\n",
              "       [ 8.54972551e-01, -1.04551133e-01,  5.08026572e-01],\n",
              "       [ 7.86282919e-01,  2.95353205e-01,  5.42702180e-01],\n",
              "       [ 8.97305143e-01,  4.34453716e-01,  7.80605452e-02],\n",
              "       [ 7.85304028e-01,  2.93505166e-01,  5.45116777e-01],\n",
              "       [ 8.35927061e-01,  3.98247933e-01, -3.77656634e-01],\n",
              "       [ 8.04522066e-01,  5.28776572e-01, -2.70443305e-01],\n",
              "       [ 9.81798000e-01, -9.05230659e-02, -1.66967845e-01],\n",
              "       [ 6.88358060e-01,  4.55584610e-01, -5.64451809e-01],\n",
              "       [ 9.68686976e-01,  3.76933413e-02,  2.45407325e-01],\n",
              "       [ 9.91680335e-01,  1.26871699e-01,  2.17642992e-02],\n",
              "       [ 9.51915398e-01,  2.80258355e-01, -1.23742997e-01],\n",
              "       [ 8.96705476e-01,  2.36224417e-01,  3.74322474e-01],\n",
              "       [ 9.63415948e-01,  2.66347464e-01, -2.98117329e-02],\n",
              "       [ 9.02313530e-01,  2.60758261e-01, -3.43271645e-01],\n",
              "       [ 6.11493318e-01,  4.59502081e-01, -6.44153521e-01],\n",
              "       [ 8.76986862e-01,  3.79982546e-01,  2.94121246e-01],\n",
              "       [ 9.27157815e-01,  3.40635528e-01, -1.56031482e-01],\n",
              "       [ 8.48605043e-01,  4.12303047e-01,  3.31475005e-01],\n",
              "       [ 9.18501102e-01,  3.95098603e-01, -1.59003032e-02],\n",
              "       [ 6.35449433e-01,  1.44077980e-01,  7.58581277e-01],\n",
              "       [ 9.18344311e-01,  3.93227404e-01, -4.48991632e-02],\n",
              "       [ 9.70493504e-01,  1.75829105e-01,  1.65004499e-01],\n",
              "       [ 8.91698636e-01,  4.11062854e-01,  1.89475255e-01],\n",
              "       [ 8.70430737e-01,  4.87328312e-01,  6.97240844e-02],\n",
              "       [ 8.74260833e-01,  3.36446016e-01,  3.49960104e-01],\n",
              "       [ 8.18180259e-01,  4.64197064e-01,  3.39267076e-01],\n",
              "       [ 9.02821121e-01,  4.29579329e-01,  1.93810103e-02],\n",
              "       [ 8.39236142e-01,  5.20193425e-01, -1.58371394e-01],\n",
              "       [ 7.82263206e-01, -1.01084040e-01,  6.14692031e-01],\n",
              "       [ 8.53390751e-01,  4.43268288e-01, -2.74294460e-01],\n",
              "       [ 7.52941128e-01,  2.67782495e-01,  6.01142406e-01],\n",
              "       [ 9.65843285e-01,  2.25806094e-01,  1.27115528e-01],\n",
              "       [ 9.65843285e-01,  2.25806094e-01,  1.27115528e-01],\n",
              "       [ 9.77084105e-01,  1.42552700e-01, -1.58067644e-01],\n",
              "       [ 9.02605408e-01,  4.29867454e-01,  2.27474887e-02],\n",
              "       [ 8.79763890e-01,  3.23355765e-01, -3.48506164e-01],\n",
              "       [ 9.66742325e-01,  1.96816244e-01,  1.63317614e-01],\n",
              "       [ 8.74674823e-01,  2.78281088e-01,  3.96867220e-01],\n",
              "       [ 7.56620165e-01,  6.33752430e-01,  1.60884383e-01],\n",
              "       [ 8.58914648e-01,  3.23277895e-01,  3.97186393e-01],\n",
              "       [ 4.89376815e-01,  4.02679491e-01,  7.73537045e-01],\n",
              "       [ 4.46755494e-01,  5.53468619e-01,  7.02909678e-01],\n",
              "       [ 9.03430529e-01,  3.67942127e-01,  2.20072419e-01],\n",
              "       [ 8.82479350e-01,  3.37380489e-01,  3.27726413e-01],\n",
              "       [ 8.23882165e-01,  4.30665302e-01, -3.68436665e-01],\n",
              "       [ 6.42262318e-01,  6.09860460e-01, -4.64294448e-01],\n",
              "       [ 8.33780134e-01,  5.44190206e-01,  9.31005289e-02],\n",
              "       [ 6.82549254e-01,  6.23963731e-01, -3.80520405e-01],\n",
              "       [ 6.64787183e-01,  4.55733724e-01,  5.91916188e-01],\n",
              "       [ 8.42056943e-01,  3.92564233e-01, -3.69910027e-01],\n",
              "       [ 7.86719511e-01,  3.68978025e-01, -4.94901634e-01],\n",
              "       [ 8.12457581e-01,  5.82817137e-01,  1.53904098e-02],\n",
              "       [ 8.61606211e-01,  4.69102650e-01, -1.93849015e-01],\n",
              "       [ 8.66605607e-01,  4.98013229e-01, -3.12657184e-02],\n",
              "       [ 8.60593956e-01,  4.49084424e-01, -2.40210790e-01],\n",
              "       [ 9.56779626e-01,  2.75030635e-01,  9.45034253e-02],\n",
              "       [ 8.40278814e-01,  3.02177147e-01,  4.50133855e-01],\n",
              "       [ 7.60785748e-01,  6.10022920e-01, -2.21533480e-01],\n",
              "       [ 8.80627634e-01,  3.98551595e-01, -2.56225676e-01],\n",
              "       [ 8.27125826e-01,  4.52710087e-01, -3.33041206e-01],\n",
              "       [ 8.21991615e-01,  5.31718238e-01,  2.03974264e-01],\n",
              "       [ 9.25895484e-01,  9.89170186e-02,  3.64599747e-01],\n",
              "       [ 6.00017172e-01,  2.60625483e-01,  7.56342350e-01],\n",
              "       [ 7.94102152e-01,  5.64241205e-01, -2.25906253e-01],\n",
              "       [ 6.18130264e-01,  7.68791802e-01,  1.63933343e-01],\n",
              "       [ 9.01660282e-01,  3.51120646e-01, -2.52434204e-01],\n",
              "       [ 9.84330641e-01,  1.42496617e-01, -1.03864831e-01],\n",
              "       [ 7.91186062e-01,  6.01332857e-01, -1.11460354e-01],\n",
              "       [ 8.30140613e-01,  5.33144921e-01, -1.63165731e-01],\n",
              "       [ 8.21204487e-01,  3.04279481e-01,  4.82739254e-01],\n",
              "       [ 6.37715318e-01,  5.65173789e-01, -5.23352427e-01],\n",
              "       [ 9.71825681e-01,  1.41892267e-01,  1.88205822e-01],\n",
              "       [ 8.32959729e-01,  4.40059981e-01,  3.35447913e-01],\n",
              "       [ 9.03557321e-01, -3.32109041e-01, -2.70717106e-01],\n",
              "       [ 9.93067891e-01, -4.07063842e-02, -1.10268559e-01],\n",
              "       [ 8.16497747e-01, -4.89334873e-01, -3.06403021e-01],\n",
              "       [ 8.23992056e-01, -4.16443805e-01, -3.84202615e-01],\n",
              "       [ 8.43900235e-01, -4.98750305e-01,  1.97687953e-01],\n",
              "       [ 8.55303904e-01, -4.89760786e-01, -1.69084606e-01],\n",
              "       [ 8.79455369e-01, -4.62177029e-01, -1.13800917e-01],\n",
              "       [ 7.55199129e-01, -6.54899370e-01, -2.79480003e-02],\n",
              "       [ 8.46615657e-01, -3.39852091e-01, -4.09563775e-01],\n",
              "       [ 9.04929464e-01, -3.18433838e-01, -2.82316411e-01],\n",
              "       [ 8.37903357e-01, -4.72174209e-01, -2.73805553e-01],\n",
              "       [ 6.98646781e-01, -3.90178350e-01,  5.99711205e-01],\n",
              "       [ 8.69883640e-01, -4.91034955e-01, -4.67667240e-02],\n",
              "       [ 9.05285634e-01, -3.52570851e-01, -2.36963532e-01],\n",
              "       [ 8.17858838e-01, -5.75412774e-01,  2.65717896e-03],\n",
              "       [ 7.87609348e-01, -5.59572295e-01,  2.57973567e-01],\n",
              "       [ 7.51757888e-01, -4.53196012e-01, -4.79033874e-01],\n",
              "       [ 8.92851428e-01, -4.42796819e-01,  8.21419816e-02],\n",
              "       [ 8.75685728e-01, -2.41411499e-01, -4.18204489e-01],\n",
              "       [ 8.32172809e-01, -5.12158334e-01,  2.12561184e-01],\n",
              "       [ 7.27421082e-01, -6.70740712e-01,  1.44794567e-01],\n",
              "       [ 9.00044423e-01, -3.99691476e-01, -1.73685809e-01],\n",
              "       [ 8.54440323e-01, -5.19479705e-01,  8.51879715e-03],\n",
              "       [ 9.88509366e-01, -1.31905134e-01, -7.38259357e-02],\n",
              "       [ 8.07291449e-01, -5.82909654e-01,  9.21783686e-02],\n",
              "       [ 8.20803266e-01, -5.70967502e-01,  1.66766574e-02],\n",
              "       [ 7.33493446e-01, -5.29146740e-01,  4.26604140e-01],\n",
              "       [ 9.38625678e-01, -3.38421163e-01, -6.67304518e-02],\n",
              "       [ 9.08591243e-01, -4.09851214e-01,  8.05228872e-02],\n",
              "       [ 8.92043359e-01, -4.51324058e-01,  2.37747912e-02],\n",
              "       [ 7.71452580e-01, -2.08517907e-01, -6.01149898e-01],\n",
              "       [ 9.04194108e-01, -1.51719410e-01, -3.99267123e-01],\n",
              "       [ 8.58225763e-01, -4.10309904e-01, -3.08373674e-01],\n",
              "       [ 8.10689203e-01, -5.59257237e-01, -1.73246527e-01],\n",
              "       [ 7.12720780e-01, -2.86476515e-01, -6.40281420e-01],\n",
              "       [ 8.56085336e-01, -3.07724456e-01, -4.15239156e-01],\n",
              "       [ 9.20398746e-01, -3.66317008e-01, -1.36667474e-01],\n",
              "       [ 8.24269068e-01, -4.54124360e-01,  3.38159088e-01],\n",
              "       [ 8.36353274e-01, -3.47041412e-01, -4.24352989e-01],\n",
              "       [ 8.91860624e-01, -4.50823948e-01,  3.66387189e-02],\n",
              "       [ 7.55835066e-01, -5.97091537e-01,  2.68691365e-01],\n",
              "       [ 8.07859656e-01, -5.77114504e-01, -1.19589404e-01],\n",
              "       [ 9.14667379e-01, -3.95005470e-01, -8.57570065e-02],\n",
              "       [ 8.12415964e-01, -5.76531556e-01, -8.71301746e-02],\n",
              "       [ 8.69067229e-01, -4.77974110e-01,  1.27526083e-01],\n",
              "       [ 8.66510862e-01, -4.92694887e-01,  8.00666920e-02],\n",
              "       [ 8.35424649e-01, -5.19711671e-01,  1.78788803e-01],\n",
              "       [ 9.64668477e-01, -1.76152989e-01,  1.95920532e-01],\n",
              "       [ 8.76711457e-01, -4.48654471e-01, -1.73453701e-01],\n",
              "       [ 8.95588757e-01, -2.94605686e-01, -3.33359067e-01],\n",
              "       [ 8.30291478e-01, -3.36935988e-01,  4.43948421e-01],\n",
              "       [ 9.44930972e-01, -3.27151603e-01, -8.79125765e-03],\n",
              "       [ 8.74985209e-01, -4.15475067e-01,  2.48558551e-01],\n",
              "       [ 8.41215970e-01, -4.77720557e-01,  2.53256315e-01],\n",
              "       [ 8.83704984e-01, -2.90696676e-01, -3.66825495e-01],\n",
              "       [ 9.28466993e-01, -3.47034277e-01,  1.32348984e-01],\n",
              "       [ 8.69341841e-01, -1.72375641e-01, -4.63175347e-01],\n",
              "       [ 8.61542247e-01, -4.65601466e-01,  2.02386341e-01],\n",
              "       [ 8.70980342e-01, -3.48342043e-01,  3.46483860e-01],\n",
              "       [ 8.47879737e-01, -1.96788892e-01, -4.92315025e-01],\n",
              "       [ 9.75652385e-01, -1.52395056e-01,  1.57728155e-01],\n",
              "       [ 9.87742971e-01, -1.56062058e-01, -2.90823595e-03],\n",
              "       [ 7.85432425e-01, -4.40514729e-01,  4.34790385e-01],\n",
              "       [ 9.46843356e-01, -3.21694877e-01, -2.53689167e-04],\n",
              "       [ 8.68520992e-01, -4.89303130e-01,  7.90805493e-02],\n",
              "       [ 9.27603346e-01, -3.72096849e-01,  3.31054032e-02],\n",
              "       [ 8.92344780e-01, -4.46636208e-01, -6.50914096e-02],\n",
              "       [ 8.31155966e-01, -4.41963587e-01, -3.37413616e-01],\n",
              "       [ 8.69158567e-01, -4.53464328e-01, -1.97315706e-01],\n",
              "       [ 8.50778543e-01, -2.71188491e-01,  4.50147390e-01],\n",
              "       [ 8.56306563e-01, -5.11051272e-01,  7.46034007e-02],\n",
              "       [ 9.22124626e-01, -3.64022604e-01,  1.31048534e-01],\n",
              "       [ 9.62948754e-01,  3.19471216e-03, -2.69665516e-01],\n",
              "       [ 8.29929333e-01, -4.98182644e-01,  2.51060463e-01],\n",
              "       [ 8.55031042e-01, -4.92495776e-01,  1.62387893e-01],\n",
              "       [ 9.59750625e-01, -2.70930747e-01, -7.39950553e-02],\n",
              "       [ 7.86614437e-01, -1.03869496e-01,  6.08645098e-01],\n",
              "       [ 8.10767703e-01, -3.86419192e-01, -4.39699829e-01],\n",
              "       [ 8.42881957e-01,  2.96663572e-02, -5.37280108e-01],\n",
              "       [ 8.36065213e-01, -4.66966234e-01,  2.87988709e-01]])"
            ]
          },
          "metadata": {
            "tags": []
          },
          "execution_count": 22
        }
      ]
    }
  ]
}