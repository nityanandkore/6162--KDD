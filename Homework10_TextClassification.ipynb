{
 "cells": [
  {
   "cell_type": "code",
   "execution_count": 87,
   "metadata": {},
   "outputs": [
    {
     "name": "stdout",
     "output_type": "stream",
     "text": [
      "Files in None: ['.ipynb_checkpoints', '16748.txt', '17108.txt', '17109.txt', '17110.txt', '17111.txt', '17116.txt', '17117.txt', '17118.txt', '17119.txt', '17139.txt', '17144.txt', '17145.txt', '17146.txt', '17147.txt', '17150.txt', '17185.txt', '17192.txt', '17219.txt', '17239.txt', '17243.txt', '17254.txt', '17255.txt', '17280.txt', '17300.txt', '17303.txt', '17341.txt', '17384.txt', '17391.txt', '17398.txt', '17399.txt', '17430.txt', '17431.txt', '17447.txt', '17457.txt', '17460.txt', '17501.txt', '17518.txt', '17532.txt', '17534.txt', '17578.txt', '17609.txt', '17610.txt', '17655.txt', '17662.txt', '17663.txt', '17695.txt', '17711.txt', '17713.txt', '17753.txt', '17757.txt', '17758.txt', '17761.txt', '17803.txt', '17811.txt', '17874.txt', '17879.txt', '17886.txt', '17896.txt', '17898.txt', '17902.txt', '17912.txt', '17933.txt', '17934.txt', '17945.txt', '17963.txt', '17971.txt', '17992.txt', '18004.txt', '18016.txt', '18032.txt', '18067.txt', '18068.txt', '18080.txt', '18087.txt', '18088.txt', '18136.txt', '18141.txt', '18156.txt', '18161.txt', '18181.txt', '18227.txt', '18263.txt', '18272.txt', '18273.txt', '18274.txt', '18282.txt', '18283.txt', '18307.txt', '18368.txt', '18375.txt', '18376.txt', '18396.txt', '18406.txt', '18413.txt', '18414.txt', '18447.txt', '18473.txt', '18480.txt', '18485.txt', '18498.txt', '1858.txt', '1859.txt', '1860.txt', '1864.txt', '1865.txt', '1866.txt', '1867.txt', '1889.txt', '1891.txt', '1908.txt', '1910.txt', '1911.txt', '1912.txt', '1916.txt', '1917.txt', '1921.txt', '1925.txt', '1928.txt', '1929.txt', '1930.txt', '1932.txt', '1934.txt', '1937.txt', '1943.txt', '1944.txt', '1945.txt', '1961.txt', '1967.txt', '1968.txt', '1974.txt', '1975.txt', '1976.txt', '1979.txt', '1981.txt', '1984.txt', '1985.txt', '1990.txt', '1991.txt', '1994.txt', '1998.txt', '2005.txt', '2006.txt', '2007.txt', '2008.txt', '2009.txt', '2025.txt', '2026.txt', '2030.txt', '2031.txt', '2033.txt', '2035.txt', '2036.txt', '2043.txt', '2045.txt', '2046.txt', '2051.txt', '2055.txt', '2058.txt', '2059.txt', '2062.txt', '2067.txt', '2076.txt', '2079.txt', '2080.txt', '2081.txt', '2085.txt', '2086.txt', '2087.txt', '2089.txt', '2090.txt', '2091.txt', '2094.txt', '2095.txt', '2098.txt', '2099.txt', '2101.txt', '2108.txt', '2110.txt', '2113.txt', '2115.txt']\n"
     ]
    }
   ],
   "source": [
    "import os\n",
    "\n",
    "cwd = os.getcwd()  # Get the current working directory (cwd)\n",
    "dirpath=os.chdir(\"C:/Users/P2190101/Desktop/NK Personal/NK Study/UNCC/6162 - KDD/KDD-Python-Assignments/MovieReviews/\")\n",
    "fileslist = os.listdir(dirpath)  # Get all the files in that directory\n",
    "print(\"Files in %r: %s\" % (dirpath, files))"
   ]
  },
  {
   "cell_type": "code",
   "execution_count": null,
   "metadata": {},
   "outputs": [],
   "source": [
    "import pandas as pd\n",
    "import re\n",
    "sub = 9999\n",
    "df_list= []\n",
    "#df = pd.DataFrame(columns=['Review','Writer'])\n",
    "for file in fileslist:\n",
    "    filecontent = open(file).read()\n",
    "    #print(filecontent)\n",
    "    flag= [int(i) for i in file.split('.') if i.isdigit()]\n",
    "    #print(flag)\n",
    "    for x in flag:\n",
    "            if sub >= x:\n",
    "                #print(x)\n",
    "                df_list.append([filecontent, 0])\n",
    "            if sub < x:\n",
    "                 df_list.append([filecontent, 1])          \n",
    "    \n",
    "df_list\n"
   ]
  },
  {
   "cell_type": "code",
   "execution_count": 101,
   "metadata": {},
   "outputs": [
    {
     "data": {
      "text/plain": [
       "list"
      ]
     },
     "execution_count": 101,
     "metadata": {},
     "output_type": "execute_result"
    }
   ],
   "source": [
    "type(df_list)"
   ]
  },
  {
   "cell_type": "code",
   "execution_count": 106,
   "metadata": {},
   "outputs": [
    {
     "data": {
      "text/plain": [
       "180"
      ]
     },
     "execution_count": 106,
     "metadata": {},
     "output_type": "execute_result"
    }
   ],
   "source": [
    "len(df_list)"
   ]
  },
  {
   "cell_type": "code",
   "execution_count": 107,
   "metadata": {},
   "outputs": [
    {
     "data": {
      "text/html": [
       "<div>\n",
       "<style scoped>\n",
       "    .dataframe tbody tr th:only-of-type {\n",
       "        vertical-align: middle;\n",
       "    }\n",
       "\n",
       "    .dataframe tbody tr th {\n",
       "        vertical-align: top;\n",
       "    }\n",
       "\n",
       "    .dataframe thead th {\n",
       "        text-align: right;\n",
       "    }\n",
       "</style>\n",
       "<table border=\"1\" class=\"dataframe\">\n",
       "  <thead>\n",
       "    <tr style=\"text-align: right;\">\n",
       "      <th></th>\n",
       "      <th>Review</th>\n",
       "      <th>Writer</th>\n",
       "    </tr>\n",
       "  </thead>\n",
       "  <tbody>\n",
       "    <tr>\n",
       "      <th>0</th>\n",
       "      <td>DENNIS SCHWARTZ \"Movie Reviews and Poetry\"\\nUN...</td>\n",
       "      <td>1</td>\n",
       "    </tr>\n",
       "    <tr>\n",
       "      <th>1</th>\n",
       "      <td>A brilliant, witty mock documentary of Jean Se...</td>\n",
       "      <td>1</td>\n",
       "    </tr>\n",
       "    <tr>\n",
       "      <th>2</th>\n",
       "      <td>NOSTALGHIA (director: Andrei Tarkovsky; cast: ...</td>\n",
       "      <td>1</td>\n",
       "    </tr>\n",
       "    <tr>\n",
       "      <th>3</th>\n",
       "      <td>PAYBACK (director: Brian Helgeland; cast:(Port...</td>\n",
       "      <td>1</td>\n",
       "    </tr>\n",
       "    <tr>\n",
       "      <th>4</th>\n",
       "      <td>WAKING NED DEVINE (director: Kirk Jones (III);...</td>\n",
       "      <td>1</td>\n",
       "    </tr>\n",
       "    <tr>\n",
       "      <th>...</th>\n",
       "      <td>...</td>\n",
       "      <td>...</td>\n",
       "    </tr>\n",
       "    <tr>\n",
       "      <th>175</th>\n",
       "      <td>Well, either CALENDAR GIRL is a blatant attemp...</td>\n",
       "      <td>0</td>\n",
       "    </tr>\n",
       "    <tr>\n",
       "      <th>176</th>\n",
       "      <td>For those who live in and around Philadelphia,...</td>\n",
       "      <td>0</td>\n",
       "    </tr>\n",
       "    <tr>\n",
       "      <th>177</th>\n",
       "      <td>Starring: Suzy Amis, Bo Hopkins, Ian McKellen,...</td>\n",
       "      <td>0</td>\n",
       "    </tr>\n",
       "    <tr>\n",
       "      <th>178</th>\n",
       "      <td>Starring: Jesse Bradford, Jeroen Krabbe, Lisa ...</td>\n",
       "      <td>0</td>\n",
       "    </tr>\n",
       "    <tr>\n",
       "      <th>179</th>\n",
       "      <td>Starring: Christian Slater, Patricia Arquette,...</td>\n",
       "      <td>0</td>\n",
       "    </tr>\n",
       "  </tbody>\n",
       "</table>\n",
       "<p>180 rows × 2 columns</p>\n",
       "</div>"
      ],
      "text/plain": [
       "                                                Review  Writer\n",
       "0    DENNIS SCHWARTZ \"Movie Reviews and Poetry\"\\nUN...       1\n",
       "1    A brilliant, witty mock documentary of Jean Se...       1\n",
       "2    NOSTALGHIA (director: Andrei Tarkovsky; cast: ...       1\n",
       "3    PAYBACK (director: Brian Helgeland; cast:(Port...       1\n",
       "4    WAKING NED DEVINE (director: Kirk Jones (III);...       1\n",
       "..                                                 ...     ...\n",
       "175  Well, either CALENDAR GIRL is a blatant attemp...       0\n",
       "176  For those who live in and around Philadelphia,...       0\n",
       "177  Starring: Suzy Amis, Bo Hopkins, Ian McKellen,...       0\n",
       "178  Starring: Jesse Bradford, Jeroen Krabbe, Lisa ...       0\n",
       "179  Starring: Christian Slater, Patricia Arquette,...       0\n",
       "\n",
       "[180 rows x 2 columns]"
      ]
     },
     "execution_count": 107,
     "metadata": {},
     "output_type": "execute_result"
    }
   ],
   "source": [
    "df = pd.DataFrame(df_list, columns =['Review','Writer']) \n",
    "df "
   ]
  },
  {
   "cell_type": "code",
   "execution_count": 108,
   "metadata": {},
   "outputs": [
    {
     "data": {
      "text/plain": [
       "array([1, 0], dtype=int64)"
      ]
     },
     "execution_count": 108,
     "metadata": {},
     "output_type": "execute_result"
    }
   ],
   "source": [
    "df.Writer.unique()"
   ]
  },
  {
   "cell_type": "code",
   "execution_count": 110,
   "metadata": {},
   "outputs": [],
   "source": [
    "# This is to vectorize the text corpus. After these codes, the X object will be the input vector for machine learning models.\n",
    "# When transform into vectors, we do NOT use the raw count of a word in a document. Instead, we use the word's tf-idf score in a document.\n",
    "# max_df=0.5 means ingoring words that appear in more than 50% of the documents; min_df=2 means ignoring words that appear in less than 2 documents.\n",
    "\n",
    "from sklearn.feature_extraction.text import TfidfVectorizer\n",
    "\n",
    "vectorizer = TfidfVectorizer(max_df=0.5, min_df=2, stop_words='english', use_idf=True)\n",
    "\n",
    "X = vectorizer.fit_transform(df.Review)"
   ]
  },
  {
   "cell_type": "code",
   "execution_count": 111,
   "metadata": {},
   "outputs": [],
   "source": [
    "#X in the previuos step is hidimentional data, we need to use some dimentionality reduction technique. In this case, we will use SVD (Singular Value Decomposition), which is a common matrix decomposition technique.\n",
    "#We want to reduce the dimentionality to 5.\n",
    "#We have to re-normalize after we run our SVD on the dataset.\n",
    "from sklearn.pipeline import make_pipeline\n",
    "from sklearn.decomposition import TruncatedSVD\n",
    "from sklearn.preprocessing import Normalizer\n",
    "\n",
    "n_components = 3\n",
    "svd = TruncatedSVD(n_components)\n",
    "normalizer = Normalizer(copy=False)\n",
    "lsa = make_pipeline(svd, normalizer)\n",
    "\n",
    "X = lsa.fit_transform(X)"
   ]
  },
  {
   "cell_type": "code",
   "execution_count": 112,
   "metadata": {},
   "outputs": [
    {
     "data": {
      "text/plain": [
       "array([[ 0.92676007,  0.37466333, -0.02726108],\n",
       "       [ 0.86809119,  0.48277909,  0.11550772],\n",
       "       [ 0.79731955,  0.51825264, -0.30934728],\n",
       "       [ 0.99647531,  0.07015954,  0.04598465],\n",
       "       [ 0.9297364 ,  0.19641039, -0.3114694 ],\n",
       "       [ 0.96530604,  0.23691166, -0.1098049 ],\n",
       "       [ 0.67303558,  0.72314318, -0.15520002],\n",
       "       [ 0.59080971,  0.65173726,  0.4755864 ],\n",
       "       [ 0.95300196,  0.25212777,  0.16798465],\n",
       "       [ 0.84362981,  0.47156071, -0.25674742],\n",
       "       [ 0.85510593,  0.39320137, -0.33791498],\n",
       "       [ 0.83497086,  0.4744951 ,  0.27870785],\n",
       "       [ 0.94619172,  0.24185741, -0.21500286],\n",
       "       [ 0.91125048,  0.40258961, -0.08685718],\n",
       "       [ 0.67805757,  0.43533742,  0.59221556],\n",
       "       [ 0.99053568,  0.1362142 ,  0.01687489],\n",
       "       [ 0.80046426,  0.49633596, -0.33601725],\n",
       "       [ 0.97972942,  0.19382622, -0.05061289],\n",
       "       [ 0.65865965,  0.55288434, -0.51037867],\n",
       "       [ 0.97756043,  0.20796979,  0.0335287 ],\n",
       "       [ 0.90968438,  0.39676421, -0.12268864],\n",
       "       [ 0.97677371,  0.07198256, -0.20182076],\n",
       "       [ 0.98331264,  0.15728444, -0.09142126],\n",
       "       [ 0.88278696,  0.44808588, -0.14108946],\n",
       "       [ 0.99376611, -0.11147385, -0.0015799 ],\n",
       "       [ 0.85501818,  0.48337411,  0.18786534],\n",
       "       [ 0.82368041,  0.50937947, -0.24916487],\n",
       "       [ 0.9116897 , -0.14680203,  0.38375912],\n",
       "       [ 0.95510111,  0.295892  , -0.01515908],\n",
       "       [ 0.90955637,  0.38847394, -0.14763202],\n",
       "       [ 0.96370986,  0.26066551, -0.05759166],\n",
       "       [ 0.89455791,  0.4224581 , -0.14592911],\n",
       "       [ 0.84189869,  0.51545136, -0.15973882],\n",
       "       [ 0.98966932, -0.11718225, -0.08260121],\n",
       "       [ 0.78742312,  0.43893678, -0.43278093],\n",
       "       [ 0.98701476,  0.0184124 ,  0.15957084],\n",
       "       [ 0.97445159,  0.09765903,  0.20225434],\n",
       "       [ 0.94938824,  0.2101719 , -0.2334304 ],\n",
       "       [ 0.97610811,  0.12128886, -0.18028305],\n",
       "       [ 0.96447082,  0.17840527, -0.19485273],\n",
       "       [ 0.94803985,  0.3040106 ,  0.09379763],\n",
       "       [ 0.77906516,  0.48301337, -0.39969434],\n",
       "       [ 0.93056706,  0.36301904, -0.04756171],\n",
       "       [ 0.91568844,  0.28846149, -0.27982967],\n",
       "       [ 0.92382553,  0.37253313, -0.08812185],\n",
       "       [ 0.93799301,  0.33020731, -0.10550948],\n",
       "       [ 0.98629296,  0.11900495,  0.11429795],\n",
       "       [ 0.92798142,  0.34668375, -0.13660475],\n",
       "       [ 0.98853896,  0.05316576, -0.14129445],\n",
       "       [ 0.88829934,  0.30618706, -0.34230653],\n",
       "       [ 0.88014455,  0.46813537,  0.07870736],\n",
       "       [ 0.94267785,  0.2391586 , -0.23272653],\n",
       "       [ 0.89772049,  0.43368483, -0.07755893],\n",
       "       [ 0.91110584,  0.35557878, -0.20844636],\n",
       "       [ 0.86558668,  0.47073074, -0.17079894],\n",
       "       [ 0.9799563 , -0.18386004,  0.0766886 ],\n",
       "       [ 0.88442009,  0.46602488,  0.02493836],\n",
       "       [ 0.96155014,  0.24176797, -0.1302673 ],\n",
       "       [ 0.23555775,  0.26118636,  0.93610589],\n",
       "       [ 0.23555775,  0.26118636,  0.93610589],\n",
       "       [ 0.94741681,  0.11351831, -0.29919055],\n",
       "       [ 0.90809855,  0.40256396,  0.11532253],\n",
       "       [ 0.93684817,  0.34772965,  0.03741128],\n",
       "       [ 0.9932817 ,  0.10926048,  0.03812634],\n",
       "       [ 0.95685063,  0.27817807, -0.08398711],\n",
       "       [ 0.77968811,  0.52920103, -0.33471291],\n",
       "       [ 0.96183401,  0.26198712, -0.07898158],\n",
       "       [ 0.85423079,  0.51964945, -0.01594374],\n",
       "       [ 0.55276863,  0.65495607,  0.51524692],\n",
       "       [ 0.93808557,  0.33952026, -0.06871288],\n",
       "       [ 0.94771667,  0.28053894, -0.15208886],\n",
       "       [ 0.84535786,  0.38792409, -0.36726691],\n",
       "       [ 0.73362203,  0.57535696, -0.36161179],\n",
       "       [ 0.89786729,  0.39757622, -0.18912291],\n",
       "       [ 0.72084554,  0.55041659, -0.42121644],\n",
       "       [ 0.88205551,  0.46643567, -0.06645175],\n",
       "       [ 0.89846475,  0.36572893, -0.24290627],\n",
       "       [ 0.86560537,  0.36774281, -0.33984197],\n",
       "       [ 0.79715584,  0.5837676 ,  0.15413617],\n",
       "       [ 0.82507764,  0.36456074, -0.43167389],\n",
       "       [ 0.85355312,  0.44553032, -0.27009222],\n",
       "       [ 0.86593424,  0.41799072, -0.27466644],\n",
       "       [ 0.9712791 ,  0.21082171, -0.11032278],\n",
       "       [ 0.94564662,  0.2512719 , -0.20643375],\n",
       "       [ 0.76711663,  0.5342389 , -0.35513501],\n",
       "       [ 0.90728116,  0.32410374, -0.26795086],\n",
       "       [ 0.8504444 ,  0.34528886, -0.39688781],\n",
       "       [ 0.85548118,  0.46893549, -0.21966214],\n",
       "       [ 0.99902974, -0.02871804,  0.03338952],\n",
       "       [ 0.93901948,  0.33403207,  0.08163943],\n",
       "       [ 0.84689772,  0.51479239, -0.13324058],\n",
       "       [ 0.68217838,  0.70241694, -0.20308398],\n",
       "       [ 0.88126843,  0.39142777,  0.26485894],\n",
       "       [ 0.99660114,  0.07930992,  0.02227338],\n",
       "       [ 0.80361564,  0.51464632, -0.29889977],\n",
       "       [ 0.79606875,  0.41404831, -0.44140518],\n",
       "       [ 0.94669322,  0.320947  ,  0.02765815],\n",
       "       [ 0.72792284,  0.51987202, -0.44705864],\n",
       "       [ 0.98657611,  0.06153727, -0.15126383],\n",
       "       [ 0.92323087,  0.38258979, -0.03563436],\n",
       "       [ 0.91781501, -0.39567125,  0.03255565],\n",
       "       [ 0.98351727, -0.11906939, -0.13607449],\n",
       "       [ 0.82299398, -0.56189554,  0.08339256],\n",
       "       [ 0.88055483, -0.44237712,  0.17007549],\n",
       "       [ 0.82869204, -0.52402928,  0.19662863],\n",
       "       [ 0.84668906, -0.51486218,  0.13429284],\n",
       "       [ 0.86031591, -0.50826744,  0.03899679],\n",
       "       [ 0.73340485, -0.67857001,  0.04074396],\n",
       "       [ 0.91012738, -0.41205647, -0.04333149],\n",
       "       [ 0.90510351, -0.42391347, -0.03293944],\n",
       "       [ 0.84359695, -0.53051207, -0.0830731 ],\n",
       "       [ 0.84520632, -0.51574445,  0.14012115],\n",
       "       [ 0.84611731, -0.5311794 , -0.04397659],\n",
       "       [ 0.92361353, -0.37703694,  0.06914617],\n",
       "       [ 0.77532771, -0.62982373,  0.04678689],\n",
       "       [ 0.79875794, -0.5895315 ,  0.12015974],\n",
       "       [ 0.83989046, -0.53272217,  0.10388024],\n",
       "       [ 0.86131365, -0.45720001,  0.22160086],\n",
       "       [ 0.93100117, -0.33436557, -0.14641202],\n",
       "       [ 0.83196884, -0.55324725, -0.04177718],\n",
       "       [ 0.7148127 , -0.67364254,  0.18774593],\n",
       "       [ 0.88164197, -0.47185461, -0.00778867],\n",
       "       [ 0.82575552, -0.53766457,  0.17042489],\n",
       "       [ 0.93483822, -0.20070177, -0.29291006],\n",
       "       [ 0.78638078, -0.60158926,  0.14034113],\n",
       "       [ 0.79966039, -0.59625751,  0.07085359],\n",
       "       [ 0.78228686, -0.60065268,  0.16505645],\n",
       "       [ 0.92697428, -0.37447062,  0.02214582],\n",
       "       [ 0.89090415, -0.45408185, -0.00997314],\n",
       "       [ 0.84864184, -0.52736812, -0.0411082 ],\n",
       "       [ 0.8828729 , -0.31818291, -0.3453912 ],\n",
       "       [ 0.97351251, -0.22066284, -0.05984404],\n",
       "       [ 0.87917296, -0.47589177,  0.02412328],\n",
       "       [ 0.79801761, -0.60040832,  0.05174684],\n",
       "       [ 0.91640702, -0.39223563,  0.07968303],\n",
       "       [ 0.9203655 , -0.29298795,  0.25900852],\n",
       "       [ 0.90093325, -0.42892417, -0.06590402],\n",
       "       [ 0.86560805, -0.49704586,  0.06056495],\n",
       "       [ 0.89916596, -0.42111153, -0.1190196 ],\n",
       "       [ 0.87150514, -0.47526922,  0.12082203],\n",
       "       [ 0.75811362, -0.64166217,  0.11633316],\n",
       "       [ 0.8019679 , -0.59723034,  0.01278304],\n",
       "       [ 0.8838974 , -0.45684141, -0.10010653],\n",
       "       [ 0.78685119, -0.61701865,  0.01237689],\n",
       "       [ 0.8325947 , -0.48142374,  0.27389277],\n",
       "       [ 0.85023068, -0.50828119,  0.13695993],\n",
       "       [ 0.82121534, -0.47681789,  0.31344866],\n",
       "       [ 0.95190221, -0.3058667 ,  0.01810392],\n",
       "       [ 0.86475405, -0.49719866,  0.07066767],\n",
       "       [ 0.93790439, -0.344576  , -0.04003416],\n",
       "       [ 0.88911321, -0.43233963,  0.15020036],\n",
       "       [ 0.9352634 , -0.3512297 ,  0.04381863],\n",
       "       [ 0.88756328, -0.4384308 ,  0.1414562 ],\n",
       "       [ 0.83369716, -0.47082831,  0.28856497],\n",
       "       [ 0.94203241, -0.33501675,  0.01840411],\n",
       "       [ 0.91666085, -0.38575583,  0.10452431],\n",
       "       [ 0.95072702, -0.21963552, -0.21881129],\n",
       "       [ 0.83833762, -0.54513499,  0.00422908],\n",
       "       [ 0.90569074, -0.42060892, -0.05303215],\n",
       "       [ 0.95084982, -0.26386986, -0.16204111],\n",
       "       [ 0.9351788 , -0.14052413,  0.3251055 ],\n",
       "       [ 0.97526727, -0.17782637,  0.13126896],\n",
       "       [ 0.85483844, -0.50325331,  0.1264411 ],\n",
       "       [ 0.93235085, -0.34428325,  0.11041256],\n",
       "       [ 0.85058594, -0.52524646,  0.02489431],\n",
       "       [ 0.88010622, -0.42855921, -0.20432827],\n",
       "       [ 0.88706418, -0.46078095, -0.02824986],\n",
       "       [ 0.86015737, -0.51001667, -0.00350474],\n",
       "       [ 0.85698108, -0.50852777,  0.083564  ],\n",
       "       [ 0.94423365, -0.30761813,  0.11744741],\n",
       "       [ 0.83499012, -0.55010034, -0.01345812],\n",
       "       [ 0.89806902, -0.43638136, -0.05516647],\n",
       "       [ 0.99463104, -0.08294554,  0.06187991],\n",
       "       [ 0.83136312, -0.50225225,  0.23786138],\n",
       "       [ 0.84656064, -0.52197565,  0.10429042],\n",
       "       [ 0.9527423 , -0.278594  ,  0.12110944],\n",
       "       [ 0.96200555, -0.26468237, -0.06699671],\n",
       "       [ 0.88074126, -0.47222508, -0.03603188],\n",
       "       [ 0.96014714,  0.00254025, -0.27948348],\n",
       "       [ 0.85045519, -0.48844562,  0.1953122 ]])"
      ]
     },
     "execution_count": 112,
     "metadata": {},
     "output_type": "execute_result"
    }
   ],
   "source": [
    "X"
   ]
  },
  {
   "cell_type": "code",
   "execution_count": 113,
   "metadata": {},
   "outputs": [
    {
     "data": {
      "text/plain": [
       "(180, 3)"
      ]
     },
     "execution_count": 113,
     "metadata": {},
     "output_type": "execute_result"
    }
   ],
   "source": [
    "X.shape"
   ]
  },
  {
   "cell_type": "code",
   "execution_count": 114,
   "metadata": {},
   "outputs": [],
   "source": [
    "#Randomly select 80% (180*80% = 144) rows from X as the training set\n",
    "import numpy as np\n",
    "training_idx = np.random.choice(X.shape[0], size=144, replace=False)\n",
    "X_training = X[training_idx, :]"
   ]
  },
  {
   "cell_type": "code",
   "execution_count": 115,
   "metadata": {},
   "outputs": [],
   "source": [
    "#The remaining is the test set\n",
    "test_idx = list(set(range(X.shape[0])) - set(training_idx))\n",
    "X_test = X[test_idx, :]"
   ]
  },
  {
   "cell_type": "code",
   "execution_count": 117,
   "metadata": {},
   "outputs": [],
   "source": [
    "labels = df.Writer"
   ]
  },
  {
   "cell_type": "code",
   "execution_count": 118,
   "metadata": {},
   "outputs": [
    {
     "data": {
      "text/plain": [
       "0      1\n",
       "1      1\n",
       "2      1\n",
       "3      1\n",
       "4      1\n",
       "      ..\n",
       "175    0\n",
       "176    0\n",
       "177    0\n",
       "178    0\n",
       "179    0\n",
       "Name: Writer, Length: 180, dtype: int64"
      ]
     },
     "execution_count": 118,
     "metadata": {},
     "output_type": "execute_result"
    }
   ],
   "source": [
    "labels"
   ]
  },
  {
   "cell_type": "code",
   "execution_count": 119,
   "metadata": {},
   "outputs": [],
   "source": [
    "#The same split for the labels list\n",
    "labels_training = [labels[i] for i in training_idx]\n",
    "labels_test = [labels[j] for j in test_idx]"
   ]
  },
  {
   "cell_type": "code",
   "execution_count": 120,
   "metadata": {},
   "outputs": [
    {
     "data": {
      "text/plain": [
       "GaussianNB(priors=None, var_smoothing=1e-09)"
      ]
     },
     "execution_count": 120,
     "metadata": {},
     "output_type": "execute_result"
    }
   ],
   "source": [
    "#This is to use Naive Bayes Classifier to predict the label of each news article.\n",
    "from sklearn.naive_bayes import GaussianNB\n",
    "gnb = GaussianNB()\n",
    "gnb.fit(X_training, labels_training)"
   ]
  },
  {
   "cell_type": "code",
   "execution_count": 121,
   "metadata": {},
   "outputs": [
    {
     "data": {
      "text/plain": [
       "array([1, 1, 1, 0, 0, 1, 1, 0, 1, 0, 1, 1, 0, 1, 1, 0, 1, 1, 0, 0, 1, 1,\n",
       "       1, 1, 1, 1, 1, 1, 1, 1, 1, 0, 0, 0, 0, 0], dtype=int64)"
      ]
     },
     "execution_count": 121,
     "metadata": {},
     "output_type": "execute_result"
    }
   ],
   "source": [
    "#This is the prediction result.\n",
    "gnb.predict(X_test)"
   ]
  },
  {
   "cell_type": "code",
   "execution_count": 122,
   "metadata": {},
   "outputs": [
    {
     "data": {
      "text/plain": [
       "array([[12,  1],\n",
       "       [ 0, 23]], dtype=int64)"
      ]
     },
     "execution_count": 122,
     "metadata": {},
     "output_type": "execute_result"
    }
   ],
   "source": [
    "#This is the confusion matrix.\n",
    "import sklearn.metrics\n",
    "sklearn.metrics.confusion_matrix(gnb.predict(X_test),labels_test)"
   ]
  },
  {
   "cell_type": "code",
   "execution_count": 123,
   "metadata": {},
   "outputs": [
    {
     "data": {
      "text/plain": [
       "0.9722222222222222"
      ]
     },
     "execution_count": 123,
     "metadata": {},
     "output_type": "execute_result"
    }
   ],
   "source": [
    "#This is the accuracy score.\n",
    "sklearn.metrics.accuracy_score(gnb.predict(X_test),labels_test)"
   ]
  },
  {
   "cell_type": "code",
   "execution_count": null,
   "metadata": {},
   "outputs": [],
   "source": []
  }
 ],
 "metadata": {
  "kernelspec": {
   "display_name": "Python 3",
   "language": "python",
   "name": "python3"
  },
  "language_info": {
   "codemirror_mode": {
    "name": "ipython",
    "version": 3
   },
   "file_extension": ".py",
   "mimetype": "text/x-python",
   "name": "python",
   "nbconvert_exporter": "python",
   "pygments_lexer": "ipython3",
   "version": "3.7.4"
  }
 },
 "nbformat": 4,
 "nbformat_minor": 4
}
