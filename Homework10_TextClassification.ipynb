{
  "nbformat": 4,
  "nbformat_minor": 0,
  "metadata": {
    "colab": {
      "name": "Homework10_TextClassification.ipynb",
      "provenance": [],
      "authorship_tag": "ABX9TyNt1FiOIHl7nsh3Caqkpxrp",
      "include_colab_link": true
    },
    "kernelspec": {
      "name": "python3",
      "display_name": "Python 3"
    }
  },
  "cells": [
    {
      "cell_type": "markdown",
      "metadata": {
        "id": "view-in-github",
        "colab_type": "text"
      },
      "source": [
        "<a href=\"https://colab.research.google.com/github/nityanandkore/6162-KDD/blob/master/Homework10_TextClassification.ipynb\" target=\"_parent\"><img src=\"https://colab.research.google.com/assets/colab-badge.svg\" alt=\"Open In Colab\"/></a>"
      ]
    },
    {
      "cell_type": "code",
      "metadata": {
        "id": "gbbCiKSPaDE9",
        "colab_type": "code",
        "colab": {
          "base_uri": "https://localhost:8080/",
          "height": 136
        },
        "outputId": "dbbaf683-e2d1-4f7d-b0c6-6d377ef56b6b"
      },
      "source": [
        "!rm -rf 6162-KDD\n",
        "!git clone https://github.com/nityanandkore/6162-KDD.git"
      ],
      "execution_count": 1,
      "outputs": [
        {
          "output_type": "stream",
          "text": [
            "Cloning into '6162-KDD'...\n",
            "remote: Enumerating objects: 23, done.\u001b[K\n",
            "remote: Counting objects: 100% (23/23), done.\u001b[K\n",
            "remote: Compressing objects: 100% (23/23), done.\u001b[K\n",
            "remote: Total 152 (delta 12), reused 0 (delta 0), pack-reused 129\u001b[K\n",
            "Receiving objects: 100% (152/152), 26.37 MiB | 36.09 MiB/s, done.\n",
            "Resolving deltas: 100% (78/78), done.\n"
          ],
          "name": "stdout"
        }
      ]
    },
    {
      "cell_type": "code",
      "metadata": {
        "id": "EDY99TZTaNCs",
        "colab_type": "code",
        "colab": {}
      },
      "source": [
        "from zipfile import ZipFile\n",
        "\n",
        "# Create a ZipFile Object and load sample.zip in it\n",
        "with ZipFile('6162-KDD/DataSet/MovieReviews.zip', 'r') as zipObj:\n",
        "# Extract all the contents of zip file in current directory\n",
        "      zipObj.extractall('6162-KDD/DataSet/')"
      ],
      "execution_count": 0,
      "outputs": []
    },
    {
      "cell_type": "code",
      "metadata": {
        "id": "xfLgiksyaO16",
        "colab_type": "code",
        "colab": {
          "base_uri": "https://localhost:8080/",
          "height": 459
        },
        "outputId": "43dcf4fb-93d0-40be-e15b-a9efc7dcd192"
      },
      "source": [
        "!ls 6162-KDD/DataSet/MovieReviews"
      ],
      "execution_count": 3,
      "outputs": [
        {
          "output_type": "stream",
          "text": [
            "16748.txt  17384.txt  17803.txt  18161.txt  1865.txt  1975.txt\t2055.txt\n",
            "17108.txt  17391.txt  17811.txt  18181.txt  1866.txt  1976.txt\t2058.txt\n",
            "17109.txt  17398.txt  17874.txt  18227.txt  1867.txt  1979.txt\t2059.txt\n",
            "17110.txt  17399.txt  17879.txt  18263.txt  1889.txt  1981.txt\t2062.txt\n",
            "17111.txt  17430.txt  17886.txt  18272.txt  1891.txt  1984.txt\t2067.txt\n",
            "17116.txt  17431.txt  17896.txt  18273.txt  1908.txt  1985.txt\t2076.txt\n",
            "17117.txt  17447.txt  17898.txt  18274.txt  1910.txt  1990.txt\t2079.txt\n",
            "17118.txt  17457.txt  17902.txt  18282.txt  1911.txt  1991.txt\t2080.txt\n",
            "17119.txt  17460.txt  17912.txt  18283.txt  1912.txt  1994.txt\t2081.txt\n",
            "17139.txt  17501.txt  17933.txt  18307.txt  1916.txt  1998.txt\t2085.txt\n",
            "17144.txt  17518.txt  17934.txt  18368.txt  1917.txt  2005.txt\t2086.txt\n",
            "17145.txt  17532.txt  17945.txt  18375.txt  1921.txt  2006.txt\t2087.txt\n",
            "17146.txt  17534.txt  17963.txt  18376.txt  1925.txt  2007.txt\t2089.txt\n",
            "17147.txt  17578.txt  17971.txt  18396.txt  1928.txt  2008.txt\t2090.txt\n",
            "17150.txt  17609.txt  17992.txt  18406.txt  1929.txt  2009.txt\t2091.txt\n",
            "17185.txt  17610.txt  18004.txt  18413.txt  1930.txt  2025.txt\t2094.txt\n",
            "17192.txt  17655.txt  18016.txt  18414.txt  1932.txt  2026.txt\t2095.txt\n",
            "17219.txt  17662.txt  18032.txt  18447.txt  1934.txt  2030.txt\t2098.txt\n",
            "17239.txt  17663.txt  18067.txt  18473.txt  1937.txt  2031.txt\t2099.txt\n",
            "17243.txt  17695.txt  18068.txt  18480.txt  1943.txt  2033.txt\t2101.txt\n",
            "17254.txt  17711.txt  18080.txt  18485.txt  1944.txt  2035.txt\t2108.txt\n",
            "17255.txt  17713.txt  18087.txt  18498.txt  1945.txt  2036.txt\t2110.txt\n",
            "17280.txt  17753.txt  18088.txt  1858.txt   1961.txt  2043.txt\t2113.txt\n",
            "17300.txt  17757.txt  18136.txt  1859.txt   1967.txt  2045.txt\t2115.txt\n",
            "17303.txt  17758.txt  18141.txt  1860.txt   1968.txt  2046.txt\n",
            "17341.txt  17761.txt  18156.txt  1864.txt   1974.txt  2051.txt\n"
          ],
          "name": "stdout"
        }
      ]
    },
    {
      "cell_type": "code",
      "metadata": {
        "id": "xqdp3trCaQcr",
        "colab_type": "code",
        "colab": {
          "base_uri": "https://localhost:8080/",
          "height": 1000
        },
        "outputId": "4799b282-2c29-45fe-c790-e6e5be9c6d06"
      },
      "source": [
        "from nltk.corpus import PlaintextCorpusReader\n",
        "corpus_root = '6162-KDD/DataSet/MovieReviews' \n",
        "filelists = PlaintextCorpusReader(corpus_root, '.*',encoding='latin-1')\n",
        "filelists.fileids()"
      ],
      "execution_count": 4,
      "outputs": [
        {
          "output_type": "execute_result",
          "data": {
            "text/plain": [
              "['16748.txt',\n",
              " '17108.txt',\n",
              " '17109.txt',\n",
              " '17110.txt',\n",
              " '17111.txt',\n",
              " '17116.txt',\n",
              " '17117.txt',\n",
              " '17118.txt',\n",
              " '17119.txt',\n",
              " '17139.txt',\n",
              " '17144.txt',\n",
              " '17145.txt',\n",
              " '17146.txt',\n",
              " '17147.txt',\n",
              " '17150.txt',\n",
              " '17185.txt',\n",
              " '17192.txt',\n",
              " '17219.txt',\n",
              " '17239.txt',\n",
              " '17243.txt',\n",
              " '17254.txt',\n",
              " '17255.txt',\n",
              " '17280.txt',\n",
              " '17300.txt',\n",
              " '17303.txt',\n",
              " '17341.txt',\n",
              " '17384.txt',\n",
              " '17391.txt',\n",
              " '17398.txt',\n",
              " '17399.txt',\n",
              " '17430.txt',\n",
              " '17431.txt',\n",
              " '17447.txt',\n",
              " '17457.txt',\n",
              " '17460.txt',\n",
              " '17501.txt',\n",
              " '17518.txt',\n",
              " '17532.txt',\n",
              " '17534.txt',\n",
              " '17578.txt',\n",
              " '17609.txt',\n",
              " '17610.txt',\n",
              " '17655.txt',\n",
              " '17662.txt',\n",
              " '17663.txt',\n",
              " '17695.txt',\n",
              " '17711.txt',\n",
              " '17713.txt',\n",
              " '17753.txt',\n",
              " '17757.txt',\n",
              " '17758.txt',\n",
              " '17761.txt',\n",
              " '17803.txt',\n",
              " '17811.txt',\n",
              " '17874.txt',\n",
              " '17879.txt',\n",
              " '17886.txt',\n",
              " '17896.txt',\n",
              " '17898.txt',\n",
              " '17902.txt',\n",
              " '17912.txt',\n",
              " '17933.txt',\n",
              " '17934.txt',\n",
              " '17945.txt',\n",
              " '17963.txt',\n",
              " '17971.txt',\n",
              " '17992.txt',\n",
              " '18004.txt',\n",
              " '18016.txt',\n",
              " '18032.txt',\n",
              " '18067.txt',\n",
              " '18068.txt',\n",
              " '18080.txt',\n",
              " '18087.txt',\n",
              " '18088.txt',\n",
              " '18136.txt',\n",
              " '18141.txt',\n",
              " '18156.txt',\n",
              " '18161.txt',\n",
              " '18181.txt',\n",
              " '18227.txt',\n",
              " '18263.txt',\n",
              " '18272.txt',\n",
              " '18273.txt',\n",
              " '18274.txt',\n",
              " '18282.txt',\n",
              " '18283.txt',\n",
              " '18307.txt',\n",
              " '18368.txt',\n",
              " '18375.txt',\n",
              " '18376.txt',\n",
              " '18396.txt',\n",
              " '18406.txt',\n",
              " '18413.txt',\n",
              " '18414.txt',\n",
              " '18447.txt',\n",
              " '18473.txt',\n",
              " '18480.txt',\n",
              " '18485.txt',\n",
              " '18498.txt',\n",
              " '1858.txt',\n",
              " '1859.txt',\n",
              " '1860.txt',\n",
              " '1864.txt',\n",
              " '1865.txt',\n",
              " '1866.txt',\n",
              " '1867.txt',\n",
              " '1889.txt',\n",
              " '1891.txt',\n",
              " '1908.txt',\n",
              " '1910.txt',\n",
              " '1911.txt',\n",
              " '1912.txt',\n",
              " '1916.txt',\n",
              " '1917.txt',\n",
              " '1921.txt',\n",
              " '1925.txt',\n",
              " '1928.txt',\n",
              " '1929.txt',\n",
              " '1930.txt',\n",
              " '1932.txt',\n",
              " '1934.txt',\n",
              " '1937.txt',\n",
              " '1943.txt',\n",
              " '1944.txt',\n",
              " '1945.txt',\n",
              " '1961.txt',\n",
              " '1967.txt',\n",
              " '1968.txt',\n",
              " '1974.txt',\n",
              " '1975.txt',\n",
              " '1976.txt',\n",
              " '1979.txt',\n",
              " '1981.txt',\n",
              " '1984.txt',\n",
              " '1985.txt',\n",
              " '1990.txt',\n",
              " '1991.txt',\n",
              " '1994.txt',\n",
              " '1998.txt',\n",
              " '2005.txt',\n",
              " '2006.txt',\n",
              " '2007.txt',\n",
              " '2008.txt',\n",
              " '2009.txt',\n",
              " '2025.txt',\n",
              " '2026.txt',\n",
              " '2030.txt',\n",
              " '2031.txt',\n",
              " '2033.txt',\n",
              " '2035.txt',\n",
              " '2036.txt',\n",
              " '2043.txt',\n",
              " '2045.txt',\n",
              " '2046.txt',\n",
              " '2051.txt',\n",
              " '2055.txt',\n",
              " '2058.txt',\n",
              " '2059.txt',\n",
              " '2062.txt',\n",
              " '2067.txt',\n",
              " '2076.txt',\n",
              " '2079.txt',\n",
              " '2080.txt',\n",
              " '2081.txt',\n",
              " '2085.txt',\n",
              " '2086.txt',\n",
              " '2087.txt',\n",
              " '2089.txt',\n",
              " '2090.txt',\n",
              " '2091.txt',\n",
              " '2094.txt',\n",
              " '2095.txt',\n",
              " '2098.txt',\n",
              " '2099.txt',\n",
              " '2101.txt',\n",
              " '2108.txt',\n",
              " '2110.txt',\n",
              " '2113.txt',\n",
              " '2115.txt']"
            ]
          },
          "metadata": {
            "tags": []
          },
          "execution_count": 4
        }
      ]
    },
    {
      "cell_type": "code",
      "metadata": {
        "id": "p364i2efaTO8",
        "colab_type": "code",
        "colab": {}
      },
      "source": [
        "#create a list of news articles\n",
        "news = []\n",
        "for fileid in filelists.fileids():\n",
        "    news.append(filelists.raw(fileid))"
      ],
      "execution_count": 0,
      "outputs": []
    },
    {
      "cell_type": "code",
      "metadata": {
        "id": "R3SOKS9PaVpK",
        "colab_type": "code",
        "colab": {}
      },
      "source": [
        "news"
      ],
      "execution_count": 0,
      "outputs": []
    },
    {
      "cell_type": "code",
      "metadata": {
        "id": "x5HoeAQ5aewk",
        "colab_type": "code",
        "colab": {}
      },
      "source": [
        ""
      ],
      "execution_count": 0,
      "outputs": []
    }
  ]
}